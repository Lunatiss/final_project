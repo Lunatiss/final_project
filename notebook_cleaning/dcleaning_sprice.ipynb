{
 "cells": [
  {
   "cell_type": "code",
   "execution_count": 1,
   "id": "ec254702",
   "metadata": {},
   "outputs": [],
   "source": [
    "import pandas as pd\n",
    "from unidecode import unidecode\n",
    "import re\n",
    "import ast\n",
    "import numpy as np\n",
    "from wordcloud import WordCloud\n",
    "import matplotlib.pyplot as plt"
   ]
  },
  {
   "cell_type": "code",
   "execution_count": 2,
   "id": "1901af98",
   "metadata": {},
   "outputs": [],
   "source": [
    "import warnings\n",
    "\n",
    "#Suppress all warnings\n",
    "warnings.filterwarnings(\"ignore\")\n"
   ]
  },
  {
   "cell_type": "code",
   "execution_count": 3,
   "id": "1f1ac1cf",
   "metadata": {},
   "outputs": [],
   "source": [
    "# Remove accents with unidecode\n",
    "def remove_accents(text):\n",
    "    if isinstance(text, str):\n",
    "        return unidecode(text)\n",
    "    return text"
   ]
  },
  {
   "cell_type": "markdown",
   "id": "119dbd3b",
   "metadata": {},
   "source": [
    "## DF SPECIAL PRICES:"
   ]
  },
  {
   "cell_type": "code",
   "execution_count": 4,
   "id": "37b4e7a5",
   "metadata": {},
   "outputs": [],
   "source": [
    "sp = pd.read_csv(\"/Users/admin/Desktop/IRONHACK/8.WEEK/final_project/notebooks/datos/final_categorias/special-prices.csv\")\n",
    "\n",
    "sp.reset_index(inplace = True)"
   ]
  },
  {
   "cell_type": "code",
   "execution_count": 5,
   "id": "94c6f829",
   "metadata": {},
   "outputs": [],
   "source": [
    "sp = sp.dropna(subset=['product_name'])\n",
    "\n",
    "sp.drop(columns=['Unnamed: 0'], inplace=True)\n",
    "\n",
    "# Aplicar la función a todo el DataFrame\n",
    "sp = sp.applymap(remove_accents)"
   ]
  },
  {
   "cell_type": "code",
   "execution_count": 6,
   "id": "0f2784e7",
   "metadata": {},
   "outputs": [
    {
     "data": {
      "text/plain": [
       "(262, 5)"
      ]
     },
     "execution_count": 6,
     "metadata": {},
     "output_type": "execute_result"
    }
   ],
   "source": [
    "sp.shape"
   ]
  },
  {
   "cell_type": "code",
   "execution_count": 7,
   "id": "4699b7b6",
   "metadata": {},
   "outputs": [
    {
     "data": {
      "text/html": [
       "<div>\n",
       "<style scoped>\n",
       "    .dataframe tbody tr th:only-of-type {\n",
       "        vertical-align: middle;\n",
       "    }\n",
       "\n",
       "    .dataframe tbody tr th {\n",
       "        vertical-align: top;\n",
       "    }\n",
       "\n",
       "    .dataframe thead th {\n",
       "        text-align: right;\n",
       "    }\n",
       "</style>\n",
       "<table border=\"1\" class=\"dataframe\">\n",
       "  <thead>\n",
       "    <tr style=\"text-align: right;\">\n",
       "      <th></th>\n",
       "      <th>index</th>\n",
       "      <th>product_name</th>\n",
       "      <th>normal_price</th>\n",
       "      <th>special_price</th>\n",
       "      <th>description</th>\n",
       "    </tr>\n",
       "  </thead>\n",
       "  <tbody>\n",
       "    <tr>\n",
       "      <th>0</th>\n",
       "      <td>0</td>\n",
       "      <td>['VESTIDO CAMISERO POPELIN ANUDADO ZW COLLECTI...</td>\n",
       "      <td>49,95 EUR</td>\n",
       "      <td>25,99 EUR</td>\n",
       "      <td>['COMPOSICION, CUIDADOS &amp; ORIGENCOMPOSICIONTra...</td>\n",
       "    </tr>\n",
       "    <tr>\n",
       "      <th>1</th>\n",
       "      <td>1</td>\n",
       "      <td>['CAMISA PLIEGUES CINTURON ZW COLLECTION']</td>\n",
       "      <td>29,95 EUR</td>\n",
       "      <td>17,99 EUR</td>\n",
       "      <td>['COMPOSICION, CUIDADOS &amp; ORIGENCOMPOSICIONTra...</td>\n",
       "    </tr>\n",
       "    <tr>\n",
       "      <th>2</th>\n",
       "      <td>2</td>\n",
       "      <td>['PANTALON FLARE BOLSILLOS ZW COLLECTION']</td>\n",
       "      <td>29,95 EUR</td>\n",
       "      <td>17,99 EUR</td>\n",
       "      <td>['COMPOSICION, CUIDADOS &amp; ORIGENCOMPOSICIONTra...</td>\n",
       "    </tr>\n",
       "    <tr>\n",
       "      <th>3</th>\n",
       "      <td>3</td>\n",
       "      <td>['JEANS ZW COLLECTION MARINE STRAIGHT TIRO ALTO']</td>\n",
       "      <td>29,95 EUR</td>\n",
       "      <td>17,99 EUR</td>\n",
       "      <td>['COMPOSICION, CUIDADOS &amp; ORIGENCOMPOSICIONTra...</td>\n",
       "    </tr>\n",
       "    <tr>\n",
       "      <th>4</th>\n",
       "      <td>4</td>\n",
       "      <td>['VESTIDO ESTAMPADO ZW COLLECTION']</td>\n",
       "      <td>39,95 EUR</td>\n",
       "      <td>25,99 EUR</td>\n",
       "      <td>['COMPOSICION, CUIDADOS &amp; ORIGENCOMPOSICIONTra...</td>\n",
       "    </tr>\n",
       "  </tbody>\n",
       "</table>\n",
       "</div>"
      ],
      "text/plain": [
       "   index                                       product_name normal_price  \\\n",
       "0      0  ['VESTIDO CAMISERO POPELIN ANUDADO ZW COLLECTI...    49,95 EUR   \n",
       "1      1         ['CAMISA PLIEGUES CINTURON ZW COLLECTION']    29,95 EUR   \n",
       "2      2         ['PANTALON FLARE BOLSILLOS ZW COLLECTION']    29,95 EUR   \n",
       "3      3  ['JEANS ZW COLLECTION MARINE STRAIGHT TIRO ALTO']    29,95 EUR   \n",
       "4      4                ['VESTIDO ESTAMPADO ZW COLLECTION']    39,95 EUR   \n",
       "\n",
       "  special_price                                        description  \n",
       "0     25,99 EUR  ['COMPOSICION, CUIDADOS & ORIGENCOMPOSICIONTra...  \n",
       "1     17,99 EUR  ['COMPOSICION, CUIDADOS & ORIGENCOMPOSICIONTra...  \n",
       "2     17,99 EUR  ['COMPOSICION, CUIDADOS & ORIGENCOMPOSICIONTra...  \n",
       "3     17,99 EUR  ['COMPOSICION, CUIDADOS & ORIGENCOMPOSICIONTra...  \n",
       "4     25,99 EUR  ['COMPOSICION, CUIDADOS & ORIGENCOMPOSICIONTra...  "
      ]
     },
     "execution_count": 7,
     "metadata": {},
     "output_type": "execute_result"
    }
   ],
   "source": [
    "sp.head()"
   ]
  },
  {
   "cell_type": "markdown",
   "id": "8a58a415",
   "metadata": {},
   "source": [
    "### Clean and create new columns"
   ]
  },
  {
   "cell_type": "code",
   "execution_count": 8,
   "id": "1edc4539",
   "metadata": {},
   "outputs": [],
   "source": [
    "# Define una función para limpiar el texto\n",
    "def limpiar_texto(texto):\n",
    "    return texto.strip(\"[]'\")\n",
    "\n",
    "# Aplica la función a la columna 'descripcion' usando apply y una función lambda\n",
    "sp['product_name'] = sp['product_name'].apply(lambda x: limpiar_texto(x))"
   ]
  },
  {
   "cell_type": "code",
   "execution_count": 9,
   "id": "7f212536",
   "metadata": {},
   "outputs": [
    {
     "data": {
      "text/html": [
       "<div>\n",
       "<style scoped>\n",
       "    .dataframe tbody tr th:only-of-type {\n",
       "        vertical-align: middle;\n",
       "    }\n",
       "\n",
       "    .dataframe tbody tr th {\n",
       "        vertical-align: top;\n",
       "    }\n",
       "\n",
       "    .dataframe thead th {\n",
       "        text-align: right;\n",
       "    }\n",
       "</style>\n",
       "<table border=\"1\" class=\"dataframe\">\n",
       "  <thead>\n",
       "    <tr style=\"text-align: right;\">\n",
       "      <th></th>\n",
       "      <th>index</th>\n",
       "      <th>product_name</th>\n",
       "      <th>normal_price</th>\n",
       "      <th>special_price</th>\n",
       "      <th>description</th>\n",
       "    </tr>\n",
       "  </thead>\n",
       "  <tbody>\n",
       "    <tr>\n",
       "      <th>0</th>\n",
       "      <td>0</td>\n",
       "      <td>VESTIDO CAMISERO POPELIN ANUDADO ZW COLLECTION</td>\n",
       "      <td>49,95 EUR</td>\n",
       "      <td>25,99 EUR</td>\n",
       "      <td>['COMPOSICION, CUIDADOS &amp; ORIGENCOMPOSICIONTra...</td>\n",
       "    </tr>\n",
       "    <tr>\n",
       "      <th>1</th>\n",
       "      <td>1</td>\n",
       "      <td>CAMISA PLIEGUES CINTURON ZW COLLECTION</td>\n",
       "      <td>29,95 EUR</td>\n",
       "      <td>17,99 EUR</td>\n",
       "      <td>['COMPOSICION, CUIDADOS &amp; ORIGENCOMPOSICIONTra...</td>\n",
       "    </tr>\n",
       "    <tr>\n",
       "      <th>2</th>\n",
       "      <td>2</td>\n",
       "      <td>PANTALON FLARE BOLSILLOS ZW COLLECTION</td>\n",
       "      <td>29,95 EUR</td>\n",
       "      <td>17,99 EUR</td>\n",
       "      <td>['COMPOSICION, CUIDADOS &amp; ORIGENCOMPOSICIONTra...</td>\n",
       "    </tr>\n",
       "    <tr>\n",
       "      <th>3</th>\n",
       "      <td>3</td>\n",
       "      <td>JEANS ZW COLLECTION MARINE STRAIGHT TIRO ALTO</td>\n",
       "      <td>29,95 EUR</td>\n",
       "      <td>17,99 EUR</td>\n",
       "      <td>['COMPOSICION, CUIDADOS &amp; ORIGENCOMPOSICIONTra...</td>\n",
       "    </tr>\n",
       "    <tr>\n",
       "      <th>4</th>\n",
       "      <td>4</td>\n",
       "      <td>VESTIDO ESTAMPADO ZW COLLECTION</td>\n",
       "      <td>39,95 EUR</td>\n",
       "      <td>25,99 EUR</td>\n",
       "      <td>['COMPOSICION, CUIDADOS &amp; ORIGENCOMPOSICIONTra...</td>\n",
       "    </tr>\n",
       "  </tbody>\n",
       "</table>\n",
       "</div>"
      ],
      "text/plain": [
       "   index                                    product_name normal_price  \\\n",
       "0      0  VESTIDO CAMISERO POPELIN ANUDADO ZW COLLECTION    49,95 EUR   \n",
       "1      1          CAMISA PLIEGUES CINTURON ZW COLLECTION    29,95 EUR   \n",
       "2      2          PANTALON FLARE BOLSILLOS ZW COLLECTION    29,95 EUR   \n",
       "3      3   JEANS ZW COLLECTION MARINE STRAIGHT TIRO ALTO    29,95 EUR   \n",
       "4      4                 VESTIDO ESTAMPADO ZW COLLECTION    39,95 EUR   \n",
       "\n",
       "  special_price                                        description  \n",
       "0     25,99 EUR  ['COMPOSICION, CUIDADOS & ORIGENCOMPOSICIONTra...  \n",
       "1     17,99 EUR  ['COMPOSICION, CUIDADOS & ORIGENCOMPOSICIONTra...  \n",
       "2     17,99 EUR  ['COMPOSICION, CUIDADOS & ORIGENCOMPOSICIONTra...  \n",
       "3     17,99 EUR  ['COMPOSICION, CUIDADOS & ORIGENCOMPOSICIONTra...  \n",
       "4     25,99 EUR  ['COMPOSICION, CUIDADOS & ORIGENCOMPOSICIONTra...  "
      ]
     },
     "execution_count": 9,
     "metadata": {},
     "output_type": "execute_result"
    }
   ],
   "source": [
    "sp.head()"
   ]
  },
  {
   "cell_type": "code",
   "execution_count": 10,
   "id": "7b273ddc",
   "metadata": {},
   "outputs": [],
   "source": [
    "sp2 = pd.read_csv(\"/Users/admin/Desktop/IRONHACK/8.WEEK/final_project/notebooks/datos/special_prices.csv\")\n",
    "sp2.reset_index(inplace = True)\n",
    "sp2.drop(columns=['Unnamed: 0', 'desciption'], inplace=True)\n",
    "sp2 = sp2.applymap(remove_accents)"
   ]
  },
  {
   "cell_type": "code",
   "execution_count": 11,
   "id": "dbfda826",
   "metadata": {},
   "outputs": [
    {
     "data": {
      "text/html": [
       "<div>\n",
       "<style scoped>\n",
       "    .dataframe tbody tr th:only-of-type {\n",
       "        vertical-align: middle;\n",
       "    }\n",
       "\n",
       "    .dataframe tbody tr th {\n",
       "        vertical-align: top;\n",
       "    }\n",
       "\n",
       "    .dataframe thead th {\n",
       "        text-align: right;\n",
       "    }\n",
       "</style>\n",
       "<table border=\"1\" class=\"dataframe\">\n",
       "  <thead>\n",
       "    <tr style=\"text-align: right;\">\n",
       "      <th></th>\n",
       "      <th>index</th>\n",
       "      <th>product_name</th>\n",
       "      <th>price</th>\n",
       "      <th>description</th>\n",
       "    </tr>\n",
       "  </thead>\n",
       "  <tbody>\n",
       "    <tr>\n",
       "      <th>0</th>\n",
       "      <td>0</td>\n",
       "      <td>JEANS ZW COLLECTION BOOTCUT TIRO MEDIO CONTOUR</td>\n",
       "      <td>29,95 EUR</td>\n",
       "      <td>['Trabajamos con programas de seguimiento para...</td>\n",
       "    </tr>\n",
       "    <tr>\n",
       "      <th>1</th>\n",
       "      <td>1</td>\n",
       "      <td>VESTIDO ESTAMPADO ZW COLLECTION</td>\n",
       "      <td>39,95 EUR</td>\n",
       "      <td>['Trabajamos con programas de seguimiento para...</td>\n",
       "    </tr>\n",
       "    <tr>\n",
       "      <th>2</th>\n",
       "      <td>2</td>\n",
       "      <td>VESTIDO CAMISERO POPELIN ANUDADO ZW COLLECTION</td>\n",
       "      <td>49,95 EUR</td>\n",
       "      <td>['Trabajamos con programas de seguimiento para...</td>\n",
       "    </tr>\n",
       "    <tr>\n",
       "      <th>3</th>\n",
       "      <td>3</td>\n",
       "      <td>CAMISA PLIEGUES CINTURON ZW COLLECTION</td>\n",
       "      <td>29,95 EUR</td>\n",
       "      <td>['Trabajamos con programas de seguimiento para...</td>\n",
       "    </tr>\n",
       "    <tr>\n",
       "      <th>4</th>\n",
       "      <td>4</td>\n",
       "      <td>PANTALON FLARE BOLSILLOS ZW COLLECTION</td>\n",
       "      <td>29,95 EUR</td>\n",
       "      <td>['Trabajamos con programas de seguimiento para...</td>\n",
       "    </tr>\n",
       "  </tbody>\n",
       "</table>\n",
       "</div>"
      ],
      "text/plain": [
       "   index                                    product_name      price  \\\n",
       "0      0  JEANS ZW COLLECTION BOOTCUT TIRO MEDIO CONTOUR  29,95 EUR   \n",
       "1      1                 VESTIDO ESTAMPADO ZW COLLECTION  39,95 EUR   \n",
       "2      2  VESTIDO CAMISERO POPELIN ANUDADO ZW COLLECTION  49,95 EUR   \n",
       "3      3          CAMISA PLIEGUES CINTURON ZW COLLECTION  29,95 EUR   \n",
       "4      4          PANTALON FLARE BOLSILLOS ZW COLLECTION  29,95 EUR   \n",
       "\n",
       "                                         description  \n",
       "0  ['Trabajamos con programas de seguimiento para...  \n",
       "1  ['Trabajamos con programas de seguimiento para...  \n",
       "2  ['Trabajamos con programas de seguimiento para...  \n",
       "3  ['Trabajamos con programas de seguimiento para...  \n",
       "4  ['Trabajamos con programas de seguimiento para...  "
      ]
     },
     "execution_count": 11,
     "metadata": {},
     "output_type": "execute_result"
    }
   ],
   "source": [
    "sp2.head()"
   ]
  },
  {
   "cell_type": "code",
   "execution_count": 12,
   "id": "f4061dd1",
   "metadata": {},
   "outputs": [],
   "source": [
    "# Combina los DataFrames usando la función merge\n",
    "sp_final = pd.merge(sp, sp2, on='product_name')"
   ]
  },
  {
   "cell_type": "code",
   "execution_count": 13,
   "id": "1c96c4bb",
   "metadata": {},
   "outputs": [
    {
     "data": {
      "text/plain": [
       "(496, 8)"
      ]
     },
     "execution_count": 13,
     "metadata": {},
     "output_type": "execute_result"
    }
   ],
   "source": [
    "sp_final.shape"
   ]
  },
  {
   "cell_type": "code",
   "execution_count": 14,
   "id": "f76aa0d1",
   "metadata": {},
   "outputs": [
    {
     "name": "stdout",
     "output_type": "stream",
     "text": [
      "<class 'pandas.core.frame.DataFrame'>\n",
      "RangeIndex: 496 entries, 0 to 495\n",
      "Data columns (total 8 columns):\n",
      " #   Column         Non-Null Count  Dtype \n",
      "---  ------         --------------  ----- \n",
      " 0   index_x        496 non-null    int64 \n",
      " 1   product_name   496 non-null    object\n",
      " 2   normal_price   496 non-null    object\n",
      " 3   special_price  496 non-null    object\n",
      " 4   description_x  496 non-null    object\n",
      " 5   index_y        496 non-null    int64 \n",
      " 6   price          496 non-null    object\n",
      " 7   description_y  496 non-null    object\n",
      "dtypes: int64(2), object(6)\n",
      "memory usage: 31.1+ KB\n"
     ]
    }
   ],
   "source": [
    "sp_final.info()"
   ]
  },
  {
   "cell_type": "code",
   "execution_count": 100,
   "id": "00f9bf29",
   "metadata": {
    "scrolled": true
   },
   "outputs": [],
   "source": [
    "#sp_final.head()"
   ]
  },
  {
   "cell_type": "code",
   "execution_count": 16,
   "id": "198a644d",
   "metadata": {},
   "outputs": [
    {
     "data": {
      "text/plain": [
       "(496, 8)"
      ]
     },
     "execution_count": 16,
     "metadata": {},
     "output_type": "execute_result"
    }
   ],
   "source": [
    "sp_final.shape"
   ]
  },
  {
   "cell_type": "code",
   "execution_count": 17,
   "id": "df419022",
   "metadata": {},
   "outputs": [],
   "source": [
    "sp_final = sp_final.drop_duplicates(subset=['product_name'])"
   ]
  },
  {
   "cell_type": "code",
   "execution_count": 18,
   "id": "2c7040c3",
   "metadata": {},
   "outputs": [
    {
     "data": {
      "text/plain": [
       "(178, 8)"
      ]
     },
     "execution_count": 18,
     "metadata": {},
     "output_type": "execute_result"
    }
   ],
   "source": [
    "sp_final.shape"
   ]
  },
  {
   "cell_type": "code",
   "execution_count": 19,
   "id": "fa346921",
   "metadata": {},
   "outputs": [
    {
     "name": "stdout",
     "output_type": "stream",
     "text": [
      "<class 'pandas.core.frame.DataFrame'>\n",
      "Index: 178 entries, 0 to 495\n",
      "Data columns (total 8 columns):\n",
      " #   Column         Non-Null Count  Dtype \n",
      "---  ------         --------------  ----- \n",
      " 0   index_x        178 non-null    int64 \n",
      " 1   product_name   178 non-null    object\n",
      " 2   normal_price   178 non-null    object\n",
      " 3   special_price  178 non-null    object\n",
      " 4   description_x  178 non-null    object\n",
      " 5   index_y        178 non-null    int64 \n",
      " 6   price          178 non-null    object\n",
      " 7   description_y  178 non-null    object\n",
      "dtypes: int64(2), object(6)\n",
      "memory usage: 12.5+ KB\n"
     ]
    }
   ],
   "source": [
    "sp_final.info()"
   ]
  },
  {
   "cell_type": "code",
   "execution_count": 20,
   "id": "5baad487",
   "metadata": {},
   "outputs": [
    {
     "data": {
      "text/html": [
       "<div>\n",
       "<style scoped>\n",
       "    .dataframe tbody tr th:only-of-type {\n",
       "        vertical-align: middle;\n",
       "    }\n",
       "\n",
       "    .dataframe tbody tr th {\n",
       "        vertical-align: top;\n",
       "    }\n",
       "\n",
       "    .dataframe thead th {\n",
       "        text-align: right;\n",
       "    }\n",
       "</style>\n",
       "<table border=\"1\" class=\"dataframe\">\n",
       "  <thead>\n",
       "    <tr style=\"text-align: right;\">\n",
       "      <th></th>\n",
       "      <th>index_x</th>\n",
       "      <th>product_name</th>\n",
       "      <th>normal_price</th>\n",
       "      <th>special_price</th>\n",
       "      <th>description_x</th>\n",
       "      <th>index_y</th>\n",
       "      <th>price</th>\n",
       "      <th>description_y</th>\n",
       "    </tr>\n",
       "  </thead>\n",
       "  <tbody>\n",
       "    <tr>\n",
       "      <th>0</th>\n",
       "      <td>0</td>\n",
       "      <td>VESTIDO CAMISERO POPELIN ANUDADO ZW COLLECTION</td>\n",
       "      <td>49,95 EUR</td>\n",
       "      <td>25,99 EUR</td>\n",
       "      <td>['COMPOSICION, CUIDADOS &amp; ORIGENCOMPOSICIONTra...</td>\n",
       "      <td>2</td>\n",
       "      <td>49,95 EUR</td>\n",
       "      <td>['Trabajamos con programas de seguimiento para...</td>\n",
       "    </tr>\n",
       "    <tr>\n",
       "      <th>1</th>\n",
       "      <td>1</td>\n",
       "      <td>CAMISA PLIEGUES CINTURON ZW COLLECTION</td>\n",
       "      <td>29,95 EUR</td>\n",
       "      <td>17,99 EUR</td>\n",
       "      <td>['COMPOSICION, CUIDADOS &amp; ORIGENCOMPOSICIONTra...</td>\n",
       "      <td>3</td>\n",
       "      <td>29,95 EUR</td>\n",
       "      <td>['Trabajamos con programas de seguimiento para...</td>\n",
       "    </tr>\n",
       "  </tbody>\n",
       "</table>\n",
       "</div>"
      ],
      "text/plain": [
       "   index_x                                    product_name normal_price  \\\n",
       "0        0  VESTIDO CAMISERO POPELIN ANUDADO ZW COLLECTION    49,95 EUR   \n",
       "1        1          CAMISA PLIEGUES CINTURON ZW COLLECTION    29,95 EUR   \n",
       "\n",
       "  special_price                                      description_x  index_y  \\\n",
       "0     25,99 EUR  ['COMPOSICION, CUIDADOS & ORIGENCOMPOSICIONTra...        2   \n",
       "1     17,99 EUR  ['COMPOSICION, CUIDADOS & ORIGENCOMPOSICIONTra...        3   \n",
       "\n",
       "       price                                      description_y  \n",
       "0  49,95 EUR  ['Trabajamos con programas de seguimiento para...  \n",
       "1  29,95 EUR  ['Trabajamos con programas de seguimiento para...  "
      ]
     },
     "execution_count": 20,
     "metadata": {},
     "output_type": "execute_result"
    }
   ],
   "source": [
    "sp_final.head(2)"
   ]
  },
  {
   "cell_type": "code",
   "execution_count": 21,
   "id": "f59ce0ed",
   "metadata": {},
   "outputs": [],
   "source": [
    "sp_final.drop(columns=['description_x', 'index_y', 'price'], inplace=True)\n",
    "sp_final.rename(columns={\"description_y\": \"description\"}, inplace=True)"
   ]
  },
  {
   "cell_type": "code",
   "execution_count": 101,
   "id": "2195a7f9",
   "metadata": {},
   "outputs": [],
   "source": [
    "#sp_final"
   ]
  },
  {
   "cell_type": "markdown",
   "id": "443a788a",
   "metadata": {},
   "source": [
    "### Clean and create new columns"
   ]
  },
  {
   "cell_type": "markdown",
   "id": "673978fd",
   "metadata": {},
   "source": [
    "- Create column made_in with the origin of the clothes.\n",
    "- Create column composition of clothes.\n",
    "- Create column recycled or not and wich material is recycled. \n",
    "- Create column for OCS & RCS. \n",
    "- Clean price, estandar, product_name & remove spaces, accents, symbols, quotes, etc. "
   ]
  },
  {
   "cell_type": "markdown",
   "id": "4c5e9ab6",
   "metadata": {},
   "source": [
    "#### Column Product_name: "
   ]
  },
  {
   "cell_type": "code",
   "execution_count": 23,
   "id": "ad2361ae",
   "metadata": {},
   "outputs": [],
   "source": [
    "def convertir_formato(texto):\n",
    "    return texto.lower().title()"
   ]
  },
  {
   "cell_type": "code",
   "execution_count": 24,
   "id": "19be7d49",
   "metadata": {},
   "outputs": [],
   "source": [
    "sp_final[\"product_name\"] = sp_final[\"product_name\"].apply(convertir_formato)"
   ]
  },
  {
   "cell_type": "code",
   "execution_count": 25,
   "id": "b7e2c77b",
   "metadata": {},
   "outputs": [],
   "source": [
    "sp_final[\"product_name\"] = sp_final[\"product_name\"].str.strip() #delete null space infront of and behind each row\n",
    "sp_final[\"product_name\"] = sp_final[\"product_name\"].str.lstrip() #delete null space left hand"
   ]
  },
  {
   "cell_type": "code",
   "execution_count": 26,
   "id": "622d353c",
   "metadata": {},
   "outputs": [],
   "source": [
    "# Alinea el texto a la izquierda y establece una anchura fija\n",
    "#sp_final = sp.applymap(lambda x: f'{x:<50}' if isinstance(x, str) else x)"
   ]
  },
  {
   "cell_type": "code",
   "execution_count": 27,
   "id": "49bedeab",
   "metadata": {
    "scrolled": true
   },
   "outputs": [
    {
     "data": {
      "text/html": [
       "<div>\n",
       "<style scoped>\n",
       "    .dataframe tbody tr th:only-of-type {\n",
       "        vertical-align: middle;\n",
       "    }\n",
       "\n",
       "    .dataframe tbody tr th {\n",
       "        vertical-align: top;\n",
       "    }\n",
       "\n",
       "    .dataframe thead th {\n",
       "        text-align: right;\n",
       "    }\n",
       "</style>\n",
       "<table border=\"1\" class=\"dataframe\">\n",
       "  <thead>\n",
       "    <tr style=\"text-align: right;\">\n",
       "      <th></th>\n",
       "      <th>index_x</th>\n",
       "      <th>product_name</th>\n",
       "      <th>normal_price</th>\n",
       "      <th>special_price</th>\n",
       "      <th>description</th>\n",
       "    </tr>\n",
       "  </thead>\n",
       "  <tbody>\n",
       "    <tr>\n",
       "      <th>0</th>\n",
       "      <td>0</td>\n",
       "      <td>Vestido Camisero Popelin Anudado Zw Collection</td>\n",
       "      <td>49,95 EUR</td>\n",
       "      <td>25,99 EUR</td>\n",
       "      <td>['Trabajamos con programas de seguimiento para...</td>\n",
       "    </tr>\n",
       "    <tr>\n",
       "      <th>1</th>\n",
       "      <td>1</td>\n",
       "      <td>Camisa Pliegues Cinturon Zw Collection</td>\n",
       "      <td>29,95 EUR</td>\n",
       "      <td>17,99 EUR</td>\n",
       "      <td>['Trabajamos con programas de seguimiento para...</td>\n",
       "    </tr>\n",
       "    <tr>\n",
       "      <th>5</th>\n",
       "      <td>2</td>\n",
       "      <td>Pantalon Flare Bolsillos Zw Collection</td>\n",
       "      <td>29,95 EUR</td>\n",
       "      <td>17,99 EUR</td>\n",
       "      <td>['Trabajamos con programas de seguimiento para...</td>\n",
       "    </tr>\n",
       "    <tr>\n",
       "      <th>6</th>\n",
       "      <td>3</td>\n",
       "      <td>Jeans Zw Collection Marine Straight Tiro Alto</td>\n",
       "      <td>29,95 EUR</td>\n",
       "      <td>17,99 EUR</td>\n",
       "      <td>['Trabajamos con programas de seguimiento para...</td>\n",
       "    </tr>\n",
       "    <tr>\n",
       "      <th>7</th>\n",
       "      <td>4</td>\n",
       "      <td>Vestido Estampado Zw Collection</td>\n",
       "      <td>39,95 EUR</td>\n",
       "      <td>25,99 EUR</td>\n",
       "      <td>['Trabajamos con programas de seguimiento para...</td>\n",
       "    </tr>\n",
       "  </tbody>\n",
       "</table>\n",
       "</div>"
      ],
      "text/plain": [
       "   index_x                                    product_name normal_price  \\\n",
       "0        0  Vestido Camisero Popelin Anudado Zw Collection    49,95 EUR   \n",
       "1        1          Camisa Pliegues Cinturon Zw Collection    29,95 EUR   \n",
       "5        2          Pantalon Flare Bolsillos Zw Collection    29,95 EUR   \n",
       "6        3   Jeans Zw Collection Marine Straight Tiro Alto    29,95 EUR   \n",
       "7        4                 Vestido Estampado Zw Collection    39,95 EUR   \n",
       "\n",
       "  special_price                                        description  \n",
       "0     25,99 EUR  ['Trabajamos con programas de seguimiento para...  \n",
       "1     17,99 EUR  ['Trabajamos con programas de seguimiento para...  \n",
       "5     17,99 EUR  ['Trabajamos con programas de seguimiento para...  \n",
       "6     17,99 EUR  ['Trabajamos con programas de seguimiento para...  \n",
       "7     25,99 EUR  ['Trabajamos con programas de seguimiento para...  "
      ]
     },
     "execution_count": 27,
     "metadata": {},
     "output_type": "execute_result"
    }
   ],
   "source": [
    "sp_final.head()"
   ]
  },
  {
   "cell_type": "code",
   "execution_count": 28,
   "id": "df6d9d73",
   "metadata": {},
   "outputs": [],
   "source": [
    "def convertir_formato(texto):\n",
    "    return texto.lower().title()"
   ]
  },
  {
   "cell_type": "code",
   "execution_count": 29,
   "id": "88b5c6df",
   "metadata": {},
   "outputs": [],
   "source": [
    "sp_final[\"product_name\"] = sp_final[\"product_name\"].apply(convertir_formato)"
   ]
  },
  {
   "cell_type": "code",
   "execution_count": 30,
   "id": "8254729a",
   "metadata": {},
   "outputs": [
    {
     "data": {
      "text/html": [
       "<div>\n",
       "<style scoped>\n",
       "    .dataframe tbody tr th:only-of-type {\n",
       "        vertical-align: middle;\n",
       "    }\n",
       "\n",
       "    .dataframe tbody tr th {\n",
       "        vertical-align: top;\n",
       "    }\n",
       "\n",
       "    .dataframe thead th {\n",
       "        text-align: right;\n",
       "    }\n",
       "</style>\n",
       "<table border=\"1\" class=\"dataframe\">\n",
       "  <thead>\n",
       "    <tr style=\"text-align: right;\">\n",
       "      <th></th>\n",
       "      <th>index_x</th>\n",
       "      <th>product_name</th>\n",
       "      <th>normal_price</th>\n",
       "      <th>special_price</th>\n",
       "      <th>description</th>\n",
       "    </tr>\n",
       "  </thead>\n",
       "  <tbody>\n",
       "    <tr>\n",
       "      <th>0</th>\n",
       "      <td>0</td>\n",
       "      <td>Vestido Camisero Popelin Anudado Zw Collection</td>\n",
       "      <td>49,95 EUR</td>\n",
       "      <td>25,99 EUR</td>\n",
       "      <td>['Trabajamos con programas de seguimiento para...</td>\n",
       "    </tr>\n",
       "    <tr>\n",
       "      <th>1</th>\n",
       "      <td>1</td>\n",
       "      <td>Camisa Pliegues Cinturon Zw Collection</td>\n",
       "      <td>29,95 EUR</td>\n",
       "      <td>17,99 EUR</td>\n",
       "      <td>['Trabajamos con programas de seguimiento para...</td>\n",
       "    </tr>\n",
       "    <tr>\n",
       "      <th>5</th>\n",
       "      <td>2</td>\n",
       "      <td>Pantalon Flare Bolsillos Zw Collection</td>\n",
       "      <td>29,95 EUR</td>\n",
       "      <td>17,99 EUR</td>\n",
       "      <td>['Trabajamos con programas de seguimiento para...</td>\n",
       "    </tr>\n",
       "    <tr>\n",
       "      <th>6</th>\n",
       "      <td>3</td>\n",
       "      <td>Jeans Zw Collection Marine Straight Tiro Alto</td>\n",
       "      <td>29,95 EUR</td>\n",
       "      <td>17,99 EUR</td>\n",
       "      <td>['Trabajamos con programas de seguimiento para...</td>\n",
       "    </tr>\n",
       "    <tr>\n",
       "      <th>7</th>\n",
       "      <td>4</td>\n",
       "      <td>Vestido Estampado Zw Collection</td>\n",
       "      <td>39,95 EUR</td>\n",
       "      <td>25,99 EUR</td>\n",
       "      <td>['Trabajamos con programas de seguimiento para...</td>\n",
       "    </tr>\n",
       "  </tbody>\n",
       "</table>\n",
       "</div>"
      ],
      "text/plain": [
       "   index_x                                    product_name normal_price  \\\n",
       "0        0  Vestido Camisero Popelin Anudado Zw Collection    49,95 EUR   \n",
       "1        1          Camisa Pliegues Cinturon Zw Collection    29,95 EUR   \n",
       "5        2          Pantalon Flare Bolsillos Zw Collection    29,95 EUR   \n",
       "6        3   Jeans Zw Collection Marine Straight Tiro Alto    29,95 EUR   \n",
       "7        4                 Vestido Estampado Zw Collection    39,95 EUR   \n",
       "\n",
       "  special_price                                        description  \n",
       "0     25,99 EUR  ['Trabajamos con programas de seguimiento para...  \n",
       "1     17,99 EUR  ['Trabajamos con programas de seguimiento para...  \n",
       "5     17,99 EUR  ['Trabajamos con programas de seguimiento para...  \n",
       "6     17,99 EUR  ['Trabajamos con programas de seguimiento para...  \n",
       "7     25,99 EUR  ['Trabajamos con programas de seguimiento para...  "
      ]
     },
     "execution_count": 30,
     "metadata": {},
     "output_type": "execute_result"
    }
   ],
   "source": [
    "sp_final.head()"
   ]
  },
  {
   "cell_type": "code",
   "execution_count": 31,
   "id": "caee09a0",
   "metadata": {},
   "outputs": [],
   "source": [
    "# Alinea el texto a la izquierda y establece una anchura fija\n",
    "sp_final = sp_final.applymap(lambda x: f'{x:<50}' if isinstance(x, str) else x)"
   ]
  },
  {
   "cell_type": "markdown",
   "id": "12524704",
   "metadata": {},
   "source": [
    "##### Create rgex pattern to simplify the analysis"
   ]
  },
  {
   "cell_type": "code",
   "execution_count": 32,
   "id": "ded02d83",
   "metadata": {},
   "outputs": [],
   "source": [
    "patt_sp = { r\"[Vv]estido\" : \"Vestido\",\n",
    "            r\"[Cc]amisa\" : \"Camisa\",\n",
    "            r\"[Pp]antalon\" : \"Pantalon\", \n",
    "            r\"[Jj]eans\" : \"Jeans\", \n",
    "            r\"[Bb]olso\" : \"Bolso\", \n",
    "            r\"[Ss]andalia\" : \"Calzado\",\n",
    "            r\"[Zz]apatillas\" : \"Calzado\",\n",
    "            r\"[Mm]ocasin\" : \"Calzado\",\n",
    "            r\"[Cc]haqueta\" : \"Chaqueta\", \n",
    "            r\"[Pp]arka\" : \"Chaqueta\", \n",
    "            r\"[Aa]norak\" : \"Chaqueta\",\n",
    "            r\"[Cc]azadora\" : \"Chaqueta\",\n",
    "            r\"[Jj]ersey\" : \"Jersey\", \n",
    "            r\"[Ff]alda\" : \"Falda\",\n",
    "            r\"[Bb]lazer\" : \"Blazer\", \n",
    "            r\"[Cc]amiseta\": \"Camiseta\"\n",
    "          }"
   ]
  },
  {
   "cell_type": "code",
   "execution_count": 33,
   "id": "e68d1b94",
   "metadata": {},
   "outputs": [],
   "source": [
    "def categorize_activities(text, patt_sp):\n",
    "    if isinstance(text, str):  # Check if the value is a text string\n",
    "        for pattern, category in patt_sp.items():\n",
    "            if re.search(pattern, text):\n",
    "                return category\n",
    "    return \"Other\" "
   ]
  },
  {
   "cell_type": "code",
   "execution_count": 34,
   "id": "078db78a",
   "metadata": {},
   "outputs": [
    {
     "data": {
      "text/plain": [
       "array(['Vestido', 'Camisa', 'Pantalon', 'Jeans', 'Jersey', 'Bolso',\n",
       "       'Calzado', 'Chaqueta', 'Falda', 'Other', 'Blazer', 'Camiseta'],\n",
       "      dtype=object)"
      ]
     },
     "execution_count": 34,
     "metadata": {},
     "output_type": "execute_result"
    }
   ],
   "source": [
    "# Clear invalid values in the \"activity\" column\n",
    "sp_final[\"product_name\"] = sp_final[\"product_name\"].fillna(\"empty\")  # Fill NaN values with an empty string\n",
    "sp_final[\"product_name\"] = sp_final[\"product_name\"].astype(str)  # Convert all values to text strings\n",
    "# Apply the function to categorize activities\n",
    "sp_final[\"product_name\"] = sp_final[\"product_name\"].apply(lambda x: categorize_activities(x, patt_sp))\n",
    "sp_final[\"product_name\"].unique()"
   ]
  },
  {
   "cell_type": "code",
   "execution_count": 35,
   "id": "c86dfe3e",
   "metadata": {},
   "outputs": [
    {
     "data": {
      "text/plain": [
       "product_name\n",
       "Other       32\n",
       "Chaqueta    28\n",
       "Jersey      23\n",
       "Vestido     17\n",
       "Jeans       17\n",
       "Pantalon    16\n",
       "Calzado     15\n",
       "Camisa      11\n",
       "Falda       11\n",
       "Blazer       5\n",
       "Bolso        2\n",
       "Camiseta     1\n",
       "Name: count, dtype: int64"
      ]
     },
     "execution_count": 35,
     "metadata": {},
     "output_type": "execute_result"
    }
   ],
   "source": [
    "sp_final[\"product_name\"].value_counts()"
   ]
  },
  {
   "cell_type": "markdown",
   "id": "cfb1c1ac",
   "metadata": {},
   "source": [
    "#### Column made in:"
   ]
  },
  {
   "cell_type": "code",
   "execution_count": 36,
   "id": "0f439f63",
   "metadata": {},
   "outputs": [],
   "source": [
    "#Function for extract made in\n",
    "def extract_origin_9(description):\n",
    "    match = re.search(r'hecho\\s+en\\s+(\\w+)', description, re.IGNORECASE)\n",
    "    if match:\n",
    "        return match.group(1)\n",
    "    else:\n",
    "        return None"
   ]
  },
  {
   "cell_type": "code",
   "execution_count": 37,
   "id": "b87b3158",
   "metadata": {},
   "outputs": [
    {
     "data": {
      "text/plain": [
       "made_in\n",
       "China         43\n",
       "Marruecos     35\n",
       "Turquia       28\n",
       "Bangladesh    18\n",
       "Camboya       17\n",
       "Vietnam       14\n",
       "Myanmar        9\n",
       "Tunez          4\n",
       "Pakistan       3\n",
       "India          3\n",
       "Egipto         2\n",
       "Rumania        1\n",
       "Indonesia      1\n",
       "Name: count, dtype: int64"
      ]
     },
     "execution_count": 37,
     "metadata": {},
     "output_type": "execute_result"
    }
   ],
   "source": [
    "sp_final['made_in'] = sp_final['description'].apply(extract_origin_9)\n",
    "sp_final['made_in'].value_counts()"
   ]
  },
  {
   "cell_type": "markdown",
   "id": "ed8f82e1",
   "metadata": {},
   "source": [
    "#### Column estandar:"
   ]
  },
  {
   "cell_type": "code",
   "execution_count": 38,
   "id": "3a0ebe23",
   "metadata": {},
   "outputs": [],
   "source": [
    "# Regex pattern\n",
    "patron_regex = re.compile(r'(?:estandares\\s(.*))', re.IGNORECASE)"
   ]
  },
  {
   "cell_type": "code",
   "execution_count": 39,
   "id": "6d506464",
   "metadata": {},
   "outputs": [],
   "source": [
    "#Function to extract standar\n",
    "def extract_estandar(description):\n",
    "    # Desempaquetar la cadena de texto de la lista\n",
    "    description = ast.literal_eval(description) #convertir un string a lista\n",
    "    match = patron_regex.search(\" \".join(description[0:1]))\n",
    "    #print(\" \".join(description[0:1]))\n",
    "    #print(match)\n",
    "    if match:\n",
    "        return match.group(1)\n",
    "    else:\n",
    "        return None"
   ]
  },
  {
   "cell_type": "code",
   "execution_count": 40,
   "id": "240eb31d",
   "metadata": {},
   "outputs": [],
   "source": [
    "# Apply the function to the column description and create a new column called made_in\n",
    "sp_final['estandar'] = sp_final['description'].apply(extract_estandar)"
   ]
  },
  {
   "cell_type": "code",
   "execution_count": 41,
   "id": "20fb9308",
   "metadata": {},
   "outputs": [],
   "source": [
    "def check_create(text):\n",
    "    palabras_clave = ['estandar', 'sociales', 'medioambientales', 'seguridad y salud']\n",
    "    for palabra in palabras_clave:\n",
    "        if palabra in text:\n",
    "            return True\n",
    "    return False"
   ]
  },
  {
   "cell_type": "code",
   "execution_count": 42,
   "id": "a30a884e",
   "metadata": {},
   "outputs": [],
   "source": [
    "sp_final['standard_soc_ma'] = sp_final['estandar'].apply(check_create)"
   ]
  },
  {
   "cell_type": "code",
   "execution_count": 43,
   "id": "f2e40f61",
   "metadata": {},
   "outputs": [
    {
     "data": {
      "text/plain": [
       "standard_soc_ma\n",
       "True    178\n",
       "Name: count, dtype: int64"
      ]
     },
     "execution_count": 43,
     "metadata": {},
     "output_type": "execute_result"
    }
   ],
   "source": [
    "sp_final['standard_soc_ma'].value_counts()"
   ]
  },
  {
   "cell_type": "code",
   "execution_count": 44,
   "id": "49f73521",
   "metadata": {},
   "outputs": [],
   "source": [
    "sp_final.drop(columns=['estandar'], inplace=True)"
   ]
  },
  {
   "cell_type": "markdown",
   "id": "c9feaeba",
   "metadata": {},
   "source": [
    "#### Column composition:"
   ]
  },
  {
   "cell_type": "code",
   "execution_count": 45,
   "id": "835da489",
   "metadata": {},
   "outputs": [],
   "source": [
    "#Function to extract composition\n",
    "def extract_composition_materiales_4(df):\n",
    "    \n",
    "    df[\"comprobacion\"] = np.nan\n",
    "    \n",
    "    for idn in df.index:\n",
    "        \n",
    "        description = df.loc[idn, \"description\"]\n",
    "    \n",
    "        if description != \"[]\":\n",
    "            # Desempaquetar la cadena de texto de la lista\n",
    "            res = description.strip('][').split(', ')\n",
    "            s1 = res[2:3][0] #Posicion donde esta ubicado en la lista\n",
    "            #print(s1)\n",
    "            patron = r'(\\d+)%\\s*([a-zA-Z]+)'\n",
    "            # Buscamos todas las coincidencias en la cadena\n",
    "            coincidencias = re.findall(patron, s1)\n",
    "            #print(coincidencias)\n",
    "        \n",
    "            df[\"comprobacion\"][idn] = coincidencias\n",
    "            \n",
    "            for porcentaje, material in coincidencias:\n",
    "                if material in df.columns:\n",
    "                    df[material][idn] = porcentaje\n",
    "                else:\n",
    "                    df[material]= np.nan\n",
    "                    df[material][idn] = porcentaje\n",
    "        else:\n",
    "            continue\n",
    "                \n",
    "    return df"
   ]
  },
  {
   "cell_type": "code",
   "execution_count": 46,
   "id": "ab717f07",
   "metadata": {},
   "outputs": [],
   "source": [
    "apply_function = extract_composition_materiales_4(sp_final)"
   ]
  },
  {
   "cell_type": "code",
   "execution_count": 47,
   "id": "2b5f7c8b",
   "metadata": {
    "scrolled": true
   },
   "outputs": [],
   "source": [
    "#sp_final.info()"
   ]
  },
  {
   "cell_type": "code",
   "execution_count": 50,
   "id": "53012ed7",
   "metadata": {},
   "outputs": [],
   "source": [
    "# Crear una nueva columna para contar el número de materiales en cada lista\n",
    "sp_final['num_materials'] = sp_final['comprobacion'].apply(lambda x: len(x) if isinstance(x, list) else 0)"
   ]
  },
  {
   "cell_type": "code",
   "execution_count": 48,
   "id": "6ca3b990",
   "metadata": {},
   "outputs": [],
   "source": [
    "# Crear una nueva columna para asignar el main material de cada producto.\n",
    "sp_final['material'] = sp_final['comprobacion'].apply(\n",
    "    lambda x: x[0][1] if isinstance(x, list) and len(x) > 0 and len(x[0]) > 1 else None)"
   ]
  },
  {
   "cell_type": "code",
   "execution_count": 49,
   "id": "1e856272",
   "metadata": {},
   "outputs": [
    {
     "data": {
      "text/plain": [
       "material\n",
       "poliester      68\n",
       "algodon        52\n",
       "viscosa        24\n",
       "poliuretano    15\n",
       "acrilico        9\n",
       "poliamida       4\n",
       "lino            2\n",
       "liocel          2\n",
       "lana            1\n",
       "piel            1\n",
       "Name: count, dtype: int64"
      ]
     },
     "execution_count": 49,
     "metadata": {},
     "output_type": "execute_result"
    }
   ],
   "source": [
    "sp_final[\"material\"].value_counts()"
   ]
  },
  {
   "cell_type": "code",
   "execution_count": 52,
   "id": "6a2e6b73",
   "metadata": {},
   "outputs": [],
   "source": [
    "# Crear una nueva columna para asignar el material secundario de cada producto.\n",
    "sp_final['material_secundario'] = sp_final['comprobacion'].apply(lambda x: x[1][1] if len(x) > 1 else None)"
   ]
  },
  {
   "cell_type": "code",
   "execution_count": 51,
   "id": "51305897",
   "metadata": {},
   "outputs": [],
   "source": [
    "# Crear una nueva columna para contar el % de material para ese producto\n",
    "sp_final['num_material'] = sp_final['comprobacion'].apply(lambda x: int(x[0][0]) if len(x) > 0 else None)"
   ]
  },
  {
   "cell_type": "code",
   "execution_count": 53,
   "id": "7e8f9f32",
   "metadata": {},
   "outputs": [],
   "source": [
    "# Crear una nueva columna para contar el % de material para ese producto\n",
    "sp_final['num_material_secundario'] = sp_final['comprobacion'].apply(lambda x: int(x[1][0]) if len(x) > 1 else None)"
   ]
  },
  {
   "cell_type": "code",
   "execution_count": 54,
   "id": "b4260a5b",
   "metadata": {},
   "outputs": [],
   "source": [
    "sp_final['tercer_elemento'] = sp_final['comprobacion'].apply(\n",
    "    lambda x: x[2][1] if isinstance(x, list) and len(x) > 2 else None\n",
    ")"
   ]
  },
  {
   "cell_type": "code",
   "execution_count": 55,
   "id": "d3163677",
   "metadata": {},
   "outputs": [],
   "source": [
    "sp_final['num_tercer_elemento'] = sp_final['comprobacion'].apply(\n",
    "    lambda x: int(x[2][0]) if isinstance(x, list) and len(x) > 2 else None\n",
    ")"
   ]
  },
  {
   "cell_type": "code",
   "execution_count": 56,
   "id": "fe937fea",
   "metadata": {},
   "outputs": [],
   "source": [
    "columns_to_keep6 = [\"comprobacion\", \"material\", \"num_materials\", \"num_material\", \"material_secundario\", \"num_material_secundario\", \"tercer_elemento\", \"num_tercer_elemento\"]\n",
    "\n",
    "filtered_df = sp_final[columns_to_keep6]\n",
    "#filtered_df.head(20)"
   ]
  },
  {
   "cell_type": "markdown",
   "id": "dfc112fc",
   "metadata": {},
   "source": [
    "#### Column recycled:"
   ]
  },
  {
   "cell_type": "code",
   "execution_count": 57,
   "id": "55cd2d11",
   "metadata": {},
   "outputs": [],
   "source": [
    "def recycled_2(df):\n",
    "    \n",
    "    # Inicializar columnas adicionales para cada tipo de material\n",
    "    for material in [\"OCS\", \"RCS\", \"reciclado\"]:\n",
    "        df[material] = np.nan\n",
    "    \n",
    "    # Inicializar columna de comprobación\n",
    "    df[\"comprobacion2\"] = np.nan\n",
    "    \n",
    "    # Iterar sobre cada índice del DataFrame\n",
    "    for idn in df.index:\n",
    "        # Obtener la descripción de la fila actual\n",
    "        description = df.loc[idn, \"description\"]\n",
    "        \n",
    "        # Lista para almacenar los materiales encontrados\n",
    "        materiales_encontrados = []\n",
    "        \n",
    "        # Verificar si la descripción no está vacía\n",
    "        if description != \"[]\":\n",
    "            # Desempaquetar la cadena de texto de la lista\n",
    "            res = description.strip('][').split(', ')\n",
    "            \n",
    "            # Recorrer cada elemento de la descripción\n",
    "            for item in res:\n",
    "                # Buscar coincidencias con el patrón en la descripción\n",
    "                matches = re.findall(r\"(\\d+% .*?(?:OCS|RCS|reciclado|cultivo orgánico))\", item)\n",
    "                \n",
    "                # Iterar sobre las coincidencias encontradas\n",
    "                for match in matches:\n",
    "                    # Extraer el porcentaje y el tipo de material\n",
    "                    porcentaje, material = match.split(None, 1)\n",
    "                    \n",
    "                    # Limpiar el tipo de material\n",
    "                    material = material.strip()\n",
    "                    \n",
    "                    # Convertir el porcentaje a float\n",
    "                    porcentaje = float(porcentaje.strip('%'))\n",
    "                    \n",
    "                    # Asignar el porcentaje al tipo de material en la fila actual\n",
    "                    df.at[idn, material] = porcentaje\n",
    "                    \n",
    "                    # Agregar el material a la lista de materiales encontrados\n",
    "                    materiales_encontrados.append(material)\n",
    "                    \n",
    "        # Asignar la lista de materiales encontrados a la columna de comprobación\n",
    "        df.at[idn, \"comprobacion2\"] = ', '.join(materiales_encontrados)  # Convertir la lista a cadena de texto\n",
    "                \n",
    "    return df"
   ]
  },
  {
   "cell_type": "code",
   "execution_count": 58,
   "id": "7fd2e29f",
   "metadata": {},
   "outputs": [],
   "source": [
    "prueba3 = recycled_2(sp_final)"
   ]
  },
  {
   "cell_type": "code",
   "execution_count": 103,
   "id": "5446fbb9",
   "metadata": {},
   "outputs": [],
   "source": [
    "#sp_final.info()"
   ]
  },
  {
   "cell_type": "code",
   "execution_count": 60,
   "id": "5877097b",
   "metadata": {
    "scrolled": true
   },
   "outputs": [
    {
     "data": {
      "text/html": [
       "<div>\n",
       "<style scoped>\n",
       "    .dataframe tbody tr th:only-of-type {\n",
       "        vertical-align: middle;\n",
       "    }\n",
       "\n",
       "    .dataframe tbody tr th {\n",
       "        vertical-align: top;\n",
       "    }\n",
       "\n",
       "    .dataframe thead th {\n",
       "        text-align: right;\n",
       "    }\n",
       "</style>\n",
       "<table border=\"1\" class=\"dataframe\">\n",
       "  <thead>\n",
       "    <tr style=\"text-align: right;\">\n",
       "      <th></th>\n",
       "      <th>comprobacion2</th>\n",
       "      <th>algodon de cultivo organico certificado OCS</th>\n",
       "      <th>algodon reciclado</th>\n",
       "      <th>poliester reciclado</th>\n",
       "      <th>poliamida reciclada certificada RCS</th>\n",
       "      <th>acrilico reciclado</th>\n",
       "      <th>elastano reciclado</th>\n",
       "    </tr>\n",
       "  </thead>\n",
       "  <tbody>\n",
       "    <tr>\n",
       "      <th>466</th>\n",
       "      <td></td>\n",
       "      <td>NaN</td>\n",
       "      <td>NaN</td>\n",
       "      <td>NaN</td>\n",
       "      <td>NaN</td>\n",
       "      <td>NaN</td>\n",
       "      <td>NaN</td>\n",
       "    </tr>\n",
       "    <tr>\n",
       "      <th>467</th>\n",
       "      <td>algodon de cultivo organico certificado OCS</td>\n",
       "      <td>95.0</td>\n",
       "      <td>NaN</td>\n",
       "      <td>NaN</td>\n",
       "      <td>NaN</td>\n",
       "      <td>NaN</td>\n",
       "      <td>NaN</td>\n",
       "    </tr>\n",
       "    <tr>\n",
       "      <th>473</th>\n",
       "      <td></td>\n",
       "      <td>NaN</td>\n",
       "      <td>NaN</td>\n",
       "      <td>NaN</td>\n",
       "      <td>NaN</td>\n",
       "      <td>NaN</td>\n",
       "      <td>NaN</td>\n",
       "    </tr>\n",
       "    <tr>\n",
       "      <th>474</th>\n",
       "      <td></td>\n",
       "      <td>NaN</td>\n",
       "      <td>NaN</td>\n",
       "      <td>NaN</td>\n",
       "      <td>NaN</td>\n",
       "      <td>NaN</td>\n",
       "      <td>NaN</td>\n",
       "    </tr>\n",
       "    <tr>\n",
       "      <th>475</th>\n",
       "      <td>poliester reciclado</td>\n",
       "      <td>NaN</td>\n",
       "      <td>NaN</td>\n",
       "      <td>100.0</td>\n",
       "      <td>NaN</td>\n",
       "      <td>NaN</td>\n",
       "      <td>NaN</td>\n",
       "    </tr>\n",
       "    <tr>\n",
       "      <th>476</th>\n",
       "      <td></td>\n",
       "      <td>NaN</td>\n",
       "      <td>NaN</td>\n",
       "      <td>NaN</td>\n",
       "      <td>NaN</td>\n",
       "      <td>NaN</td>\n",
       "      <td>NaN</td>\n",
       "    </tr>\n",
       "    <tr>\n",
       "      <th>477</th>\n",
       "      <td>poliester reciclado, algodon reciclado</td>\n",
       "      <td>NaN</td>\n",
       "      <td>14.0</td>\n",
       "      <td>86.0</td>\n",
       "      <td>NaN</td>\n",
       "      <td>NaN</td>\n",
       "      <td>NaN</td>\n",
       "    </tr>\n",
       "    <tr>\n",
       "      <th>478</th>\n",
       "      <td></td>\n",
       "      <td>NaN</td>\n",
       "      <td>NaN</td>\n",
       "      <td>NaN</td>\n",
       "      <td>NaN</td>\n",
       "      <td>NaN</td>\n",
       "      <td>NaN</td>\n",
       "    </tr>\n",
       "    <tr>\n",
       "      <th>482</th>\n",
       "      <td></td>\n",
       "      <td>NaN</td>\n",
       "      <td>NaN</td>\n",
       "      <td>NaN</td>\n",
       "      <td>NaN</td>\n",
       "      <td>NaN</td>\n",
       "      <td>NaN</td>\n",
       "    </tr>\n",
       "    <tr>\n",
       "      <th>483</th>\n",
       "      <td></td>\n",
       "      <td>NaN</td>\n",
       "      <td>NaN</td>\n",
       "      <td>NaN</td>\n",
       "      <td>NaN</td>\n",
       "      <td>NaN</td>\n",
       "      <td>NaN</td>\n",
       "    </tr>\n",
       "    <tr>\n",
       "      <th>484</th>\n",
       "      <td></td>\n",
       "      <td>NaN</td>\n",
       "      <td>NaN</td>\n",
       "      <td>NaN</td>\n",
       "      <td>NaN</td>\n",
       "      <td>NaN</td>\n",
       "      <td>NaN</td>\n",
       "    </tr>\n",
       "    <tr>\n",
       "      <th>485</th>\n",
       "      <td></td>\n",
       "      <td>NaN</td>\n",
       "      <td>NaN</td>\n",
       "      <td>NaN</td>\n",
       "      <td>NaN</td>\n",
       "      <td>NaN</td>\n",
       "      <td>NaN</td>\n",
       "    </tr>\n",
       "    <tr>\n",
       "      <th>486</th>\n",
       "      <td></td>\n",
       "      <td>NaN</td>\n",
       "      <td>NaN</td>\n",
       "      <td>NaN</td>\n",
       "      <td>NaN</td>\n",
       "      <td>NaN</td>\n",
       "      <td>NaN</td>\n",
       "    </tr>\n",
       "    <tr>\n",
       "      <th>487</th>\n",
       "      <td></td>\n",
       "      <td>NaN</td>\n",
       "      <td>NaN</td>\n",
       "      <td>NaN</td>\n",
       "      <td>NaN</td>\n",
       "      <td>NaN</td>\n",
       "      <td>NaN</td>\n",
       "    </tr>\n",
       "    <tr>\n",
       "      <th>490</th>\n",
       "      <td></td>\n",
       "      <td>NaN</td>\n",
       "      <td>NaN</td>\n",
       "      <td>NaN</td>\n",
       "      <td>NaN</td>\n",
       "      <td>NaN</td>\n",
       "      <td>NaN</td>\n",
       "    </tr>\n",
       "    <tr>\n",
       "      <th>491</th>\n",
       "      <td></td>\n",
       "      <td>NaN</td>\n",
       "      <td>NaN</td>\n",
       "      <td>NaN</td>\n",
       "      <td>NaN</td>\n",
       "      <td>NaN</td>\n",
       "      <td>NaN</td>\n",
       "    </tr>\n",
       "    <tr>\n",
       "      <th>492</th>\n",
       "      <td></td>\n",
       "      <td>NaN</td>\n",
       "      <td>NaN</td>\n",
       "      <td>NaN</td>\n",
       "      <td>NaN</td>\n",
       "      <td>NaN</td>\n",
       "      <td>NaN</td>\n",
       "    </tr>\n",
       "    <tr>\n",
       "      <th>493</th>\n",
       "      <td></td>\n",
       "      <td>NaN</td>\n",
       "      <td>NaN</td>\n",
       "      <td>NaN</td>\n",
       "      <td>NaN</td>\n",
       "      <td>NaN</td>\n",
       "      <td>NaN</td>\n",
       "    </tr>\n",
       "    <tr>\n",
       "      <th>494</th>\n",
       "      <td>poliester reciclado</td>\n",
       "      <td>NaN</td>\n",
       "      <td>NaN</td>\n",
       "      <td>100.0</td>\n",
       "      <td>NaN</td>\n",
       "      <td>NaN</td>\n",
       "      <td>NaN</td>\n",
       "    </tr>\n",
       "    <tr>\n",
       "      <th>495</th>\n",
       "      <td></td>\n",
       "      <td>NaN</td>\n",
       "      <td>NaN</td>\n",
       "      <td>NaN</td>\n",
       "      <td>NaN</td>\n",
       "      <td>NaN</td>\n",
       "      <td>NaN</td>\n",
       "    </tr>\n",
       "  </tbody>\n",
       "</table>\n",
       "</div>"
      ],
      "text/plain": [
       "                                   comprobacion2  \\\n",
       "466                                                \n",
       "467  algodon de cultivo organico certificado OCS   \n",
       "473                                                \n",
       "474                                                \n",
       "475                          poliester reciclado   \n",
       "476                                                \n",
       "477       poliester reciclado, algodon reciclado   \n",
       "478                                                \n",
       "482                                                \n",
       "483                                                \n",
       "484                                                \n",
       "485                                                \n",
       "486                                                \n",
       "487                                                \n",
       "490                                                \n",
       "491                                                \n",
       "492                                                \n",
       "493                                                \n",
       "494                          poliester reciclado   \n",
       "495                                                \n",
       "\n",
       "     algodon de cultivo organico certificado OCS  algodon reciclado  \\\n",
       "466                                          NaN                NaN   \n",
       "467                                         95.0                NaN   \n",
       "473                                          NaN                NaN   \n",
       "474                                          NaN                NaN   \n",
       "475                                          NaN                NaN   \n",
       "476                                          NaN                NaN   \n",
       "477                                          NaN               14.0   \n",
       "478                                          NaN                NaN   \n",
       "482                                          NaN                NaN   \n",
       "483                                          NaN                NaN   \n",
       "484                                          NaN                NaN   \n",
       "485                                          NaN                NaN   \n",
       "486                                          NaN                NaN   \n",
       "487                                          NaN                NaN   \n",
       "490                                          NaN                NaN   \n",
       "491                                          NaN                NaN   \n",
       "492                                          NaN                NaN   \n",
       "493                                          NaN                NaN   \n",
       "494                                          NaN                NaN   \n",
       "495                                          NaN                NaN   \n",
       "\n",
       "     poliester reciclado  poliamida reciclada certificada RCS  \\\n",
       "466                  NaN                                  NaN   \n",
       "467                  NaN                                  NaN   \n",
       "473                  NaN                                  NaN   \n",
       "474                  NaN                                  NaN   \n",
       "475                100.0                                  NaN   \n",
       "476                  NaN                                  NaN   \n",
       "477                 86.0                                  NaN   \n",
       "478                  NaN                                  NaN   \n",
       "482                  NaN                                  NaN   \n",
       "483                  NaN                                  NaN   \n",
       "484                  NaN                                  NaN   \n",
       "485                  NaN                                  NaN   \n",
       "486                  NaN                                  NaN   \n",
       "487                  NaN                                  NaN   \n",
       "490                  NaN                                  NaN   \n",
       "491                  NaN                                  NaN   \n",
       "492                  NaN                                  NaN   \n",
       "493                  NaN                                  NaN   \n",
       "494                100.0                                  NaN   \n",
       "495                  NaN                                  NaN   \n",
       "\n",
       "     acrilico reciclado  elastano reciclado  \n",
       "466                 NaN                 NaN  \n",
       "467                 NaN                 NaN  \n",
       "473                 NaN                 NaN  \n",
       "474                 NaN                 NaN  \n",
       "475                 NaN                 NaN  \n",
       "476                 NaN                 NaN  \n",
       "477                 NaN                 NaN  \n",
       "478                 NaN                 NaN  \n",
       "482                 NaN                 NaN  \n",
       "483                 NaN                 NaN  \n",
       "484                 NaN                 NaN  \n",
       "485                 NaN                 NaN  \n",
       "486                 NaN                 NaN  \n",
       "487                 NaN                 NaN  \n",
       "490                 NaN                 NaN  \n",
       "491                 NaN                 NaN  \n",
       "492                 NaN                 NaN  \n",
       "493                 NaN                 NaN  \n",
       "494                 NaN                 NaN  \n",
       "495                 NaN                 NaN  "
      ]
     },
     "execution_count": 60,
     "metadata": {},
     "output_type": "execute_result"
    }
   ],
   "source": [
    "columns_to_keep3 = [\"comprobacion2\", \"algodon de cultivo organico certificado OCS\", \"algodon reciclado\", \"poliester reciclado\", \"poliamida reciclada certificada RCS\",\"acrilico reciclado\",\"elastano reciclado\"]\n",
    "\n",
    "filtered_df = sp_final[columns_to_keep3]\n",
    "filtered_df.tail(20)"
   ]
  },
  {
   "cell_type": "code",
   "execution_count": 61,
   "id": "47c178d9",
   "metadata": {},
   "outputs": [],
   "source": [
    "# Crear una función para verificar el tipo de certificación\n",
    "def obtener_certificacion(lista):\n",
    "    if 'algodon de cultivo organico certificado OCS' in lista:\n",
    "        return 'OCS'\n",
    "    elif 'poliamida reciclada certificada RCS' in lista:\n",
    "        return 'RCS'\n",
    "    else:\n",
    "        return None"
   ]
  },
  {
   "cell_type": "code",
   "execution_count": 62,
   "id": "cfe49dda",
   "metadata": {},
   "outputs": [],
   "source": [
    "sp_final['certificacion'] = sp_final['comprobacion2'].apply(obtener_certificacion)"
   ]
  },
  {
   "cell_type": "code",
   "execution_count": 63,
   "id": "edb129fc",
   "metadata": {},
   "outputs": [],
   "source": [
    "columns_to_keep3 = [\"comprobacion2\", \"poliester reciclado\",\"algodon reciclado\",\"algodon de cultivo organico certificado OCS\", \"poliamida reciclada certificada RCS\", \"acrilico reciclado\", \"elastano reciclado\", \"certificacion\"]\n",
    "\n",
    "filtered_df = sp_final[columns_to_keep3]\n",
    "#filtered_df.tail(5)"
   ]
  },
  {
   "cell_type": "code",
   "execution_count": 104,
   "id": "61ba0c13",
   "metadata": {},
   "outputs": [],
   "source": [
    "#sp_final.info()"
   ]
  },
  {
   "cell_type": "code",
   "execution_count": 65,
   "id": "91ea83e3",
   "metadata": {},
   "outputs": [],
   "source": [
    "# Crear una función para verificar el tipo de certificación\n",
    "def obtener_certificacion(lista):\n",
    "    if 'algodon de cultivo organico certificado OCS' in lista:\n",
    "        return 'OCS'\n",
    "    elif 'poliamida reciclada certificada RCS' in lista:\n",
    "        return 'RCS'\n",
    "    elif \"poliester reciclado\" in lista:\n",
    "        return 'RCS'\n",
    "    elif \"algodon reciclado\" in lista:\n",
    "        return 'RCS'\n",
    "    elif \"acrilico reciclado\" in lista:\n",
    "        return \"RCS\"\n",
    "    elif \"elastano reciclado\" in lista:\n",
    "        return \"RCS\"\n",
    "    else:\n",
    "        return \"None\""
   ]
  },
  {
   "cell_type": "code",
   "execution_count": 66,
   "id": "2d478962",
   "metadata": {},
   "outputs": [],
   "source": [
    "def aplicar_certificaciones(df):\n",
    "    # Inicializar las nuevas columnas en el DataFrame\n",
    "    df['OCS'] = np.nan\n",
    "    df['RCS'] = np.nan\n",
    "    \n",
    "    for idx in df.index:\n",
    "        descripcion = df.loc[idx, 'comprobacion2']\n",
    "        \n",
    "        if pd.notna(descripcion):\n",
    "            if \"organico\" in descripcion.lower():\n",
    "                df.at[idx, 'OCS'] = 'OCS'\n",
    "            if \"reciclado\" in descripcion.lower() or \"reciclada\" in descripcion.lower():\n",
    "                df.at[idx, 'RCS'] = 'RCS'\n",
    "    \n",
    "    return df"
   ]
  },
  {
   "cell_type": "code",
   "execution_count": 67,
   "id": "77f35ef4",
   "metadata": {},
   "outputs": [],
   "source": [
    "df_result = aplicar_certificaciones(sp_final)"
   ]
  },
  {
   "cell_type": "code",
   "execution_count": 68,
   "id": "221cbccd",
   "metadata": {},
   "outputs": [],
   "source": [
    "# Crear la función para obtener el porcentaje correspondiente\n",
    "def obtener_porcentaje(row):\n",
    "    if \"reciclado\" in row['comprobacion2'].lower():\n",
    "        porcentajes = re.findall(r'(\\d+\\.?\\d*)%', row['comprobacion2'])\n",
    "        if porcentajes:\n",
    "            return float(porcentajes[0])\n",
    "    return row['porcentaje']"
   ]
  },
  {
   "cell_type": "code",
   "execution_count": 69,
   "id": "650eff42",
   "metadata": {},
   "outputs": [],
   "source": [
    "sp_final['porcentaje'] = float('nan')"
   ]
  },
  {
   "cell_type": "code",
   "execution_count": 70,
   "id": "79b291f7",
   "metadata": {},
   "outputs": [],
   "source": [
    "sp_final['porcentaje'] = sp_final.apply(obtener_porcentaje, axis=1)"
   ]
  },
  {
   "cell_type": "code",
   "execution_count": 71,
   "id": "932cf5a4",
   "metadata": {},
   "outputs": [],
   "source": [
    "#sp_final.info()"
   ]
  },
  {
   "cell_type": "code",
   "execution_count": 72,
   "id": "e8fc7781",
   "metadata": {},
   "outputs": [],
   "source": [
    "def establecer_rcs(row):\n",
    "    if not pd.isna(row['algodon reciclado']) or \\\n",
    "       not pd.isna(row['poliamida reciclada certificada RCS']) or \\\n",
    "       not pd.isna(row['acrilico reciclado']) or \\\n",
    "       not pd.isna(row['elastano reciclado']):\n",
    "        return 'RCS'\n",
    "    else:\n",
    "        return np.nan"
   ]
  },
  {
   "cell_type": "code",
   "execution_count": 73,
   "id": "0e8247a6",
   "metadata": {},
   "outputs": [],
   "source": [
    "sp_final['certificacion_2'] = sp_final.apply(establecer_rcs, axis=1)"
   ]
  },
  {
   "cell_type": "code",
   "execution_count": 74,
   "id": "e06a6433",
   "metadata": {},
   "outputs": [],
   "source": [
    "columns_to_keep3 = [\"comprobacion2\", \"poliester reciclado\",\"algodon reciclado\",\"algodon de cultivo organico certificado OCS\", \"certificacion\", \"porcentaje\", \"certificacion_2\"]\n",
    "\n",
    "filtered_df = sp_final[columns_to_keep3]\n",
    "#filtered_df.tail(20)"
   ]
  },
  {
   "cell_type": "markdown",
   "id": "a7332f5a",
   "metadata": {},
   "source": [
    "#### Column Price: "
   ]
  },
  {
   "cell_type": "code",
   "execution_count": 75,
   "id": "86cb533d",
   "metadata": {},
   "outputs": [],
   "source": [
    "def remove_currency(df):\n",
    "    df[\"normal_price\"] = df[\"normal_price\"].replace(\"EUR\", \"\", regex=True)\n",
    "    df[\"special_price\"] = df[\"special_price\"].replace(\"EUR\", \"\", regex=True)\n",
    "    return df"
   ]
  },
  {
   "cell_type": "code",
   "execution_count": 76,
   "id": "0ce9df5b",
   "metadata": {},
   "outputs": [],
   "source": [
    "remove = remove_currency(sp_final)"
   ]
  },
  {
   "cell_type": "markdown",
   "id": "098ebafb",
   "metadata": {},
   "source": [
    "#### Column certificate por Intertek 193341:"
   ]
  },
  {
   "cell_type": "code",
   "execution_count": 77,
   "id": "a915f432",
   "metadata": {},
   "outputs": [],
   "source": [
    "def add_intertek_column(df):\n",
    "    pattern = re.compile(r'Certificado\\s+por\\s+Intertek\\s+193341', re.IGNORECASE)\n",
    "    df['intertek'] = df['description'].apply(lambda x: bool(pattern.search(x)))\n",
    "    \n",
    "    return df"
   ]
  },
  {
   "cell_type": "code",
   "execution_count": 78,
   "id": "8e0fe12f",
   "metadata": {},
   "outputs": [],
   "source": [
    "interket = add_intertek_column(sp_final)"
   ]
  },
  {
   "cell_type": "code",
   "execution_count": 79,
   "id": "8306bdb5",
   "metadata": {},
   "outputs": [
    {
     "data": {
      "text/plain": [
       "intertek\n",
       "False    93\n",
       "True     85\n",
       "Name: count, dtype: int64"
      ]
     },
     "execution_count": 79,
     "metadata": {},
     "output_type": "execute_result"
    }
   ],
   "source": [
    "sp_final[\"intertek\"].value_counts()"
   ]
  },
  {
   "cell_type": "markdown",
   "id": "a6184255",
   "metadata": {},
   "source": [
    "### EDA"
   ]
  },
  {
   "cell_type": "code",
   "execution_count": 80,
   "id": "af3229e4",
   "metadata": {},
   "outputs": [
    {
     "data": {
      "text/html": [
       "<div>\n",
       "<style scoped>\n",
       "    .dataframe tbody tr th:only-of-type {\n",
       "        vertical-align: middle;\n",
       "    }\n",
       "\n",
       "    .dataframe tbody tr th {\n",
       "        vertical-align: top;\n",
       "    }\n",
       "\n",
       "    .dataframe thead th {\n",
       "        text-align: right;\n",
       "    }\n",
       "</style>\n",
       "<table border=\"1\" class=\"dataframe\">\n",
       "  <thead>\n",
       "    <tr style=\"text-align: right;\">\n",
       "      <th></th>\n",
       "      <th>OCS</th>\n",
       "      <th>RCS</th>\n",
       "    </tr>\n",
       "  </thead>\n",
       "  <tbody>\n",
       "    <tr>\n",
       "      <th>OCS</th>\n",
       "      <td>45.657303</td>\n",
       "      <td>0.00000</td>\n",
       "    </tr>\n",
       "    <tr>\n",
       "      <th>RCS</th>\n",
       "      <td>0.000000</td>\n",
       "      <td>160.88764</td>\n",
       "    </tr>\n",
       "  </tbody>\n",
       "</table>\n",
       "</div>"
      ],
      "text/plain": [
       "           OCS        RCS\n",
       "OCS  45.657303    0.00000\n",
       "RCS   0.000000  160.88764"
      ]
     },
     "execution_count": 80,
     "metadata": {},
     "output_type": "execute_result"
    }
   ],
   "source": [
    "ocs_counts = sp_final['OCS'].value_counts()\n",
    "\n",
    "# Obtener el recuento de valores únicos en la columna 'RCS'\n",
    "rcs_counts = sp_final['RCS'].value_counts()\n",
    "\n",
    "# Calcular el recuento total de elementos\n",
    "total_count = len(sp_final)  # Aquí asumo que 'tshirt' es el DataFrame que contiene tus datos\n",
    "\n",
    "# Calcular la proporción de cada recuento con respecto al total\n",
    "ocs_counts_prop = (ocs_counts / total_count) * 387\n",
    "rcs_counts_prop = (rcs_counts / total_count) * 387\n",
    "\n",
    "# Crear la tabla dinámica con los recuentos corregidos\n",
    "pivot_table2 = pd.DataFrame({'OCS': ocs_counts_prop, 'RCS': rcs_counts_prop})\n",
    "\n",
    "# Si hay valores NaN en alguna de las columnas, reemplazarlos con 0\n",
    "pivot_table2 = pivot_table2.fillna(0)\n",
    "\n",
    "pivot_table2"
   ]
  },
  {
   "cell_type": "code",
   "execution_count": 81,
   "id": "dd7b3478",
   "metadata": {},
   "outputs": [],
   "source": [
    "pivot_table2.to_csv(\"total_cert_sp.csv\")"
   ]
  },
  {
   "cell_type": "code",
   "execution_count": 82,
   "id": "b4ac054d",
   "metadata": {},
   "outputs": [
    {
     "name": "stdout",
     "output_type": "stream",
     "text": [
      "Porcentaje de registros con certificación OCS: 11.80%\n",
      "Porcentaje de registros con certificación RCS: 41.57%\n"
     ]
    }
   ],
   "source": [
    "# Contar cuántos registros tienen valores no nulos en 'OCS' y 'RCS'\n",
    "ocs_cert_count = sp_final['OCS'].notna().sum()\n",
    "rcs_cert_count = sp_final['RCS'].notna().sum()\n",
    "\n",
    "# Calcular el recuento total de elementos\n",
    "total_count = len(sp_final)\n",
    "\n",
    "# Calcular el porcentaje de registros con certificación en 'OCS' y 'RCS'\n",
    "ocs_cert_percentage = (ocs_cert_count / total_count) * 100\n",
    "rcs_cert_percentage = (rcs_cert_count / total_count) * 100\n",
    "\n",
    "# Mostrar los porcentajes\n",
    "print(f\"Porcentaje de registros con certificación OCS: {ocs_cert_percentage:.2f}%\")\n",
    "print(f\"Porcentaje de registros con certificación RCS: {rcs_cert_percentage:.2f}%\")"
   ]
  },
  {
   "cell_type": "code",
   "execution_count": 83,
   "id": "9f84fc48",
   "metadata": {},
   "outputs": [
    {
     "data": {
      "text/html": [
       "<div>\n",
       "<style scoped>\n",
       "    .dataframe tbody tr th:only-of-type {\n",
       "        vertical-align: middle;\n",
       "    }\n",
       "\n",
       "    .dataframe tbody tr th {\n",
       "        vertical-align: top;\n",
       "    }\n",
       "\n",
       "    .dataframe thead th {\n",
       "        text-align: right;\n",
       "    }\n",
       "</style>\n",
       "<table border=\"1\" class=\"dataframe\">\n",
       "  <thead>\n",
       "    <tr style=\"text-align: right;\">\n",
       "      <th></th>\n",
       "      <th>Certificación</th>\n",
       "      <th>Porcentaje</th>\n",
       "    </tr>\n",
       "  </thead>\n",
       "  <tbody>\n",
       "    <tr>\n",
       "      <th>0</th>\n",
       "      <td>OCS</td>\n",
       "      <td>11.797753</td>\n",
       "    </tr>\n",
       "    <tr>\n",
       "      <th>1</th>\n",
       "      <td>RCS</td>\n",
       "      <td>41.573034</td>\n",
       "    </tr>\n",
       "  </tbody>\n",
       "</table>\n",
       "</div>"
      ],
      "text/plain": [
       "  Certificación  Porcentaje\n",
       "0           OCS   11.797753\n",
       "1           RCS   41.573034"
      ]
     },
     "execution_count": 83,
     "metadata": {},
     "output_type": "execute_result"
    }
   ],
   "source": [
    "# Contar cuántos registros tienen valores no nulos en 'OCS' y 'RCS'\n",
    "ocs_cert_count = sp_final['OCS'].notna().sum()\n",
    "rcs_cert_count = sp_final['RCS'].notna().sum()\n",
    "\n",
    "# Calcular el recuento total de elementos\n",
    "total_count = len(sp_final)\n",
    "\n",
    "# Calcular el porcentaje de registros con certificación en 'OCS' y 'RCS'\n",
    "ocs_cert_percentage = (ocs_cert_count / total_count) * 100\n",
    "rcs_cert_percentage = (rcs_cert_count / total_count) * 100\n",
    "\n",
    "# Crear un DataFrame con los porcentajes\n",
    "certification_percentages = pd.DataFrame({\n",
    "    'Certificación': ['OCS', 'RCS'],\n",
    "    'Porcentaje': [ocs_cert_percentage, rcs_cert_percentage]\n",
    "})\n",
    "\n",
    "# Guardar el DataFrame en un archivo CSV\n",
    "certification_percentages.to_csv(\"certification_percentages.csv\", index=False)\n",
    "\n",
    "# Mostrar el DataFrame para verificar\n",
    "certification_percentages"
   ]
  },
  {
   "cell_type": "code",
   "execution_count": 84,
   "id": "e39363d7",
   "metadata": {},
   "outputs": [],
   "source": [
    "certification_percentages.to_csv(\"%_certif_sp.csv\")"
   ]
  },
  {
   "cell_type": "code",
   "execution_count": 85,
   "id": "f8e0d692",
   "metadata": {},
   "outputs": [
    {
     "data": {
      "text/html": [
       "<div>\n",
       "<style scoped>\n",
       "    .dataframe tbody tr th:only-of-type {\n",
       "        vertical-align: middle;\n",
       "    }\n",
       "\n",
       "    .dataframe tbody tr th {\n",
       "        vertical-align: top;\n",
       "    }\n",
       "\n",
       "    .dataframe thead th {\n",
       "        text-align: right;\n",
       "    }\n",
       "</style>\n",
       "<table border=\"1\" class=\"dataframe\">\n",
       "  <thead>\n",
       "    <tr style=\"text-align: right;\">\n",
       "      <th></th>\n",
       "      <th>Product</th>\n",
       "      <th>OCS Percentage</th>\n",
       "      <th>RCS Percentage</th>\n",
       "    </tr>\n",
       "  </thead>\n",
       "  <tbody>\n",
       "    <tr>\n",
       "      <th>0</th>\n",
       "      <td>Blazer</td>\n",
       "      <td>0.000000</td>\n",
       "      <td>100.000000</td>\n",
       "    </tr>\n",
       "    <tr>\n",
       "      <th>1</th>\n",
       "      <td>Bolso</td>\n",
       "      <td>0.000000</td>\n",
       "      <td>0.000000</td>\n",
       "    </tr>\n",
       "    <tr>\n",
       "      <th>2</th>\n",
       "      <td>Calzado</td>\n",
       "      <td>0.000000</td>\n",
       "      <td>0.000000</td>\n",
       "    </tr>\n",
       "    <tr>\n",
       "      <th>3</th>\n",
       "      <td>Camisa</td>\n",
       "      <td>27.272727</td>\n",
       "      <td>27.272727</td>\n",
       "    </tr>\n",
       "    <tr>\n",
       "      <th>4</th>\n",
       "      <td>Camiseta</td>\n",
       "      <td>100.000000</td>\n",
       "      <td>0.000000</td>\n",
       "    </tr>\n",
       "    <tr>\n",
       "      <th>5</th>\n",
       "      <td>Chaqueta</td>\n",
       "      <td>3.571429</td>\n",
       "      <td>57.142857</td>\n",
       "    </tr>\n",
       "    <tr>\n",
       "      <th>6</th>\n",
       "      <td>Falda</td>\n",
       "      <td>9.090909</td>\n",
       "      <td>72.727273</td>\n",
       "    </tr>\n",
       "    <tr>\n",
       "      <th>7</th>\n",
       "      <td>Jeans</td>\n",
       "      <td>47.058824</td>\n",
       "      <td>52.941176</td>\n",
       "    </tr>\n",
       "    <tr>\n",
       "      <th>8</th>\n",
       "      <td>Jersey</td>\n",
       "      <td>0.000000</td>\n",
       "      <td>34.782609</td>\n",
       "    </tr>\n",
       "    <tr>\n",
       "      <th>9</th>\n",
       "      <td>Other</td>\n",
       "      <td>0.000000</td>\n",
       "      <td>18.750000</td>\n",
       "    </tr>\n",
       "    <tr>\n",
       "      <th>10</th>\n",
       "      <td>Pantalon</td>\n",
       "      <td>25.000000</td>\n",
       "      <td>68.750000</td>\n",
       "    </tr>\n",
       "    <tr>\n",
       "      <th>11</th>\n",
       "      <td>Vestido</td>\n",
       "      <td>17.647059</td>\n",
       "      <td>47.058824</td>\n",
       "    </tr>\n",
       "  </tbody>\n",
       "</table>\n",
       "</div>"
      ],
      "text/plain": [
       "     Product  OCS Percentage  RCS Percentage\n",
       "0     Blazer        0.000000      100.000000\n",
       "1      Bolso        0.000000        0.000000\n",
       "2    Calzado        0.000000        0.000000\n",
       "3     Camisa       27.272727       27.272727\n",
       "4   Camiseta      100.000000        0.000000\n",
       "5   Chaqueta        3.571429       57.142857\n",
       "6      Falda        9.090909       72.727273\n",
       "7      Jeans       47.058824       52.941176\n",
       "8     Jersey        0.000000       34.782609\n",
       "9      Other        0.000000       18.750000\n",
       "10  Pantalon       25.000000       68.750000\n",
       "11   Vestido       17.647059       47.058824"
      ]
     },
     "execution_count": 85,
     "metadata": {},
     "output_type": "execute_result"
    }
   ],
   "source": [
    "# Calcular el total de registros por producto\n",
    "total_por_producto = sp_final.groupby('product_name').size()\n",
    "\n",
    "# Calcular el número de registros con certificación por producto en 'OCS' y 'RCS'\n",
    "ocs_cert_por_producto = sp_final.groupby('product_name')['OCS'].apply(lambda x: x.notna().sum())\n",
    "rcs_cert_por_producto = sp_final.groupby('product_name')['RCS'].apply(lambda x: x.notna().sum())\n",
    "\n",
    "# Calcular el porcentaje de certificación por producto\n",
    "ocs_cert_percentage_por_producto = (ocs_cert_por_producto / total_por_producto) * 100\n",
    "rcs_cert_percentage_por_producto = (rcs_cert_por_producto / total_por_producto) * 100\n",
    "\n",
    "# Crear un DataFrame con los porcentajes por producto\n",
    "certification_percentages_por_producto = pd.DataFrame({\n",
    "    'Product': total_por_producto.index,\n",
    "    'OCS Percentage': ocs_cert_percentage_por_producto.values,\n",
    "    'RCS Percentage': rcs_cert_percentage_por_producto.values\n",
    "})\n",
    "\n",
    "# Guardar el DataFrame en un archivo CSV\n",
    "certification_percentages_por_producto.to_csv(\"certification_percentages_por_producto.csv\", index=False)\n",
    "\n",
    "# Mostrar el DataFrame para verificar\n",
    "certification_percentages_por_producto"
   ]
  },
  {
   "cell_type": "code",
   "execution_count": 86,
   "id": "75b1180b",
   "metadata": {},
   "outputs": [],
   "source": [
    "certification_percentages_por_producto.to_csv('porcentaje_total_sp.csv')"
   ]
  },
  {
   "cell_type": "markdown",
   "id": "a45d3363",
   "metadata": {},
   "source": [
    "## FINAL SP DF: "
   ]
  },
  {
   "cell_type": "code",
   "execution_count": 105,
   "id": "5028c1e7",
   "metadata": {},
   "outputs": [],
   "source": [
    "#sp_final.info()"
   ]
  },
  {
   "cell_type": "code",
   "execution_count": 88,
   "id": "b3de991d",
   "metadata": {},
   "outputs": [],
   "source": [
    "sp_final = sp_final.drop(columns=['description', \"comprobacion\", \"comprobacion2\"])"
   ]
  },
  {
   "cell_type": "code",
   "execution_count": 89,
   "id": "c095a61d",
   "metadata": {},
   "outputs": [],
   "source": [
    "sp_final.rename(columns={\n",
    "    \"index_x\" : \"index\",\n",
    "    \"material\": \"main_txt\",\n",
    "    \"num_materials\": \"total_composition\",\n",
    "    \"num_material\": \"1_composition\",\n",
    "    \"material_secundario\": \"second_txt\",\n",
    "    \"num_material_secundario\": \"2_composition\",\n",
    "    \"reciclado\": \"txt_recycled\",\n",
    "    \"algodon de cultivo organico certificado OCS\": \"cotton_OCS\",\n",
    "    \"poliester reciclado\": \"rec_poliester\",\n",
    "    \"algodon reciclado\": \"rec_cotton\",\n",
    "    \"poliamida reciclada certificada RCS\": \"rec_poliamida\",\n",
    "    \"acrilico reciclado\": \"rec_acrilico\",\n",
    "    \"elastano reciclado\" : \"rec_elastano\"\n",
    "}, inplace=True)"
   ]
  },
  {
   "cell_type": "code",
   "execution_count": 90,
   "id": "cbc71920",
   "metadata": {},
   "outputs": [],
   "source": [
    "# Función para quitar el símbolo '%'\n",
    "def remove_percent(x):\n",
    "    if isinstance(x, str):\n",
    "        return x.replace('%', '')\n",
    "    return x"
   ]
  },
  {
   "cell_type": "code",
   "execution_count": 91,
   "id": "4b56b628",
   "metadata": {},
   "outputs": [],
   "source": [
    "sp_final = sp_final.applymap(remove_percent)"
   ]
  },
  {
   "cell_type": "code",
   "execution_count": 92,
   "id": "a3146d41",
   "metadata": {},
   "outputs": [],
   "source": [
    "columns_to_convert = [\n",
    "    'algodon', 'poliamida', 'elastano', 'lino', 'viscosa', \n",
    "    'poliester', 'otras', 'liocel', 'fibra', \n",
    "    'acrilico', 'lana',\n",
    "    'cotton_OCS', 'rec_poliester', 'rec_cotton', 'rec_poliamida', \n",
    "    'rec_acrilico', 'rec_elastano', 'porcentaje'\n",
    "]\n",
    "\n",
    "# Convertir las columnas especificadas a numérico\n",
    "for column in columns_to_convert:\n",
    "    sp_final[column] = pd.to_numeric(sp_final[column], errors='coerce')"
   ]
  },
  {
   "cell_type": "code",
   "execution_count": 93,
   "id": "f6d5eea3",
   "metadata": {},
   "outputs": [],
   "source": [
    "sp_final['price'] = pd.to_numeric(sp_final['normal_price'].str.replace(',', '.'), errors='coerce')"
   ]
  },
  {
   "cell_type": "code",
   "execution_count": 94,
   "id": "929680a5",
   "metadata": {},
   "outputs": [],
   "source": [
    "sp_final['price'] = pd.to_numeric(sp_final['special_price'].str.replace(',', '.'), errors='coerce')"
   ]
  },
  {
   "cell_type": "code",
   "execution_count": 95,
   "id": "4c291054",
   "metadata": {},
   "outputs": [],
   "source": [
    "columns1 = ['algodon', 'poliamida', 'elastano', 'lino', 'viscosa', 'poliester', 'otras', 'liocel',\n",
    "                     'fibra', 'acrilico', 'lana', '1_composition', '2_composition', 'cotton_OCS', 'rec_poliester',\n",
    "                     'rec_cotton', 'rec_poliamida', 'rec_acrilico','rec_elastano', 'porcentaje']\n",
    "\n",
    "sp_final[columns1] = sp_final[columns1].apply(lambda x: x / 100) "
   ]
  },
  {
   "cell_type": "code",
   "execution_count": 96,
   "id": "a9cc3d75",
   "metadata": {},
   "outputs": [
    {
     "data": {
      "text/plain": [
       "43.81389526392657"
      ]
     },
     "execution_count": 96,
     "metadata": {},
     "output_type": "execute_result"
    }
   ],
   "source": [
    "# Calcular el total de certificaciones OCS y el total de algodón en todas las prendas\n",
    "total_OCS = sp_final['OCS'].eq('OCS').sum()\n",
    "total_algodon = sp_final['algodon'].sum()\n",
    "\n",
    "# Calcular el porcentaje de OCS en función del total de algodón\n",
    "porcentaje_OCS_total = (total_OCS / total_algodon) * 100\n",
    "porcentaje_OCS_total"
   ]
  },
  {
   "cell_type": "code",
   "execution_count": 97,
   "id": "92be6c82",
   "metadata": {},
   "outputs": [],
   "source": [
    "sp_final.to_csv(\"final_sp.csv\", index=True)"
   ]
  },
  {
   "cell_type": "code",
   "execution_count": 98,
   "id": "81d9acba",
   "metadata": {},
   "outputs": [],
   "source": [
    "sp_final = sp_final.drop(columns=[\"price\"])"
   ]
  },
  {
   "cell_type": "code",
   "execution_count": 106,
   "id": "4a3926f5",
   "metadata": {},
   "outputs": [],
   "source": [
    "#sp_final.info()"
   ]
  },
  {
   "cell_type": "code",
   "execution_count": null,
   "id": "6492475e",
   "metadata": {},
   "outputs": [],
   "source": []
  }
 ],
 "metadata": {
  "kernelspec": {
   "display_name": "Python 3 (ipykernel)",
   "language": "python",
   "name": "python3"
  },
  "language_info": {
   "codemirror_mode": {
    "name": "ipython",
    "version": 3
   },
   "file_extension": ".py",
   "mimetype": "text/x-python",
   "name": "python",
   "nbconvert_exporter": "python",
   "pygments_lexer": "ipython3",
   "version": "3.11.7"
  }
 },
 "nbformat": 4,
 "nbformat_minor": 5
}
