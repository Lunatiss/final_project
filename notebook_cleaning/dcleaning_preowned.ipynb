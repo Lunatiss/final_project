{
 "cells": [
  {
   "cell_type": "code",
   "execution_count": 5,
   "id": "ec254702",
   "metadata": {},
   "outputs": [],
   "source": [
    "import pandas as pd\n",
    "from unidecode import unidecode\n",
    "import re\n",
    "import ast\n",
    "import numpy as np\n",
    "from wordcloud import WordCloud\n",
    "import matplotlib.pyplot as plt"
   ]
  },
  {
   "cell_type": "code",
   "execution_count": 6,
   "id": "1901af98",
   "metadata": {},
   "outputs": [],
   "source": [
    "import warnings\n",
    "\n",
    "#Suppress all warnings\n",
    "warnings.filterwarnings(\"ignore\")\n"
   ]
  },
  {
   "cell_type": "code",
   "execution_count": 7,
   "id": "1f1ac1cf",
   "metadata": {},
   "outputs": [],
   "source": [
    "# Remove accents with unidecode\n",
    "def remove_accents(text):\n",
    "    if isinstance(text, str):\n",
    "        return unidecode(text)\n",
    "    return text"
   ]
  },
  {
   "cell_type": "markdown",
   "id": "ed9df49a",
   "metadata": {},
   "source": [
    "## PRE-OWNED"
   ]
  },
  {
   "cell_type": "code",
   "execution_count": 8,
   "id": "71b3fa54",
   "metadata": {},
   "outputs": [],
   "source": [
    "pre = pd.read_csv(\"/Users/admin/Desktop/IRONHACK/8.WEEK/final_project/notebooks/datos/final_categorias/pre-owned-zara.csv\")\n",
    "\n",
    "pre.reset_index(inplace = True)\n",
    "pre.drop(columns=['Unnamed: 0'], inplace=True)\n",
    "\n",
    "# Aplicar la función a todo el DataFrame\n",
    "pre = pre.applymap(remove_accents)"
   ]
  },
  {
   "cell_type": "code",
   "execution_count": 9,
   "id": "c73d3d55",
   "metadata": {
    "scrolled": true
   },
   "outputs": [
    {
     "data": {
      "text/html": [
       "<div>\n",
       "<style scoped>\n",
       "    .dataframe tbody tr th:only-of-type {\n",
       "        vertical-align: middle;\n",
       "    }\n",
       "\n",
       "    .dataframe tbody tr th {\n",
       "        vertical-align: top;\n",
       "    }\n",
       "\n",
       "    .dataframe thead th {\n",
       "        text-align: right;\n",
       "    }\n",
       "</style>\n",
       "<table border=\"1\" class=\"dataframe\">\n",
       "  <thead>\n",
       "    <tr style=\"text-align: right;\">\n",
       "      <th></th>\n",
       "      <th>index</th>\n",
       "      <th>product_name</th>\n",
       "      <th>price</th>\n",
       "      <th>detail</th>\n",
       "      <th>year_purchase</th>\n",
       "    </tr>\n",
       "  </thead>\n",
       "  <tbody>\n",
       "    <tr>\n",
       "      <th>0</th>\n",
       "      <td>0</td>\n",
       "      <td>VESTIDO CUADRO VICHY</td>\n",
       "      <td>14,00 EUR</td>\n",
       "      <td>['Como nuevo']</td>\n",
       "      <td>2022</td>\n",
       "    </tr>\n",
       "    <tr>\n",
       "      <th>1</th>\n",
       "      <td>1</td>\n",
       "      <td>ZAPATO DESTALONADO ACHAROLADO PULSERAS</td>\n",
       "      <td>29,95 EUR</td>\n",
       "      <td>['Nuevo con etiquetas']</td>\n",
       "      <td>2023</td>\n",
       "    </tr>\n",
       "    <tr>\n",
       "      <th>2</th>\n",
       "      <td>2</td>\n",
       "      <td>CAMISETA RIB TIRANTES</td>\n",
       "      <td>9,00 EUR</td>\n",
       "      <td>['Como nuevo']</td>\n",
       "      <td>2023</td>\n",
       "    </tr>\n",
       "    <tr>\n",
       "      <th>3</th>\n",
       "      <td>3</td>\n",
       "      <td>PANTALON FALDA PLISADA</td>\n",
       "      <td>10,00 EUR</td>\n",
       "      <td>['Como nuevo']</td>\n",
       "      <td>2020</td>\n",
       "    </tr>\n",
       "    <tr>\n",
       "      <th>4</th>\n",
       "      <td>4</td>\n",
       "      <td>PANUELO ESTAMPADO FLORAL</td>\n",
       "      <td>9,9 EUR</td>\n",
       "      <td>['Como nuevo']</td>\n",
       "      <td></td>\n",
       "    </tr>\n",
       "  </tbody>\n",
       "</table>\n",
       "</div>"
      ],
      "text/plain": [
       "   index                            product_name      price  \\\n",
       "0      0                    VESTIDO CUADRO VICHY  14,00 EUR   \n",
       "1      1  ZAPATO DESTALONADO ACHAROLADO PULSERAS  29,95 EUR   \n",
       "2      2                   CAMISETA RIB TIRANTES   9,00 EUR   \n",
       "3      3                  PANTALON FALDA PLISADA  10,00 EUR   \n",
       "4      4                PANUELO ESTAMPADO FLORAL    9,9 EUR   \n",
       "\n",
       "                    detail year_purchase  \n",
       "0           ['Como nuevo']          2022  \n",
       "1  ['Nuevo con etiquetas']          2023  \n",
       "2           ['Como nuevo']          2023  \n",
       "3           ['Como nuevo']          2020  \n",
       "4           ['Como nuevo']                "
      ]
     },
     "execution_count": 9,
     "metadata": {},
     "output_type": "execute_result"
    }
   ],
   "source": [
    "pre.head()"
   ]
  },
  {
   "cell_type": "markdown",
   "id": "d53f25c2",
   "metadata": {},
   "source": [
    "#### Column Product_name: "
   ]
  },
  {
   "cell_type": "code",
   "execution_count": 10,
   "id": "3f419734",
   "metadata": {},
   "outputs": [],
   "source": [
    "pre['product_name'] = pre['product_name'].str.title()\n",
    "pre['product_name'] = pre['product_name'].apply(lambda x: x.ljust(15))\n",
    "pre = pre.applymap(lambda x: f'{x:<50}' if isinstance(x, str) else x)"
   ]
  },
  {
   "cell_type": "code",
   "execution_count": 11,
   "id": "f05ee29e",
   "metadata": {},
   "outputs": [
    {
     "data": {
      "text/html": [
       "<div>\n",
       "<style scoped>\n",
       "    .dataframe tbody tr th:only-of-type {\n",
       "        vertical-align: middle;\n",
       "    }\n",
       "\n",
       "    .dataframe tbody tr th {\n",
       "        vertical-align: top;\n",
       "    }\n",
       "\n",
       "    .dataframe thead th {\n",
       "        text-align: right;\n",
       "    }\n",
       "</style>\n",
       "<table border=\"1\" class=\"dataframe\">\n",
       "  <thead>\n",
       "    <tr style=\"text-align: right;\">\n",
       "      <th></th>\n",
       "      <th>index</th>\n",
       "      <th>product_name</th>\n",
       "      <th>price</th>\n",
       "      <th>detail</th>\n",
       "      <th>year_purchase</th>\n",
       "    </tr>\n",
       "  </thead>\n",
       "  <tbody>\n",
       "    <tr>\n",
       "      <th>0</th>\n",
       "      <td>0</td>\n",
       "      <td>Vestido Cuadro Vichy                          ...</td>\n",
       "      <td>14,00 EUR                                     ...</td>\n",
       "      <td>['Como nuevo']                                ...</td>\n",
       "      <td>2022                                         ...</td>\n",
       "    </tr>\n",
       "    <tr>\n",
       "      <th>1</th>\n",
       "      <td>1</td>\n",
       "      <td>Zapato Destalonado Acharolado Pulseras        ...</td>\n",
       "      <td>29,95 EUR                                     ...</td>\n",
       "      <td>['Nuevo con etiquetas']                       ...</td>\n",
       "      <td>2023                                         ...</td>\n",
       "    </tr>\n",
       "    <tr>\n",
       "      <th>2</th>\n",
       "      <td>2</td>\n",
       "      <td>Camiseta Rib Tirantes                         ...</td>\n",
       "      <td>9,00 EUR                                      ...</td>\n",
       "      <td>['Como nuevo']                                ...</td>\n",
       "      <td>2023                                         ...</td>\n",
       "    </tr>\n",
       "    <tr>\n",
       "      <th>3</th>\n",
       "      <td>3</td>\n",
       "      <td>Pantalon Falda Plisada                        ...</td>\n",
       "      <td>10,00 EUR                                     ...</td>\n",
       "      <td>['Como nuevo']                                ...</td>\n",
       "      <td>2020                                         ...</td>\n",
       "    </tr>\n",
       "    <tr>\n",
       "      <th>4</th>\n",
       "      <td>4</td>\n",
       "      <td>Panuelo Estampado Floral                      ...</td>\n",
       "      <td>9,9 EUR                                       ...</td>\n",
       "      <td>['Como nuevo']                                ...</td>\n",
       "      <td>...</td>\n",
       "    </tr>\n",
       "  </tbody>\n",
       "</table>\n",
       "</div>"
      ],
      "text/plain": [
       "   index                                       product_name  \\\n",
       "0      0  Vestido Cuadro Vichy                          ...   \n",
       "1      1  Zapato Destalonado Acharolado Pulseras        ...   \n",
       "2      2  Camiseta Rib Tirantes                         ...   \n",
       "3      3  Pantalon Falda Plisada                        ...   \n",
       "4      4  Panuelo Estampado Floral                      ...   \n",
       "\n",
       "                                               price  \\\n",
       "0  14,00 EUR                                     ...   \n",
       "1  29,95 EUR                                     ...   \n",
       "2  9,00 EUR                                      ...   \n",
       "3  10,00 EUR                                     ...   \n",
       "4  9,9 EUR                                       ...   \n",
       "\n",
       "                                              detail  \\\n",
       "0  ['Como nuevo']                                ...   \n",
       "1  ['Nuevo con etiquetas']                       ...   \n",
       "2  ['Como nuevo']                                ...   \n",
       "3  ['Como nuevo']                                ...   \n",
       "4  ['Como nuevo']                                ...   \n",
       "\n",
       "                                       year_purchase  \n",
       "0   2022                                         ...  \n",
       "1   2023                                         ...  \n",
       "2   2023                                         ...  \n",
       "3   2020                                         ...  \n",
       "4                                                ...  "
      ]
     },
     "execution_count": 11,
     "metadata": {},
     "output_type": "execute_result"
    }
   ],
   "source": [
    "pre.head()"
   ]
  },
  {
   "cell_type": "code",
   "execution_count": 12,
   "id": "c4f118fc",
   "metadata": {},
   "outputs": [],
   "source": [
    "patt_po = { r\"[Vv]estido\" : \"Vestido\",\n",
    "            r\"[Mm]ono\" : \"Mono\",\n",
    "            r\"[Tt]op\" : \"Top\",\n",
    "            r\"[Cc]amisa\" : \"Camisa\",\n",
    "            r\"[Pp]antalon\" : \"Pantalon\", \n",
    "            r\"[Jj]eans\" : \"Jeans\", \n",
    "            r\"[Bb]olso\" : \"Bolso\", \n",
    "            r\"[Ss]andalia\" : \"Calzado\",\n",
    "            r\"[Zz]apatillas\" : \"Calzado\",\n",
    "            r\"[Mm]ocasin\" : \"Calzado\",\n",
    "            r\"[Cc]haqueta\" : \"Chaqueta\", \n",
    "            r\"[Pp]arka\" : \"Chaqueta\", \n",
    "            r\"[Aa]norak\" : \"Chaqueta\",\n",
    "            r\"[Cc]azadora\" : \"Chaqueta\",\n",
    "            r\"[Jj]ersey\" : \"Jersey\", \n",
    "            r\"[Ff]alda\" : \"Falda\",\n",
    "            r\"[Bb]lazer\" : \"Blazer\", \n",
    "            r\"[Cc]amiseta\": \"Camiseta\"\n",
    "          }"
   ]
  },
  {
   "cell_type": "code",
   "execution_count": 13,
   "id": "c5f32e3c",
   "metadata": {},
   "outputs": [],
   "source": [
    "def categorize_activities(text, patt_po):\n",
    "    if isinstance(text, str):  # Check if the value is a text string\n",
    "        for pattern, category in patt_po.items():\n",
    "            if re.search(pattern, text):\n",
    "                return category\n",
    "    return \"Otros\"  # If it does not match any category, \"Other\" is returned."
   ]
  },
  {
   "cell_type": "code",
   "execution_count": 14,
   "id": "1036ccae",
   "metadata": {},
   "outputs": [
    {
     "data": {
      "text/plain": [
       "array(['Vestido', 'Otros', 'Camiseta', 'Pantalon', 'Bolso', 'Jeans',\n",
       "       'Calzado', 'Mono', 'Top', 'Falda', 'Jersey', 'Camisa', 'Chaqueta',\n",
       "       'Blazer'], dtype=object)"
      ]
     },
     "execution_count": 14,
     "metadata": {},
     "output_type": "execute_result"
    }
   ],
   "source": [
    "# Clear invalid values in the \"activity\" column\n",
    "pre[\"product_name\"] = pre[\"product_name\"].fillna(\"empty\")  # Fill NaN values with an empty string\n",
    "pre[\"product_name\"] = pre[\"product_name\"].astype(str)  # Convert all values to text strings\n",
    "# Apply the function to categorize activities\n",
    "pre[\"product_name\"] = pre[\"product_name\"].apply(lambda x: categorize_activities(x, patt_po))\n",
    "pre[\"product_name\"].unique()"
   ]
  },
  {
   "cell_type": "code",
   "execution_count": 15,
   "id": "590cd199",
   "metadata": {},
   "outputs": [
    {
     "data": {
      "text/plain": [
       "product_name\n",
       "Vestido     60\n",
       "Otros       56\n",
       "Top         30\n",
       "Calzado     27\n",
       "Falda       20\n",
       "Pantalon    18\n",
       "Bolso       17\n",
       "Jeans       13\n",
       "Camiseta     6\n",
       "Chaqueta     6\n",
       "Mono         5\n",
       "Blazer       4\n",
       "Camisa       3\n",
       "Jersey       2\n",
       "Name: count, dtype: int64"
      ]
     },
     "execution_count": 15,
     "metadata": {},
     "output_type": "execute_result"
    }
   ],
   "source": [
    "pre[\"product_name\"].value_counts()"
   ]
  },
  {
   "cell_type": "markdown",
   "id": "c32488f6",
   "metadata": {},
   "source": [
    "#### Column Price: "
   ]
  },
  {
   "cell_type": "code",
   "execution_count": 16,
   "id": "fa798615",
   "metadata": {},
   "outputs": [],
   "source": [
    "def remove_currency(df):\n",
    "    df[\"price\"] = df[\"price\"].replace(\"EUR\", \"\", regex=True)\n",
    "    return df"
   ]
  },
  {
   "cell_type": "code",
   "execution_count": 17,
   "id": "09748c2c",
   "metadata": {},
   "outputs": [],
   "source": [
    "remove = remove_currency(pre)"
   ]
  },
  {
   "cell_type": "code",
   "execution_count": 18,
   "id": "a4e64293",
   "metadata": {},
   "outputs": [
    {
     "data": {
      "text/html": [
       "<div>\n",
       "<style scoped>\n",
       "    .dataframe tbody tr th:only-of-type {\n",
       "        vertical-align: middle;\n",
       "    }\n",
       "\n",
       "    .dataframe tbody tr th {\n",
       "        vertical-align: top;\n",
       "    }\n",
       "\n",
       "    .dataframe thead th {\n",
       "        text-align: right;\n",
       "    }\n",
       "</style>\n",
       "<table border=\"1\" class=\"dataframe\">\n",
       "  <thead>\n",
       "    <tr style=\"text-align: right;\">\n",
       "      <th></th>\n",
       "      <th>index</th>\n",
       "      <th>product_name</th>\n",
       "      <th>price</th>\n",
       "      <th>detail</th>\n",
       "      <th>year_purchase</th>\n",
       "    </tr>\n",
       "  </thead>\n",
       "  <tbody>\n",
       "    <tr>\n",
       "      <th>0</th>\n",
       "      <td>0</td>\n",
       "      <td>Vestido</td>\n",
       "      <td>14,00</td>\n",
       "      <td>['Como nuevo']                                ...</td>\n",
       "      <td>2022                                         ...</td>\n",
       "    </tr>\n",
       "    <tr>\n",
       "      <th>1</th>\n",
       "      <td>1</td>\n",
       "      <td>Otros</td>\n",
       "      <td>29,95</td>\n",
       "      <td>['Nuevo con etiquetas']                       ...</td>\n",
       "      <td>2023                                         ...</td>\n",
       "    </tr>\n",
       "    <tr>\n",
       "      <th>2</th>\n",
       "      <td>2</td>\n",
       "      <td>Camiseta</td>\n",
       "      <td>9,00</td>\n",
       "      <td>['Como nuevo']                                ...</td>\n",
       "      <td>2023                                         ...</td>\n",
       "    </tr>\n",
       "    <tr>\n",
       "      <th>3</th>\n",
       "      <td>3</td>\n",
       "      <td>Pantalon</td>\n",
       "      <td>10,00</td>\n",
       "      <td>['Como nuevo']                                ...</td>\n",
       "      <td>2020                                         ...</td>\n",
       "    </tr>\n",
       "    <tr>\n",
       "      <th>4</th>\n",
       "      <td>4</td>\n",
       "      <td>Otros</td>\n",
       "      <td>9,9</td>\n",
       "      <td>['Como nuevo']                                ...</td>\n",
       "      <td>...</td>\n",
       "    </tr>\n",
       "  </tbody>\n",
       "</table>\n",
       "</div>"
      ],
      "text/plain": [
       "   index product_name                                            price  \\\n",
       "0      0      Vestido  14,00                                             \n",
       "1      1        Otros  29,95                                             \n",
       "2      2     Camiseta  9,00                                              \n",
       "3      3     Pantalon  10,00                                             \n",
       "4      4        Otros  9,9                                               \n",
       "\n",
       "                                              detail  \\\n",
       "0  ['Como nuevo']                                ...   \n",
       "1  ['Nuevo con etiquetas']                       ...   \n",
       "2  ['Como nuevo']                                ...   \n",
       "3  ['Como nuevo']                                ...   \n",
       "4  ['Como nuevo']                                ...   \n",
       "\n",
       "                                       year_purchase  \n",
       "0   2022                                         ...  \n",
       "1   2023                                         ...  \n",
       "2   2023                                         ...  \n",
       "3   2020                                         ...  \n",
       "4                                                ...  "
      ]
     },
     "execution_count": 18,
     "metadata": {},
     "output_type": "execute_result"
    }
   ],
   "source": [
    "pre.head()"
   ]
  },
  {
   "cell_type": "markdown",
   "id": "836b5939",
   "metadata": {},
   "source": [
    "#### Column detail"
   ]
  },
  {
   "cell_type": "code",
   "execution_count": 19,
   "id": "0e51cdec",
   "metadata": {},
   "outputs": [],
   "source": [
    "def clean_text(text):\n",
    "    return re.sub(r\"[\\[\\]']\", \"\", text)"
   ]
  },
  {
   "cell_type": "code",
   "execution_count": 20,
   "id": "1cf271b5",
   "metadata": {},
   "outputs": [],
   "source": [
    "pre['detail'] = pre['detail'].apply(clean_text)"
   ]
  },
  {
   "cell_type": "code",
   "execution_count": 21,
   "id": "8ef63b75",
   "metadata": {},
   "outputs": [
    {
     "data": {
      "text/html": [
       "<div>\n",
       "<style scoped>\n",
       "    .dataframe tbody tr th:only-of-type {\n",
       "        vertical-align: middle;\n",
       "    }\n",
       "\n",
       "    .dataframe tbody tr th {\n",
       "        vertical-align: top;\n",
       "    }\n",
       "\n",
       "    .dataframe thead th {\n",
       "        text-align: right;\n",
       "    }\n",
       "</style>\n",
       "<table border=\"1\" class=\"dataframe\">\n",
       "  <thead>\n",
       "    <tr style=\"text-align: right;\">\n",
       "      <th></th>\n",
       "      <th>index</th>\n",
       "      <th>product_name</th>\n",
       "      <th>price</th>\n",
       "      <th>detail</th>\n",
       "      <th>year_purchase</th>\n",
       "    </tr>\n",
       "  </thead>\n",
       "  <tbody>\n",
       "    <tr>\n",
       "      <th>0</th>\n",
       "      <td>0</td>\n",
       "      <td>Vestido</td>\n",
       "      <td>14,00</td>\n",
       "      <td>Como nuevo</td>\n",
       "      <td>2022                                         ...</td>\n",
       "    </tr>\n",
       "    <tr>\n",
       "      <th>1</th>\n",
       "      <td>1</td>\n",
       "      <td>Otros</td>\n",
       "      <td>29,95</td>\n",
       "      <td>Nuevo con etiquetas</td>\n",
       "      <td>2023                                         ...</td>\n",
       "    </tr>\n",
       "    <tr>\n",
       "      <th>2</th>\n",
       "      <td>2</td>\n",
       "      <td>Camiseta</td>\n",
       "      <td>9,00</td>\n",
       "      <td>Como nuevo</td>\n",
       "      <td>2023                                         ...</td>\n",
       "    </tr>\n",
       "    <tr>\n",
       "      <th>3</th>\n",
       "      <td>3</td>\n",
       "      <td>Pantalon</td>\n",
       "      <td>10,00</td>\n",
       "      <td>Como nuevo</td>\n",
       "      <td>2020                                         ...</td>\n",
       "    </tr>\n",
       "    <tr>\n",
       "      <th>4</th>\n",
       "      <td>4</td>\n",
       "      <td>Otros</td>\n",
       "      <td>9,9</td>\n",
       "      <td>Como nuevo</td>\n",
       "      <td>...</td>\n",
       "    </tr>\n",
       "  </tbody>\n",
       "</table>\n",
       "</div>"
      ],
      "text/plain": [
       "   index product_name                                            price  \\\n",
       "0      0      Vestido  14,00                                             \n",
       "1      1        Otros  29,95                                             \n",
       "2      2     Camiseta  9,00                                              \n",
       "3      3     Pantalon  10,00                                             \n",
       "4      4        Otros  9,9                                               \n",
       "\n",
       "                                           detail  \\\n",
       "0  Como nuevo                                       \n",
       "1  Nuevo con etiquetas                              \n",
       "2  Como nuevo                                       \n",
       "3  Como nuevo                                       \n",
       "4  Como nuevo                                       \n",
       "\n",
       "                                       year_purchase  \n",
       "0   2022                                         ...  \n",
       "1   2023                                         ...  \n",
       "2   2023                                         ...  \n",
       "3   2020                                         ...  \n",
       "4                                                ...  "
      ]
     },
     "execution_count": 21,
     "metadata": {},
     "output_type": "execute_result"
    }
   ],
   "source": [
    "pre.head()"
   ]
  },
  {
   "cell_type": "code",
   "execution_count": 22,
   "id": "6c129b73",
   "metadata": {},
   "outputs": [
    {
     "data": {
      "text/plain": [
       "year_purchase\n",
       "                                                      143\n",
       " 2023                                                  81\n",
       " 2022                                                  17\n",
       " 2024                                                  16\n",
       " 2021                                                   4\n",
       " 2020                                                   3\n",
       " 2019                                                   1\n",
       " 2018                                                   1\n",
       " 2017                                                   1\n",
       "Name: count, dtype: int64"
      ]
     },
     "execution_count": 22,
     "metadata": {},
     "output_type": "execute_result"
    }
   ],
   "source": [
    "pre[\"year_purchase\"].value_counts()"
   ]
  },
  {
   "cell_type": "code",
   "execution_count": 23,
   "id": "72bb9479",
   "metadata": {},
   "outputs": [],
   "source": [
    "#pre['price'] = pre['price'].replace(r'^\\s*$', np.nan, regex=True)"
   ]
  },
  {
   "cell_type": "code",
   "execution_count": 24,
   "id": "a514847f",
   "metadata": {},
   "outputs": [],
   "source": [
    "#pre['price'] = pd.to_numeric(pre['price'], errors='coerce')"
   ]
  },
  {
   "cell_type": "code",
   "execution_count": 25,
   "id": "2d92aebc",
   "metadata": {},
   "outputs": [
    {
     "data": {
      "text/plain": [
       "index            0\n",
       "product_name     0\n",
       "price            0\n",
       "detail           0\n",
       "year_purchase    0\n",
       "dtype: int64"
      ]
     },
     "execution_count": 25,
     "metadata": {},
     "output_type": "execute_result"
    }
   ],
   "source": [
    "null_counts = pre.isnull().sum()\n",
    "null_counts"
   ]
  },
  {
   "cell_type": "code",
   "execution_count": 26,
   "id": "84d8dd4a",
   "metadata": {},
   "outputs": [
    {
     "data": {
      "text/html": [
       "<div>\n",
       "<style scoped>\n",
       "    .dataframe tbody tr th:only-of-type {\n",
       "        vertical-align: middle;\n",
       "    }\n",
       "\n",
       "    .dataframe tbody tr th {\n",
       "        vertical-align: top;\n",
       "    }\n",
       "\n",
       "    .dataframe thead th {\n",
       "        text-align: right;\n",
       "    }\n",
       "</style>\n",
       "<table border=\"1\" class=\"dataframe\">\n",
       "  <thead>\n",
       "    <tr style=\"text-align: right;\">\n",
       "      <th></th>\n",
       "      <th>index</th>\n",
       "      <th>product_name</th>\n",
       "      <th>price</th>\n",
       "      <th>detail</th>\n",
       "      <th>year_purchase</th>\n",
       "    </tr>\n",
       "  </thead>\n",
       "  <tbody>\n",
       "    <tr>\n",
       "      <th>0</th>\n",
       "      <td>0</td>\n",
       "      <td>Vestido</td>\n",
       "      <td>14,00</td>\n",
       "      <td>Como nuevo</td>\n",
       "      <td>2022                                         ...</td>\n",
       "    </tr>\n",
       "    <tr>\n",
       "      <th>1</th>\n",
       "      <td>1</td>\n",
       "      <td>Otros</td>\n",
       "      <td>29,95</td>\n",
       "      <td>Nuevo con etiquetas</td>\n",
       "      <td>2023                                         ...</td>\n",
       "    </tr>\n",
       "    <tr>\n",
       "      <th>2</th>\n",
       "      <td>2</td>\n",
       "      <td>Camiseta</td>\n",
       "      <td>9,00</td>\n",
       "      <td>Como nuevo</td>\n",
       "      <td>2023                                         ...</td>\n",
       "    </tr>\n",
       "    <tr>\n",
       "      <th>3</th>\n",
       "      <td>3</td>\n",
       "      <td>Pantalon</td>\n",
       "      <td>10,00</td>\n",
       "      <td>Como nuevo</td>\n",
       "      <td>2020                                         ...</td>\n",
       "    </tr>\n",
       "    <tr>\n",
       "      <th>4</th>\n",
       "      <td>4</td>\n",
       "      <td>Otros</td>\n",
       "      <td>9,9</td>\n",
       "      <td>Como nuevo</td>\n",
       "      <td>...</td>\n",
       "    </tr>\n",
       "  </tbody>\n",
       "</table>\n",
       "</div>"
      ],
      "text/plain": [
       "   index product_name                                            price  \\\n",
       "0      0      Vestido  14,00                                             \n",
       "1      1        Otros  29,95                                             \n",
       "2      2     Camiseta  9,00                                              \n",
       "3      3     Pantalon  10,00                                             \n",
       "4      4        Otros  9,9                                               \n",
       "\n",
       "                                           detail  \\\n",
       "0  Como nuevo                                       \n",
       "1  Nuevo con etiquetas                              \n",
       "2  Como nuevo                                       \n",
       "3  Como nuevo                                       \n",
       "4  Como nuevo                                       \n",
       "\n",
       "                                       year_purchase  \n",
       "0   2022                                         ...  \n",
       "1   2023                                         ...  \n",
       "2   2023                                         ...  \n",
       "3   2020                                         ...  \n",
       "4                                                ...  "
      ]
     },
     "execution_count": 26,
     "metadata": {},
     "output_type": "execute_result"
    }
   ],
   "source": [
    "pre.head()"
   ]
  },
  {
   "cell_type": "code",
   "execution_count": 27,
   "id": "0fede226",
   "metadata": {},
   "outputs": [],
   "source": [
    "pre.to_csv(\"pre_owned.csv\", index=True)"
   ]
  },
  {
   "cell_type": "markdown",
   "id": "800ddd09",
   "metadata": {},
   "source": [
    "#### Visualization"
   ]
  },
  {
   "cell_type": "code",
   "execution_count": 28,
   "id": "530330dd",
   "metadata": {},
   "outputs": [],
   "source": [
    "def generate_word_cloud(data, title):\n",
    "    text = \" \".join(review for review in data)\n",
    "    wordcloud = WordCloud(max_font_size=50, max_words=100, background_color=\"white\").generate(text)\n",
    "    \n",
    "    plt.figure(figsize=(10, 7))\n",
    "    plt.imshow(wordcloud, interpolation='bilinear')\n",
    "    plt.title(title, fontsize=15)\n",
    "    plt.axis(\"off\")\n",
    "    plt.show()"
   ]
  },
  {
   "cell_type": "code",
   "execution_count": 29,
   "id": "35c17b45",
   "metadata": {},
   "outputs": [
    {
     "data": {
      "image/png": "[encoded data removed]",
      "text/plain": [
       "<Figure size 1000x700 with 1 Axes>"
      ]
     },
     "metadata": {},
     "output_type": "display_data"
    }
   ],
   "source": [
    "generate_word_cloud(pre['detail'], \"Status of clothes\")"
   ]
  }
 ],
 "metadata": {
  "kernelspec": {
   "display_name": "Python 3 (ipykernel)",
   "language": "python",
   "name": "python3"
  },
  "language_info": {
   "codemirror_mode": {
    "name": "ipython",
    "version": 3
   },
   "file_extension": ".py",
   "mimetype": "text/x-python",
   "name": "python",
   "nbconvert_exporter": "python",
   "pygments_lexer": "ipython3",
   "version": "3.11.7"
  }
 },
 "nbformat": 4,
 "nbformat_minor": 5
}
