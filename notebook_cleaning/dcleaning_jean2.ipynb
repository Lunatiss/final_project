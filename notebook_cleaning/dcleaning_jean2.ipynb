{
 "cells": [
  {
   "cell_type": "code",
   "execution_count": 40,
   "id": "ec254702",
   "metadata": {},
   "outputs": [],
   "source": [
    "import pandas as pd\n",
    "from unidecode import unidecode\n",
    "import re\n",
    "import ast\n",
    "import numpy as np\n",
    "from wordcloud import WordCloud\n",
    "import matplotlib.pyplot as plt"
   ]
  },
  {
   "cell_type": "code",
   "execution_count": 41,
   "id": "1901af98",
   "metadata": {},
   "outputs": [],
   "source": [
    "import warnings\n",
    "\n",
    "#Suppress all warnings\n",
    "warnings.filterwarnings(\"ignore\")\n"
   ]
  },
  {
   "cell_type": "markdown",
   "id": "2b0bbcb0",
   "metadata": {},
   "source": [
    "## DF JEANS:"
   ]
  },
  {
   "cell_type": "code",
   "execution_count": 42,
   "id": "1f1ac1cf",
   "metadata": {},
   "outputs": [],
   "source": [
    "# Remove accents with unidecode\n",
    "def remove_accents(text):\n",
    "    if isinstance(text, str):\n",
    "        return unidecode(text)\n",
    "    return text"
   ]
  },
  {
   "cell_type": "code",
   "execution_count": 43,
   "id": "1aa57ea3",
   "metadata": {},
   "outputs": [],
   "source": [
    "df1 = pd.read_csv(\"/Users/admin/Desktop/IRONHACK/8.WEEK/final_project/notebooks/datos/jeans/df7.csv\")\n",
    "df2 = pd.read_csv(\"/Users/admin/Desktop/IRONHACK/8.WEEK/final_project/notebooks/datos/jeans/df8.csv\")\n",
    "df3 = pd.read_csv(\"/Users/admin/Desktop/IRONHACK/8.WEEK/final_project/notebooks/datos/jeans/df9.csv\")\n",
    "\n",
    "jean = pd.concat([df1, df2, df3], axis=0)\n",
    "\n",
    "jean.drop(columns=['Unnamed: 0','desciption'], inplace=True)\n",
    "\n",
    "# Aplicar la función a todo el DataFrame\n",
    "jean = jean.applymap(remove_accents)\n",
    "\n",
    "jean.reset_index(inplace = True)"
   ]
  },
  {
   "cell_type": "code",
   "execution_count": 44,
   "id": "c2cd542e",
   "metadata": {},
   "outputs": [
    {
     "data": {
      "text/plain": [
       "(400, 4)"
      ]
     },
     "execution_count": 44,
     "metadata": {},
     "output_type": "execute_result"
    }
   ],
   "source": [
    "jean.shape"
   ]
  },
  {
   "cell_type": "code",
   "execution_count": 45,
   "id": "acae36d4",
   "metadata": {},
   "outputs": [],
   "source": [
    "jean = jean.dropna(subset=['product_name'])"
   ]
  },
  {
   "cell_type": "code",
   "execution_count": 46,
   "id": "18e3ccb4",
   "metadata": {},
   "outputs": [
    {
     "data": {
      "text/plain": [
       "(387, 4)"
      ]
     },
     "execution_count": 46,
     "metadata": {},
     "output_type": "execute_result"
    }
   ],
   "source": [
    "jean.shape"
   ]
  },
  {
   "cell_type": "markdown",
   "id": "2644a10e",
   "metadata": {},
   "source": [
    "### Clean and create new columns"
   ]
  },
  {
   "cell_type": "markdown",
   "id": "e161f96f",
   "metadata": {},
   "source": [
    "- Create column made_in with the origin of the clothes.\n",
    "- Create column composition of clothes.\n",
    "- Create column recycled or not and wich material is recycled. \n",
    "- Create column for OCS & RCS. \n",
    "- Clean price, estandar, product_name & remove spaces, accents, symbols, quotes, etc. "
   ]
  },
  {
   "cell_type": "markdown",
   "id": "e8c13afe",
   "metadata": {},
   "source": [
    "#### Column product_name: "
   ]
  },
  {
   "cell_type": "code",
   "execution_count": 47,
   "id": "fa55500c",
   "metadata": {},
   "outputs": [],
   "source": [
    "def convertir_formato(texto):\n",
    "    return texto.lower().title()"
   ]
  },
  {
   "cell_type": "code",
   "execution_count": 48,
   "id": "0f3af54f",
   "metadata": {},
   "outputs": [],
   "source": [
    "jean[\"product_name\"] = jean[\"product_name\"].apply(convertir_formato)"
   ]
  },
  {
   "cell_type": "code",
   "execution_count": 49,
   "id": "95ecea03",
   "metadata": {},
   "outputs": [],
   "source": [
    "jean[\"product_name\"] = jean[\"product_name\"].str.strip() #delete null space infront of and behind each row\n",
    "jean[\"product_name\"] = jean[\"product_name\"].str.lstrip() #delete null space left hand"
   ]
  },
  {
   "cell_type": "code",
   "execution_count": 50,
   "id": "ac17e944",
   "metadata": {},
   "outputs": [],
   "source": [
    "# Alinea el texto a la izquierda y establece una anchura fija\n",
    "jean = jean.applymap(lambda x: f'{x:<50}' if isinstance(x, str) else x)"
   ]
  },
  {
   "cell_type": "code",
   "execution_count": 51,
   "id": "1d988d7e",
   "metadata": {},
   "outputs": [
    {
     "data": {
      "text/html": [
       "<div>\n",
       "<style scoped>\n",
       "    .dataframe tbody tr th:only-of-type {\n",
       "        vertical-align: middle;\n",
       "    }\n",
       "\n",
       "    .dataframe tbody tr th {\n",
       "        vertical-align: top;\n",
       "    }\n",
       "\n",
       "    .dataframe thead th {\n",
       "        text-align: right;\n",
       "    }\n",
       "</style>\n",
       "<table border=\"1\" class=\"dataframe\">\n",
       "  <thead>\n",
       "    <tr style=\"text-align: right;\">\n",
       "      <th></th>\n",
       "      <th>index</th>\n",
       "      <th>product_name</th>\n",
       "      <th>price</th>\n",
       "      <th>description</th>\n",
       "    </tr>\n",
       "  </thead>\n",
       "  <tbody>\n",
       "    <tr>\n",
       "      <th>0</th>\n",
       "      <td>0</td>\n",
       "      <td>Jeans Zw Collection Bootcut Tiro Alto Cropped ...</td>\n",
       "      <td>35,95 EUR                                     ...</td>\n",
       "      <td>['Trabajamos con programas de seguimiento para...</td>\n",
       "    </tr>\n",
       "    <tr>\n",
       "      <th>3</th>\n",
       "      <td>3</td>\n",
       "      <td>Jeans Z1975 Rectos Tiro Alto                  ...</td>\n",
       "      <td>25,95 EUR                                     ...</td>\n",
       "      <td>['Trabajamos con programas de seguimiento para...</td>\n",
       "    </tr>\n",
       "    <tr>\n",
       "      <th>4</th>\n",
       "      <td>4</td>\n",
       "      <td>Jeans Z1975 Flare Tiro Medio                  ...</td>\n",
       "      <td>25,95 EUR                                     ...</td>\n",
       "      <td>['Trabajamos con programas de seguimiento para...</td>\n",
       "    </tr>\n",
       "    <tr>\n",
       "      <th>5</th>\n",
       "      <td>5</td>\n",
       "      <td>Jeans Z1975 Rectos Tiro Alto                  ...</td>\n",
       "      <td>25,95 EUR                                     ...</td>\n",
       "      <td>['Trabajamos con programas de seguimiento para...</td>\n",
       "    </tr>\n",
       "    <tr>\n",
       "      <th>6</th>\n",
       "      <td>6</td>\n",
       "      <td>Jeans Zw Collection Bootcut Tiro Alto Cropped ...</td>\n",
       "      <td>29,95 EUR                                     ...</td>\n",
       "      <td>['Trabajamos con programas de seguimiento para...</td>\n",
       "    </tr>\n",
       "  </tbody>\n",
       "</table>\n",
       "</div>"
      ],
      "text/plain": [
       "   index                                       product_name  \\\n",
       "0      0  Jeans Zw Collection Bootcut Tiro Alto Cropped ...   \n",
       "3      3  Jeans Z1975 Rectos Tiro Alto                  ...   \n",
       "4      4  Jeans Z1975 Flare Tiro Medio                  ...   \n",
       "5      5  Jeans Z1975 Rectos Tiro Alto                  ...   \n",
       "6      6  Jeans Zw Collection Bootcut Tiro Alto Cropped ...   \n",
       "\n",
       "                                               price  \\\n",
       "0  35,95 EUR                                     ...   \n",
       "3  25,95 EUR                                     ...   \n",
       "4  25,95 EUR                                     ...   \n",
       "5  25,95 EUR                                     ...   \n",
       "6  29,95 EUR                                     ...   \n",
       "\n",
       "                                         description  \n",
       "0  ['Trabajamos con programas de seguimiento para...  \n",
       "3  ['Trabajamos con programas de seguimiento para...  \n",
       "4  ['Trabajamos con programas de seguimiento para...  \n",
       "5  ['Trabajamos con programas de seguimiento para...  \n",
       "6  ['Trabajamos con programas de seguimiento para...  "
      ]
     },
     "execution_count": 51,
     "metadata": {},
     "output_type": "execute_result"
    }
   ],
   "source": [
    "jean.head()"
   ]
  },
  {
   "cell_type": "markdown",
   "id": "eccfa62b",
   "metadata": {},
   "source": [
    "#### Create regex pattern to simplify the analysis"
   ]
  },
  {
   "cell_type": "code",
   "execution_count": 52,
   "id": "5c20f901",
   "metadata": {},
   "outputs": [],
   "source": [
    "patt_jean = { r\"[Mm]om\" : \"Jean Mom\",\n",
    "                r\"[Rr]ectos\" : \"Jean Rectos\",\n",
    "                r\"[Cc]ollection\" : \"Jean ZW Collection\",\n",
    "                r\"[Ss]kinny\" : \"Jean Skinny\", \n",
    "                r\"[Ww]ide\" : \"Jean Wide Leg\" \n",
    "              }"
   ]
  },
  {
   "cell_type": "code",
   "execution_count": 53,
   "id": "3032d43e",
   "metadata": {},
   "outputs": [],
   "source": [
    "def categorize_activities(text, patt_jean):\n",
    "    if isinstance(text, str):  # Check if the value is a text string\n",
    "        for pattern, category in patt_jean.items():\n",
    "            if re.search(pattern, text):\n",
    "                return category\n",
    "    return \"Jean Temporada\"  # If it does not match any category, \"Other\" is returned."
   ]
  },
  {
   "cell_type": "code",
   "execution_count": 54,
   "id": "a8c4919b",
   "metadata": {},
   "outputs": [
    {
     "data": {
      "text/plain": [
       "array(['Jean ZW Collection', 'Jean Rectos', 'Jean Temporada',\n",
       "       'Jean Wide Leg', 'Jean Skinny', 'Jean Mom'], dtype=object)"
      ]
     },
     "execution_count": 54,
     "metadata": {},
     "output_type": "execute_result"
    }
   ],
   "source": [
    "# Clear invalid values in the \"activity\" column\n",
    "jean[\"product_name\"] = jean[\"product_name\"].fillna(\"empty\")  # Fill NaN values with an empty string\n",
    "jean[\"product_name\"] = jean[\"product_name\"].astype(str)  # Convert all values to text strings\n",
    "# Apply the function to categorize activities\n",
    "jean[\"product_name\"] = jean[\"product_name\"].apply(lambda x: categorize_activities(x, patt_jean))\n",
    "jean[\"product_name\"].unique()"
   ]
  },
  {
   "cell_type": "code",
   "execution_count": 55,
   "id": "a1bf617b",
   "metadata": {},
   "outputs": [
    {
     "data": {
      "text/plain": [
       "product_name\n",
       "Jean Temporada        124\n",
       "Jean Rectos            91\n",
       "Jean ZW Collection     69\n",
       "Jean Wide Leg          63\n",
       "Jean Mom               23\n",
       "Jean Skinny            17\n",
       "Name: count, dtype: int64"
      ]
     },
     "execution_count": 55,
     "metadata": {},
     "output_type": "execute_result"
    }
   ],
   "source": [
    "jean[\"product_name\"].value_counts()"
   ]
  },
  {
   "cell_type": "markdown",
   "id": "d6ddc842",
   "metadata": {},
   "source": [
    "#### Column made in:"
   ]
  },
  {
   "cell_type": "code",
   "execution_count": 56,
   "id": "fbe05c70",
   "metadata": {},
   "outputs": [],
   "source": [
    "#Function for extract made in\n",
    "def extract_origin(description):\n",
    "    match = re.search(r'hecho\\s+en\\s+(\\w+)', description, re.IGNORECASE)\n",
    "    if match:\n",
    "        return match.group(1)\n",
    "    else:\n",
    "        return None"
   ]
  },
  {
   "cell_type": "code",
   "execution_count": 57,
   "id": "8fea972c",
   "metadata": {},
   "outputs": [],
   "source": [
    "# Apply the function to the column description and create a new column called made_in\n",
    "jean['made_in'] = jean['description'].apply(extract_origin)"
   ]
  },
  {
   "cell_type": "code",
   "execution_count": 58,
   "id": "a9f86201",
   "metadata": {},
   "outputs": [
    {
     "data": {
      "text/plain": [
       "made_in\n",
       "Turquia       167\n",
       "Bangladesh    122\n",
       "Pakistan       61\n",
       "Egipto         19\n",
       "Tunez          16\n",
       "Camboya         1\n",
       "Marruecos       1\n",
       "Name: count, dtype: int64"
      ]
     },
     "execution_count": 58,
     "metadata": {},
     "output_type": "execute_result"
    }
   ],
   "source": [
    "jean['made_in'].value_counts()"
   ]
  },
  {
   "cell_type": "markdown",
   "id": "eb39dafc",
   "metadata": {},
   "source": [
    "#### Column estandar:"
   ]
  },
  {
   "cell_type": "code",
   "execution_count": 59,
   "id": "cab51211",
   "metadata": {},
   "outputs": [],
   "source": [
    "# Regex pattern\n",
    "patron_regex = re.compile(r'(?:estandares\\s(.*))', re.IGNORECASE)"
   ]
  },
  {
   "cell_type": "code",
   "execution_count": 60,
   "id": "1907a6f1",
   "metadata": {},
   "outputs": [],
   "source": [
    "#Function to extract standar\n",
    "def extract_estandar(description):\n",
    "    # Desempaquetar la cadena de texto de la lista\n",
    "    description = ast.literal_eval(description) #convertir un string a lista\n",
    "    match = patron_regex.search(\" \".join(description[0:1]))\n",
    "    #print(\" \".join(description[0:1]))\n",
    "    #print(match)\n",
    "    if match:\n",
    "        return match.group(1)\n",
    "    else:\n",
    "        return None"
   ]
  },
  {
   "cell_type": "code",
   "execution_count": 61,
   "id": "b24b78e8",
   "metadata": {},
   "outputs": [],
   "source": [
    "# Apply the function to the column description and create a new column called made_in\n",
    "jean['estandar'] = jean['description'].apply(extract_estandar)"
   ]
  },
  {
   "cell_type": "code",
   "execution_count": 62,
   "id": "0904749e",
   "metadata": {},
   "outputs": [],
   "source": [
    "def check_create(text):\n",
    "    palabras_clave = ['estandar', 'sociales', 'medioambientales', 'seguridad y salud']\n",
    "    for palabra in palabras_clave:\n",
    "        if palabra in text:\n",
    "            return True\n",
    "    return False"
   ]
  },
  {
   "cell_type": "code",
   "execution_count": 63,
   "id": "6c41e386",
   "metadata": {},
   "outputs": [],
   "source": [
    "jean['standard_soc_ma'] = jean['estandar'].apply(check_create)"
   ]
  },
  {
   "cell_type": "code",
   "execution_count": 64,
   "id": "dfd19f4d",
   "metadata": {},
   "outputs": [
    {
     "data": {
      "text/plain": [
       "standard_soc_ma\n",
       "True    387\n",
       "Name: count, dtype: int64"
      ]
     },
     "execution_count": 64,
     "metadata": {},
     "output_type": "execute_result"
    }
   ],
   "source": [
    "jean['standard_soc_ma'].value_counts()"
   ]
  },
  {
   "cell_type": "code",
   "execution_count": 65,
   "id": "3d4e2acc",
   "metadata": {},
   "outputs": [],
   "source": [
    "jean.drop(columns=['estandar'], inplace=True)"
   ]
  },
  {
   "cell_type": "markdown",
   "id": "877f31db",
   "metadata": {},
   "source": [
    "#### Column composition:"
   ]
  },
  {
   "cell_type": "code",
   "execution_count": 66,
   "id": "0e534ac6",
   "metadata": {},
   "outputs": [],
   "source": [
    "#Function to extract composition\n",
    "def extract_composition_materiales_4(df):\n",
    "    \n",
    "    df[\"comprobacion\"] = np.nan\n",
    "    \n",
    "    for idn in df.index:\n",
    "        \n",
    "        description = df.loc[idn, \"description\"]\n",
    "    \n",
    "        if description != \"[]\":\n",
    "            # Desempaquetar la cadena de texto de la lista\n",
    "            res = description.strip('][').split(', ')\n",
    "            s1 = res[2:4][0] #Posicion donde esta ubicado en la lista\n",
    "            #print(s1)\n",
    "            patron = r'(\\d+)%\\s*([a-zA-Z]+)'\n",
    "            # Buscamos todas las coincidencias en la cadena\n",
    "            coincidencias = re.findall(patron, s1)\n",
    "            #print(coincidencias)\n",
    "        \n",
    "            df[\"comprobacion\"][idn] = coincidencias\n",
    "            \n",
    "            for porcentaje, material in coincidencias:\n",
    "                if material in df.columns:\n",
    "                    df[material][idn] = porcentaje\n",
    "                else:\n",
    "                    df[material]= np.nan\n",
    "                    df[material][idn] = porcentaje\n",
    "        else:\n",
    "            continue\n",
    "                \n",
    "    return df"
   ]
  },
  {
   "cell_type": "code",
   "execution_count": 67,
   "id": "16ae7fbd",
   "metadata": {},
   "outputs": [],
   "source": [
    "apply_function8 = extract_composition_materiales_4(jean)"
   ]
  },
  {
   "cell_type": "code",
   "execution_count": 68,
   "id": "23a61470",
   "metadata": {},
   "outputs": [
    {
     "name": "stdout",
     "output_type": "stream",
     "text": [
      "<class 'pandas.core.frame.DataFrame'>\n",
      "Index: 387 entries, 0 to 399\n",
      "Data columns (total 13 columns):\n",
      " #   Column            Non-Null Count  Dtype \n",
      "---  ------            --------------  ----- \n",
      " 0   index             387 non-null    int64 \n",
      " 1   product_name      387 non-null    object\n",
      " 2   price             387 non-null    object\n",
      " 3   description       387 non-null    object\n",
      " 4   made_in           387 non-null    object\n",
      " 5   standard_soc_ma   387 non-null    bool  \n",
      " 6   comprobacion      387 non-null    object\n",
      " 7   algodon           387 non-null    object\n",
      " 8   poliester         32 non-null     object\n",
      " 9   elastano          129 non-null    object\n",
      " 10  elastomultiester  25 non-null     object\n",
      " 11  liocel            27 non-null     object\n",
      " 12  lino              2 non-null      object\n",
      "dtypes: bool(1), int64(1), object(11)\n",
      "memory usage: 47.8+ KB\n"
     ]
    }
   ],
   "source": [
    "jean.info()"
   ]
  },
  {
   "cell_type": "code",
   "execution_count": 69,
   "id": "0297e24f",
   "metadata": {},
   "outputs": [],
   "source": [
    "#jean.head()"
   ]
  },
  {
   "cell_type": "code",
   "execution_count": 70,
   "id": "3da2db9b",
   "metadata": {},
   "outputs": [],
   "source": [
    "# Crear una nueva columna para contar el número de materiales en cada lista\n",
    "jean['num_materials'] = jean['comprobacion'].apply(lambda x: len(x) if isinstance(x, list) else 0)"
   ]
  },
  {
   "cell_type": "code",
   "execution_count": 71,
   "id": "dca8aa5d",
   "metadata": {},
   "outputs": [],
   "source": [
    "# Crear una nueva columna para asignar el main material de cada producto.\n",
    "\n",
    "jean['material'] = jean['comprobacion'].apply(\n",
    "    lambda x: x[0][1] if isinstance(x, list) and len(x) > 0 and len(x[0]) > 1 else None\n",
    ")"
   ]
  },
  {
   "cell_type": "code",
   "execution_count": 72,
   "id": "a115b643",
   "metadata": {},
   "outputs": [
    {
     "data": {
      "text/plain": [
       "material\n",
       "algodon      383\n",
       "liocel         3\n",
       "poliester      1\n",
       "Name: count, dtype: int64"
      ]
     },
     "execution_count": 72,
     "metadata": {},
     "output_type": "execute_result"
    }
   ],
   "source": [
    "jean['material'].value_counts()"
   ]
  },
  {
   "cell_type": "code",
   "execution_count": 73,
   "id": "9cf39617",
   "metadata": {},
   "outputs": [],
   "source": [
    "# Crear una nueva columna para asignar el material secundario de cada producto.\n",
    "jean['num_material'] = jean['comprobacion'].apply(lambda x: int(x[0][0]) if len(x) > 0 else None)"
   ]
  },
  {
   "cell_type": "code",
   "execution_count": 74,
   "id": "5f55ea57",
   "metadata": {},
   "outputs": [],
   "source": [
    "# Crear una nueva columna para contar el % de material para ese producto\n",
    "jean['material_secundario'] = jean['comprobacion'].apply(lambda x: x[1][1] if len(x) > 1 else None)"
   ]
  },
  {
   "cell_type": "code",
   "execution_count": 75,
   "id": "1711fc5f",
   "metadata": {},
   "outputs": [],
   "source": [
    "# Crear una nueva columna para contar el % de material para ese producto\n",
    "jean['num_material_secundario'] = jean['comprobacion'].apply(lambda x: int(x[1][0]) if len(x) > 1 else None)"
   ]
  },
  {
   "cell_type": "code",
   "execution_count": 76,
   "id": "69530e22",
   "metadata": {},
   "outputs": [
    {
     "name": "stdout",
     "output_type": "stream",
     "text": [
      "<class 'pandas.core.frame.DataFrame'>\n",
      "Index: 387 entries, 0 to 399\n",
      "Data columns (total 18 columns):\n",
      " #   Column                   Non-Null Count  Dtype  \n",
      "---  ------                   --------------  -----  \n",
      " 0   index                    387 non-null    int64  \n",
      " 1   product_name             387 non-null    object \n",
      " 2   price                    387 non-null    object \n",
      " 3   description              387 non-null    object \n",
      " 4   made_in                  387 non-null    object \n",
      " 5   standard_soc_ma          387 non-null    bool   \n",
      " 6   comprobacion             387 non-null    object \n",
      " 7   algodon                  387 non-null    object \n",
      " 8   poliester                32 non-null     object \n",
      " 9   elastano                 129 non-null    object \n",
      " 10  elastomultiester         25 non-null     object \n",
      " 11  liocel                   27 non-null     object \n",
      " 12  lino                     2 non-null      object \n",
      " 13  num_materials            387 non-null    int64  \n",
      " 14  material                 387 non-null    object \n",
      " 15  num_material             387 non-null    int64  \n",
      " 16  material_secundario      157 non-null    object \n",
      " 17  num_material_secundario  157 non-null    float64\n",
      "dtypes: bool(1), float64(1), int64(3), object(13)\n",
      "memory usage: 62.9+ KB\n"
     ]
    }
   ],
   "source": [
    "jean.info()"
   ]
  },
  {
   "cell_type": "code",
   "execution_count": 77,
   "id": "2d358a19",
   "metadata": {},
   "outputs": [],
   "source": [
    "columns_to_keep2 = [\"comprobacion\", \"material\", \"num_materials\", \"num_material\", \"material_secundario\", \"num_material_secundario\"]\n",
    "\n",
    "filtered_df = jean[columns_to_keep2]\n",
    "#filtered_df.tail(20)"
   ]
  },
  {
   "cell_type": "code",
   "execution_count": 78,
   "id": "020687f6",
   "metadata": {},
   "outputs": [
    {
     "data": {
      "text/plain": [
       "num_materials\n",
       "1    230\n",
       "2     99\n",
       "3     58\n",
       "Name: count, dtype: int64"
      ]
     },
     "execution_count": 78,
     "metadata": {},
     "output_type": "execute_result"
    }
   ],
   "source": [
    "jean[\"num_materials\"].value_counts()"
   ]
  },
  {
   "cell_type": "markdown",
   "id": "3043460e",
   "metadata": {},
   "source": [
    "#### Column recycled:"
   ]
  },
  {
   "cell_type": "code",
   "execution_count": 79,
   "id": "bdb986c6",
   "metadata": {},
   "outputs": [],
   "source": [
    "def recycled_2(df):\n",
    "    \n",
    "    # Inicializar columnas adicionales para cada tipo de material\n",
    "    for material in [\"OCS\", \"RCS\", \"reciclado\"]:\n",
    "        df[material] = np.nan\n",
    "    \n",
    "    # Inicializar columna de comprobación\n",
    "    df[\"comprobacion2\"] = np.nan\n",
    "    \n",
    "    # Iterar sobre cada índice del DataFrame\n",
    "    for idn in df.index:\n",
    "        # Obtener la descripción de la fila actual\n",
    "        description = df.loc[idn, \"description\"]\n",
    "        \n",
    "        # Lista para almacenar los materiales encontrados\n",
    "        materiales_encontrados = []\n",
    "        \n",
    "        # Verificar si la descripción no está vacía\n",
    "        if description != \"[]\":\n",
    "            # Desempaquetar la cadena de texto de la lista\n",
    "            res = description.strip('][').split(', ')\n",
    "            \n",
    "            # Recorrer cada elemento de la descripción\n",
    "            for item in res:\n",
    "                # Buscar coincidencias con el patrón en la descripción\n",
    "                matches = re.findall(r\"(\\d+% .*?(?:OCS|RCS|reciclado|cultivo orgánico))\", item)\n",
    "                \n",
    "                # Iterar sobre las coincidencias encontradas\n",
    "                for match in matches:\n",
    "                    # Extraer el porcentaje y el tipo de material\n",
    "                    porcentaje, material = match.split(None, 1)\n",
    "                    \n",
    "                    # Limpiar el tipo de material\n",
    "                    material = material.strip()\n",
    "                    \n",
    "                    # Convertir el porcentaje a float\n",
    "                    porcentaje = float(porcentaje.strip('%'))\n",
    "                    \n",
    "                    # Asignar el porcentaje al tipo de material en la fila actual\n",
    "                    df.at[idn, material] = porcentaje\n",
    "                    \n",
    "                    # Agregar el material a la lista de materiales encontrados\n",
    "                    materiales_encontrados.append(material)\n",
    "                    \n",
    "        # Asignar la lista de materiales encontrados a la columna de comprobación\n",
    "        df.at[idn, \"comprobacion2\"] = ', '.join(materiales_encontrados)  # Convertir la lista a cadena de texto\n",
    "                \n",
    "    return df"
   ]
  },
  {
   "cell_type": "code",
   "execution_count": 80,
   "id": "fc82b9d9",
   "metadata": {},
   "outputs": [],
   "source": [
    "prueba3 = recycled_2(jean)"
   ]
  },
  {
   "cell_type": "code",
   "execution_count": 81,
   "id": "36e4d0db",
   "metadata": {},
   "outputs": [],
   "source": [
    "#jean.info()"
   ]
  },
  {
   "cell_type": "code",
   "execution_count": 82,
   "id": "bf7b0026",
   "metadata": {},
   "outputs": [],
   "source": [
    "columns_to_keep3 = [\"comprobacion2\", \"poliester reciclado\", \"algodon reciclado\", \"algodon de cultivo organico certificado OCS\"]\n",
    "\n",
    "filtered_df = jean[columns_to_keep3]\n",
    "#filtered_df.tail(20)"
   ]
  },
  {
   "cell_type": "code",
   "execution_count": 83,
   "id": "c2e884ab",
   "metadata": {},
   "outputs": [],
   "source": [
    "def obtener_certificacion(lista):\n",
    "    if 'algodon de cultivo organico certificado OCS' in lista \\\n",
    "        or 'algodon de cultivo organico' in lista \\\n",
    "        or 'algodon organico' in lista \\\n",
    "        or 'algodon certificado OCS' in lista \\\n",
    "        or 'algodon OCS' in lista \\\n",
    "        or 'algodon reciclado certificado' in lista \\\n",
    "        or 'algodon reciclado' in lista:\n",
    "        return 'OCS'\n",
    "    elif 'poliamida reciclada certificada RCS' in lista \\\n",
    "        or \"algodon reciclado\" in lista \\\n",
    "        or 'reciclada' in lista:\n",
    "        return 'RCS'\n",
    "    \n",
    "    else:\n",
    "        return None"
   ]
  },
  {
   "cell_type": "code",
   "execution_count": 84,
   "id": "f461b0da",
   "metadata": {},
   "outputs": [],
   "source": [
    "jean['certificacion'] = jean['comprobacion2'].apply(obtener_certificacion)"
   ]
  },
  {
   "cell_type": "code",
   "execution_count": 85,
   "id": "c97845b2",
   "metadata": {
    "scrolled": true
   },
   "outputs": [],
   "source": [
    "columns_to_keep3 = [\"comprobacion2\", \"poliester reciclado\",\"algodon reciclado\",\"algodon de cultivo organico certificado OCS\", \"certificacion\"]\n",
    "\n",
    "filtered_df = jean[columns_to_keep3]\n",
    "#filtered_df.tail(20)"
   ]
  },
  {
   "cell_type": "code",
   "execution_count": 86,
   "id": "bfcd7f10",
   "metadata": {},
   "outputs": [
    {
     "data": {
      "text/plain": [
       "certificacion\n",
       "OCS    279\n",
       "Name: count, dtype: int64"
      ]
     },
     "execution_count": 86,
     "metadata": {},
     "output_type": "execute_result"
    }
   ],
   "source": [
    "jean[\"certificacion\"].value_counts()"
   ]
  },
  {
   "cell_type": "code",
   "execution_count": 87,
   "id": "f2546fd5",
   "metadata": {},
   "outputs": [],
   "source": [
    "def aplicar_certificaciones(df):\n",
    "    # Inicializar las nuevas columnas en el DataFrame\n",
    "    df['OCS'] = np.nan\n",
    "    df['RCS'] = np.nan\n",
    "    \n",
    "    for idx in df.index:\n",
    "        descripcion = df.loc[idx, 'comprobacion2']\n",
    "        \n",
    "        if pd.notna(descripcion):\n",
    "            if \"organico\" in descripcion.lower():\n",
    "                df.at[idx, 'OCS'] = 'OCS'\n",
    "            if \"reciclado\" in descripcion.lower() or \"reciclada\" in descripcion.lower():\n",
    "                df.at[idx, 'RCS'] = 'RCS'\n",
    "    \n",
    "    return df"
   ]
  },
  {
   "cell_type": "code",
   "execution_count": 88,
   "id": "1ddd3a1a",
   "metadata": {},
   "outputs": [],
   "source": [
    "df_result = aplicar_certificaciones(jean)"
   ]
  },
  {
   "cell_type": "code",
   "execution_count": 89,
   "id": "448bd9ca",
   "metadata": {},
   "outputs": [],
   "source": [
    "#jean.head()"
   ]
  },
  {
   "cell_type": "code",
   "execution_count": 90,
   "id": "81decfc7",
   "metadata": {},
   "outputs": [],
   "source": [
    "# Crear una función para obtener el porcentaje correspondiente\n",
    "def obtener_porcentaje(row):\n",
    "    if row['certificacion'] == 'OCS':\n",
    "        return row['algodon de cultivo organico certificado OCS']\n",
    "    elif row['certificacion'] == 'RCS':\n",
    "        return row['poliamida reciclada certificada RCS']\n",
    "    else:\n",
    "        return None"
   ]
  },
  {
   "cell_type": "code",
   "execution_count": 91,
   "id": "51505646",
   "metadata": {},
   "outputs": [],
   "source": [
    "jean['porcentaje'] = jean.apply(obtener_porcentaje, axis=1)"
   ]
  },
  {
   "cell_type": "code",
   "execution_count": 92,
   "id": "58847301",
   "metadata": {
    "scrolled": true
   },
   "outputs": [],
   "source": [
    "columns_to_keep3 = [\"comprobacion2\", \"poliester reciclado\",\"algodon reciclado\",\"algodon de cultivo organico certificado OCS\", \"certificacion\", \"porcentaje\"]\n",
    "\n",
    "filtered_df = jean[columns_to_keep3]\n",
    "#filtered_df.tail(20)"
   ]
  },
  {
   "cell_type": "code",
   "execution_count": 93,
   "id": "2e408e27",
   "metadata": {
    "scrolled": true
   },
   "outputs": [],
   "source": [
    "#jean.info()"
   ]
  },
  {
   "cell_type": "markdown",
   "id": "07d9914f",
   "metadata": {},
   "source": [
    "#### Column Price: "
   ]
  },
  {
   "cell_type": "code",
   "execution_count": 94,
   "id": "349f7f7d",
   "metadata": {},
   "outputs": [],
   "source": [
    "def remove_currency(df):\n",
    "    df[\"price\"] = df[\"price\"].replace(\"EUR\", \"\", regex=True)\n",
    "    return df"
   ]
  },
  {
   "cell_type": "code",
   "execution_count": 95,
   "id": "e21cf1ec",
   "metadata": {},
   "outputs": [],
   "source": [
    "remove = remove_currency(jean)"
   ]
  },
  {
   "cell_type": "markdown",
   "id": "e8695d74",
   "metadata": {},
   "source": [
    "#### Column certificate por Intertek 193341:"
   ]
  },
  {
   "cell_type": "code",
   "execution_count": 96,
   "id": "37673ed9",
   "metadata": {},
   "outputs": [],
   "source": [
    "def add_intertek_column(df):\n",
    "    pattern = re.compile(r'Certificado\\s+por\\s+Intertek\\s+193341', re.IGNORECASE)\n",
    "    df['intertek'] = df['description'].apply(lambda x: bool(pattern.search(x)))\n",
    "    \n",
    "    return df"
   ]
  },
  {
   "cell_type": "code",
   "execution_count": 97,
   "id": "60dde88a",
   "metadata": {},
   "outputs": [],
   "source": [
    "interket = add_intertek_column(jean)"
   ]
  },
  {
   "cell_type": "code",
   "execution_count": 98,
   "id": "9d567263",
   "metadata": {},
   "outputs": [
    {
     "data": {
      "text/plain": [
       "intertek\n",
       "True     279\n",
       "False    108\n",
       "Name: count, dtype: int64"
      ]
     },
     "execution_count": 98,
     "metadata": {},
     "output_type": "execute_result"
    }
   ],
   "source": [
    "jean[\"intertek\"].value_counts()"
   ]
  },
  {
   "cell_type": "code",
   "execution_count": 99,
   "id": "391c83ae",
   "metadata": {},
   "outputs": [],
   "source": [
    "def etiquetar2(df):\n",
    "    df['OCS'] = \"None\"  # Inicializar la columna OCS con None\n",
    "    df['RCS'] = \"None\"  # Inicializar la columna RCS con None\n",
    "\n",
    "    for index, row in df.iterrows():\n",
    "        comprobacion = row['comprobacion2']\n",
    "        if isinstance(comprobacion, str):\n",
    "            if 'organico' in comprobacion:\n",
    "                df.at[index, 'OCS'] = 'OCS'\n",
    "            if 'reciclado' in comprobacion:\n",
    "                df.at[index, 'RCS'] = 'RCS'\n",
    "        elif isinstance(comprobacion, list):\n",
    "            for item in comprobacion:\n",
    "                if 'organico' in item:\n",
    "                    df.at[index, 'OCS'] = 'OCS'\n",
    "                if 'reciclado' in item:\n",
    "                    df.at[index, 'RCS'] = 'RCS'\n",
    "\n",
    "    return df"
   ]
  },
  {
   "cell_type": "code",
   "execution_count": 100,
   "id": "807d0b08",
   "metadata": {},
   "outputs": [],
   "source": [
    "jean = etiquetar2(jean)"
   ]
  },
  {
   "cell_type": "code",
   "execution_count": 101,
   "id": "34a87e1d",
   "metadata": {},
   "outputs": [
    {
     "data": {
      "text/plain": [
       "OCS\n",
       "OCS     239\n",
       "None    148\n",
       "Name: count, dtype: int64"
      ]
     },
     "execution_count": 101,
     "metadata": {},
     "output_type": "execute_result"
    }
   ],
   "source": [
    "jean[\"OCS\"].value_counts()"
   ]
  },
  {
   "cell_type": "code",
   "execution_count": 102,
   "id": "c6a29e81",
   "metadata": {},
   "outputs": [
    {
     "data": {
      "text/plain": [
       "OCS\n",
       "OCS     239\n",
       "None    148\n",
       "Name: count, dtype: int64"
      ]
     },
     "execution_count": 102,
     "metadata": {},
     "output_type": "execute_result"
    }
   ],
   "source": [
    "jean[\"OCS\"].value_counts()"
   ]
  },
  {
   "cell_type": "code",
   "execution_count": 103,
   "id": "349e2368",
   "metadata": {},
   "outputs": [],
   "source": [
    "#pivot_table2.to_csv(\"total_cert_jeans.csv\")"
   ]
  },
  {
   "cell_type": "markdown",
   "id": "98a29760",
   "metadata": {},
   "source": [
    "### EDA"
   ]
  },
  {
   "cell_type": "code",
   "execution_count": 105,
   "id": "66af38aa",
   "metadata": {},
   "outputs": [
    {
     "name": "stdout",
     "output_type": "stream",
     "text": [
      "Porcentaje de registros con certificación OCS: 100.00%\n",
      "Porcentaje de registros con certificación RCS: 100.00%\n"
     ]
    }
   ],
   "source": [
    "# Contar cuántos registros tienen valores no nulos en 'OCS' y 'RCS'\n",
    "ocs_cert_count = jean['OCS'].notna().sum()\n",
    "rcs_cert_count = jean['RCS'].notna().sum()\n",
    "\n",
    "# Calcular el recuento total de elementos\n",
    "total_count = len(jean)\n",
    "\n",
    "# Calcular el porcentaje de registros con certificación en 'OCS' y 'RCS'\n",
    "ocs_cert_percentage = (ocs_cert_count / total_count) * 100\n",
    "rcs_cert_percentage = (rcs_cert_count / total_count) * 100\n",
    "\n",
    "# Mostrar los porcentajes\n",
    "print(f\"Porcentaje de registros con certificación OCS: {ocs_cert_percentage:.2f}%\")\n",
    "print(f\"Porcentaje de registros con certificación RCS: {rcs_cert_percentage:.2f}%\")"
   ]
  },
  {
   "cell_type": "code",
   "execution_count": 106,
   "id": "2b6ec9fd",
   "metadata": {},
   "outputs": [
    {
     "data": {
      "text/html": [
       "<div>\n",
       "<style scoped>\n",
       "    .dataframe tbody tr th:only-of-type {\n",
       "        vertical-align: middle;\n",
       "    }\n",
       "\n",
       "    .dataframe tbody tr th {\n",
       "        vertical-align: top;\n",
       "    }\n",
       "\n",
       "    .dataframe thead th {\n",
       "        text-align: right;\n",
       "    }\n",
       "</style>\n",
       "<table border=\"1\" class=\"dataframe\">\n",
       "  <thead>\n",
       "    <tr style=\"text-align: right;\">\n",
       "      <th></th>\n",
       "      <th>Certificación</th>\n",
       "      <th>Porcentaje</th>\n",
       "    </tr>\n",
       "  </thead>\n",
       "  <tbody>\n",
       "    <tr>\n",
       "      <th>0</th>\n",
       "      <td>OCS</td>\n",
       "      <td>100.0</td>\n",
       "    </tr>\n",
       "    <tr>\n",
       "      <th>1</th>\n",
       "      <td>RCS</td>\n",
       "      <td>100.0</td>\n",
       "    </tr>\n",
       "  </tbody>\n",
       "</table>\n",
       "</div>"
      ],
      "text/plain": [
       "  Certificación  Porcentaje\n",
       "0           OCS       100.0\n",
       "1           RCS       100.0"
      ]
     },
     "execution_count": 106,
     "metadata": {},
     "output_type": "execute_result"
    }
   ],
   "source": [
    "# Contar cuántos registros tienen valores no nulos en 'OCS' y 'RCS'\n",
    "ocs_cert_count = jean['OCS'].notna().sum()\n",
    "rcs_cert_count = jean['RCS'].notna().sum()\n",
    "\n",
    "# Calcular el recuento total de elementos\n",
    "total_count = len(jean)\n",
    "\n",
    "# Calcular el porcentaje de registros con certificación en 'OCS' y 'RCS'\n",
    "ocs_cert_percentage = (ocs_cert_count / total_count) * 100\n",
    "rcs_cert_percentage = (rcs_cert_count / total_count) * 100\n",
    "\n",
    "# Crear un DataFrame con los porcentajes\n",
    "certification_percentages = pd.DataFrame({\n",
    "    'Certificación': ['OCS', 'RCS'],\n",
    "    'Porcentaje': [ocs_cert_percentage, rcs_cert_percentage]\n",
    "})\n",
    "\n",
    "# Guardar el DataFrame en un archivo CSV\n",
    "#\n",
    "certification_percentages.to_csv(\"certification_percentages.csv\", index=False)\n",
    "\n",
    "# Mostrar el DataFrame para verificar\n",
    "certification_percentages"
   ]
  },
  {
   "cell_type": "code",
   "execution_count": 107,
   "id": "2d452e2d",
   "metadata": {},
   "outputs": [],
   "source": [
    "certification_percentages.to_csv(\"%_certif_jeans.csv\")"
   ]
  },
  {
   "cell_type": "code",
   "execution_count": 109,
   "id": "8018ac2b",
   "metadata": {},
   "outputs": [
    {
     "data": {
      "text/html": [
       "<div>\n",
       "<style scoped>\n",
       "    .dataframe tbody tr th:only-of-type {\n",
       "        vertical-align: middle;\n",
       "    }\n",
       "\n",
       "    .dataframe tbody tr th {\n",
       "        vertical-align: top;\n",
       "    }\n",
       "\n",
       "    .dataframe thead th {\n",
       "        text-align: right;\n",
       "    }\n",
       "</style>\n",
       "<table border=\"1\" class=\"dataframe\">\n",
       "  <thead>\n",
       "    <tr style=\"text-align: right;\">\n",
       "      <th></th>\n",
       "      <th>Product</th>\n",
       "      <th>OCS Percentage</th>\n",
       "      <th>RCS Percentage</th>\n",
       "    </tr>\n",
       "  </thead>\n",
       "  <tbody>\n",
       "    <tr>\n",
       "      <th>0</th>\n",
       "      <td>Jean Mom</td>\n",
       "      <td>100.0</td>\n",
       "      <td>100.0</td>\n",
       "    </tr>\n",
       "    <tr>\n",
       "      <th>1</th>\n",
       "      <td>Jean Rectos</td>\n",
       "      <td>100.0</td>\n",
       "      <td>100.0</td>\n",
       "    </tr>\n",
       "    <tr>\n",
       "      <th>2</th>\n",
       "      <td>Jean Skinny</td>\n",
       "      <td>100.0</td>\n",
       "      <td>100.0</td>\n",
       "    </tr>\n",
       "    <tr>\n",
       "      <th>3</th>\n",
       "      <td>Jean Temporada</td>\n",
       "      <td>100.0</td>\n",
       "      <td>100.0</td>\n",
       "    </tr>\n",
       "    <tr>\n",
       "      <th>4</th>\n",
       "      <td>Jean Wide Leg</td>\n",
       "      <td>100.0</td>\n",
       "      <td>100.0</td>\n",
       "    </tr>\n",
       "    <tr>\n",
       "      <th>5</th>\n",
       "      <td>Jean ZW Collection</td>\n",
       "      <td>100.0</td>\n",
       "      <td>100.0</td>\n",
       "    </tr>\n",
       "  </tbody>\n",
       "</table>\n",
       "</div>"
      ],
      "text/plain": [
       "              Product  OCS Percentage  RCS Percentage\n",
       "0            Jean Mom           100.0           100.0\n",
       "1         Jean Rectos           100.0           100.0\n",
       "2         Jean Skinny           100.0           100.0\n",
       "3      Jean Temporada           100.0           100.0\n",
       "4       Jean Wide Leg           100.0           100.0\n",
       "5  Jean ZW Collection           100.0           100.0"
      ]
     },
     "execution_count": 109,
     "metadata": {},
     "output_type": "execute_result"
    }
   ],
   "source": [
    "# Calcular el total de registros por producto\n",
    "total_por_producto = jean.groupby('product_name').size()\n",
    "\n",
    "# Calcular el número de registros con certificación por producto en 'OCS' y 'RCS'\n",
    "ocs_cert_por_producto = jean.groupby('product_name')['OCS'].apply(lambda x: x.notna().sum())\n",
    "rcs_cert_por_producto = jean.groupby('product_name')['RCS'].apply(lambda x: x.notna().sum())\n",
    "\n",
    "# Calcular el porcentaje de certificación por producto\n",
    "ocs_cert_percentage_por_producto = (ocs_cert_por_producto / total_por_producto) * 100\n",
    "rcs_cert_percentage_por_producto = (rcs_cert_por_producto / total_por_producto) * 100\n",
    "\n",
    "# Crear un DataFrame con los porcentajes por producto\n",
    "certification_percentages_por_producto = pd.DataFrame({\n",
    "    'Product': total_por_producto.index,\n",
    "    'OCS Percentage': ocs_cert_percentage_por_producto.values,\n",
    "    'RCS Percentage': rcs_cert_percentage_por_producto.values\n",
    "})\n",
    "\n",
    "# Guardar el DataFrame en un archivo CSV\n",
    "certification_percentages_por_producto.to_csv(\"certification_percentages_por_producto.csv\", index=False)\n",
    "\n",
    "# Mostrar el DataFrame para verificar\n",
    "certification_percentages_por_producto"
   ]
  },
  {
   "cell_type": "code",
   "execution_count": 110,
   "id": "87dc83ca",
   "metadata": {},
   "outputs": [],
   "source": [
    "certification_percentages_por_producto.to_csv(\"jean_%_product.csv\")"
   ]
  },
  {
   "cell_type": "markdown",
   "id": "f1b65aa7",
   "metadata": {},
   "source": [
    "## FINAL JEAN DF: "
   ]
  },
  {
   "cell_type": "code",
   "execution_count": 111,
   "id": "004b3d36",
   "metadata": {},
   "outputs": [],
   "source": [
    "jean = jean.drop(columns=['description', \"comprobacion\", \"comprobacion2\"])"
   ]
  },
  {
   "cell_type": "code",
   "execution_count": 112,
   "id": "225bfdb5",
   "metadata": {},
   "outputs": [
    {
     "name": "stdout",
     "output_type": "stream",
     "text": [
      "<class 'pandas.core.frame.DataFrame'>\n",
      "Index: 387 entries, 0 to 399\n",
      "Data columns (total 25 columns):\n",
      " #   Column                                       Non-Null Count  Dtype  \n",
      "---  ------                                       --------------  -----  \n",
      " 0   index                                        387 non-null    int64  \n",
      " 1   product_name                                 387 non-null    object \n",
      " 2   price                                        387 non-null    object \n",
      " 3   made_in                                      387 non-null    object \n",
      " 4   standard_soc_ma                              387 non-null    bool   \n",
      " 5   algodon                                      387 non-null    object \n",
      " 6   poliester                                    32 non-null     object \n",
      " 7   elastano                                     129 non-null    object \n",
      " 8   elastomultiester                             25 non-null     object \n",
      " 9   liocel                                       27 non-null     object \n",
      " 10  lino                                         2 non-null      object \n",
      " 11  num_materials                                387 non-null    int64  \n",
      " 12  material                                     387 non-null    object \n",
      " 13  num_material                                 387 non-null    int64  \n",
      " 14  material_secundario                          157 non-null    object \n",
      " 15  num_material_secundario                      157 non-null    float64\n",
      " 16  OCS                                          387 non-null    object \n",
      " 17  RCS                                          387 non-null    object \n",
      " 18  reciclado                                    0 non-null      float64\n",
      " 19  poliester reciclado                          14 non-null     float64\n",
      " 20  algodon reciclado                            236 non-null    float64\n",
      " 21  algodon de cultivo organico certificado OCS  239 non-null    float64\n",
      " 22  certificacion                                279 non-null    object \n",
      " 23  porcentaje                                   239 non-null    float64\n",
      " 24  intertek                                     387 non-null    bool   \n",
      "dtypes: bool(2), float64(6), int64(3), object(14)\n",
      "memory usage: 81.4+ KB\n"
     ]
    }
   ],
   "source": [
    "jean.info()"
   ]
  },
  {
   "cell_type": "code",
   "execution_count": 113,
   "id": "cd292e40",
   "metadata": {},
   "outputs": [],
   "source": [
    "jean.rename(columns={\"num_materials\": \"total_composition\", \n",
    "                    \"material\": \"main_txt\",\n",
    "                    \"num_material\" : \"1_composition\", \n",
    "                    \"material_secundario\" : \"second_txt\",\n",
    "                    \"num_material_secundario\" : \"2_composition\",\n",
    "                    \"reciclado\" : \"txt_recycled\",\n",
    "                    \"algodon de cultivo organico certificado OCS\": \"cotton_OCS\",\n",
    "                    \"certificacion\" : \"certificacion\",\n",
    "                    \"poliester reciclado\": \"rec_poliester\",\n",
    "                    \"algodon reciclado\": \"rec_cotton\"}, inplace=True)"
   ]
  },
  {
   "cell_type": "code",
   "execution_count": 114,
   "id": "28175b53",
   "metadata": {},
   "outputs": [],
   "source": [
    "# Función para quitar el símbolo '%'\n",
    "def remove_percent(x):\n",
    "    if isinstance(x, str):\n",
    "        return x.replace('%', '')\n",
    "    return x"
   ]
  },
  {
   "cell_type": "code",
   "execution_count": 115,
   "id": "a815cf2c",
   "metadata": {},
   "outputs": [],
   "source": [
    "jean = jean.applymap(remove_percent)"
   ]
  },
  {
   "cell_type": "code",
   "execution_count": 116,
   "id": "5ee4ff96",
   "metadata": {},
   "outputs": [],
   "source": [
    "columns_to_convert = ['algodon', 'poliester', 'elastano', \n",
    "                     'elastomultiester', 'liocel', 'lino']\n",
    "\n",
    "# Convertir las columnas especificadas a numérico\n",
    "for column in columns_to_convert:\n",
    "    jean[column] = pd.to_numeric(jean[column], errors='coerce')"
   ]
  },
  {
   "cell_type": "code",
   "execution_count": 117,
   "id": "f5fdea82",
   "metadata": {},
   "outputs": [],
   "source": [
    "jean['price'] = pd.to_numeric(jean['price'].str.replace(',', '.'), errors='coerce')"
   ]
  },
  {
   "cell_type": "code",
   "execution_count": 118,
   "id": "3b9d0daa",
   "metadata": {},
   "outputs": [],
   "source": [
    "#jean.info()"
   ]
  },
  {
   "cell_type": "code",
   "execution_count": 119,
   "id": "b5fb7a13",
   "metadata": {},
   "outputs": [],
   "source": [
    "columns1 = ['algodon', 'poliester', 'elastano', 'elastomultiester', 'liocel', 'lino', '1_composition', '2_composition', 'cotton_OCS', 'rec_poliester',\n",
    "                     'rec_cotton', 'porcentaje']\n",
    "\n",
    "jean[columns1] = jean[columns1].apply(lambda x: x / 100)"
   ]
  },
  {
   "cell_type": "code",
   "execution_count": 120,
   "id": "fa3faec3",
   "metadata": {},
   "outputs": [],
   "source": [
    "# Calcular el total de certificaciones OCS y el total de algodón en todas las prendas\n",
    "total_OCS = jean['OCS'].eq('OCS').sum()\n",
    "total_algodon = jean['algodon'].sum()\n",
    "\n",
    "# Calcular el porcentaje de OCS en función del total de algodón\n",
    "porcentaje_OCS_total = (total_OCS / total_algodon) * 100"
   ]
  },
  {
   "cell_type": "code",
   "execution_count": 121,
   "id": "fef84086",
   "metadata": {},
   "outputs": [],
   "source": [
    "#jean.to_csv(\"jean_ok.csv\", index=True)"
   ]
  }
 ],
 "metadata": {
  "kernelspec": {
   "display_name": "Python 3 (ipykernel)",
   "language": "python",
   "name": "python3"
  },
  "language_info": {
   "codemirror_mode": {
    "name": "ipython",
    "version": 3
   },
   "file_extension": ".py",
   "mimetype": "text/x-python",
   "name": "python",
   "nbconvert_exporter": "python",
   "pygments_lexer": "ipython3",
   "version": "3.11.7"
  }
 },
 "nbformat": 4,
 "nbformat_minor": 5
}
