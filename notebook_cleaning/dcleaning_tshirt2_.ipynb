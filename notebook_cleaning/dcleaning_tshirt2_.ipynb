{
 "cells": [
  {
   "cell_type": "code",
   "execution_count": 47,
   "id": "ec254702",
   "metadata": {},
   "outputs": [],
   "source": [
    "import pandas as pd\n",
    "from unidecode import unidecode\n",
    "import re\n",
    "import ast\n",
    "import numpy as np\n",
    "from wordcloud import WordCloud\n",
    "import matplotlib.pyplot as plt"
   ]
  },
  {
   "cell_type": "code",
   "execution_count": 48,
   "id": "1901af98",
   "metadata": {},
   "outputs": [],
   "source": [
    "import warnings\n",
    "\n",
    "#Suppress all warnings\n",
    "warnings.filterwarnings(\"ignore\")\n"
   ]
  },
  {
   "cell_type": "markdown",
   "id": "22067c3e",
   "metadata": {},
   "source": [
    "## DF TSHIRTS:"
   ]
  },
  {
   "cell_type": "code",
   "execution_count": 49,
   "id": "d8c972f1",
   "metadata": {},
   "outputs": [],
   "source": [
    "tshirt = pd.read_csv('/Users/admin/Desktop/IRONHACK/8.WEEK/final_project/notebooks/datos/final_categorias/tshirts.csv')\n",
    "tshirt.reset_index(inplace = True)\n"
   ]
  },
  {
   "cell_type": "code",
   "execution_count": 50,
   "id": "af1c08fd",
   "metadata": {},
   "outputs": [
    {
     "name": "stdout",
     "output_type": "stream",
     "text": [
      "<class 'pandas.core.frame.DataFrame'>\n",
      "RangeIndex: 729 entries, 0 to 728\n",
      "Data columns (total 6 columns):\n",
      " #   Column        Non-Null Count  Dtype  \n",
      "---  ------        --------------  -----  \n",
      " 0   index         729 non-null    int64  \n",
      " 1   Unnamed: 0    729 non-null    int64  \n",
      " 2   product_name  720 non-null    object \n",
      " 3   price         729 non-null    object \n",
      " 4   desciption    729 non-null    object \n",
      " 5   description   0 non-null      float64\n",
      "dtypes: float64(1), int64(2), object(3)\n",
      "memory usage: 34.3+ KB\n"
     ]
    }
   ],
   "source": [
    "tshirt.info()\n"
   ]
  },
  {
   "cell_type": "code",
   "execution_count": 51,
   "id": "24609200",
   "metadata": {},
   "outputs": [],
   "source": [
    "tshirt.drop(columns=['Unnamed: 0','description'], inplace=True)\n"
   ]
  },
  {
   "cell_type": "code",
   "execution_count": 52,
   "id": "f7d57991",
   "metadata": {
    "scrolled": false
   },
   "outputs": [
    {
     "data": {
      "text/html": [
       "<div>\n",
       "<style scoped>\n",
       "    .dataframe tbody tr th:only-of-type {\n",
       "        vertical-align: middle;\n",
       "    }\n",
       "\n",
       "    .dataframe tbody tr th {\n",
       "        vertical-align: top;\n",
       "    }\n",
       "\n",
       "    .dataframe thead th {\n",
       "        text-align: right;\n",
       "    }\n",
       "</style>\n",
       "<table border=\"1\" class=\"dataframe\">\n",
       "  <thead>\n",
       "    <tr style=\"text-align: right;\">\n",
       "      <th></th>\n",
       "      <th>index</th>\n",
       "      <th>product_name</th>\n",
       "      <th>price</th>\n",
       "      <th>desciption</th>\n",
       "    </tr>\n",
       "  </thead>\n",
       "  <tbody>\n",
       "    <tr>\n",
       "      <th>0</th>\n",
       "      <td>0</td>\n",
       "      <td>CAMISETA ALGODÓN MANGA SISA</td>\n",
       "      <td>8,95 EUR</td>\n",
       "      <td>['Trabajamos con programas de seguimiento para...</td>\n",
       "    </tr>\n",
       "    <tr>\n",
       "      <th>1</th>\n",
       "      <td>1</td>\n",
       "      <td>CAMISETA ALGODÓN MANGA SISA</td>\n",
       "      <td>8,95 EUR</td>\n",
       "      <td>['Trabajamos con programas de seguimiento para...</td>\n",
       "    </tr>\n",
       "    <tr>\n",
       "      <th>2</th>\n",
       "      <td>2</td>\n",
       "      <td>CAMISETA ALGODÓN MANGA SISA</td>\n",
       "      <td>8,95 EUR</td>\n",
       "      <td>['Trabajamos con programas de seguimiento para...</td>\n",
       "    </tr>\n",
       "    <tr>\n",
       "      <th>3</th>\n",
       "      <td>3</td>\n",
       "      <td>CAMISETA ALGODÓN BÁSICA</td>\n",
       "      <td>6,95 EUR</td>\n",
       "      <td>['Trabajamos con programas de seguimiento para...</td>\n",
       "    </tr>\n",
       "    <tr>\n",
       "      <th>4</th>\n",
       "      <td>4</td>\n",
       "      <td>CAMISETA ALGODÓN</td>\n",
       "      <td>12,95 EUR</td>\n",
       "      <td>['Trabajamos con programas de seguimiento para...</td>\n",
       "    </tr>\n",
       "  </tbody>\n",
       "</table>\n",
       "</div>"
      ],
      "text/plain": [
       "   index                 product_name      price  \\\n",
       "0      0  CAMISETA ALGODÓN MANGA SISA   8,95 EUR   \n",
       "1      1  CAMISETA ALGODÓN MANGA SISA   8,95 EUR   \n",
       "2      2  CAMISETA ALGODÓN MANGA SISA   8,95 EUR   \n",
       "3      3      CAMISETA ALGODÓN BÁSICA   6,95 EUR   \n",
       "4      4             CAMISETA ALGODÓN  12,95 EUR   \n",
       "\n",
       "                                          desciption  \n",
       "0  ['Trabajamos con programas de seguimiento para...  \n",
       "1  ['Trabajamos con programas de seguimiento para...  \n",
       "2  ['Trabajamos con programas de seguimiento para...  \n",
       "3  ['Trabajamos con programas de seguimiento para...  \n",
       "4  ['Trabajamos con programas de seguimiento para...  "
      ]
     },
     "execution_count": 52,
     "metadata": {},
     "output_type": "execute_result"
    }
   ],
   "source": [
    "tshirt.head()"
   ]
  },
  {
   "cell_type": "code",
   "execution_count": 53,
   "id": "8fbfdb44",
   "metadata": {},
   "outputs": [],
   "source": [
    "# Remove accents with unidecode\n",
    "def remove_accents(text):\n",
    "    if isinstance(text, str):\n",
    "        return unidecode(text)\n",
    "    return text"
   ]
  },
  {
   "cell_type": "code",
   "execution_count": 54,
   "id": "efcf0d22",
   "metadata": {},
   "outputs": [],
   "source": [
    "# Aplicar la función a todo el DataFrame\n",
    "tshirt = tshirt.applymap(remove_accents)"
   ]
  },
  {
   "cell_type": "code",
   "execution_count": 55,
   "id": "0bc7e72f",
   "metadata": {},
   "outputs": [
    {
     "data": {
      "text/html": [
       "<div>\n",
       "<style scoped>\n",
       "    .dataframe tbody tr th:only-of-type {\n",
       "        vertical-align: middle;\n",
       "    }\n",
       "\n",
       "    .dataframe tbody tr th {\n",
       "        vertical-align: top;\n",
       "    }\n",
       "\n",
       "    .dataframe thead th {\n",
       "        text-align: right;\n",
       "    }\n",
       "</style>\n",
       "<table border=\"1\" class=\"dataframe\">\n",
       "  <thead>\n",
       "    <tr style=\"text-align: right;\">\n",
       "      <th></th>\n",
       "      <th>index</th>\n",
       "      <th>product_name</th>\n",
       "      <th>price</th>\n",
       "      <th>desciption</th>\n",
       "    </tr>\n",
       "  </thead>\n",
       "  <tbody>\n",
       "    <tr>\n",
       "      <th>0</th>\n",
       "      <td>0</td>\n",
       "      <td>CAMISETA ALGODON MANGA SISA</td>\n",
       "      <td>8,95 EUR</td>\n",
       "      <td>['Trabajamos con programas de seguimiento para...</td>\n",
       "    </tr>\n",
       "    <tr>\n",
       "      <th>1</th>\n",
       "      <td>1</td>\n",
       "      <td>CAMISETA ALGODON MANGA SISA</td>\n",
       "      <td>8,95 EUR</td>\n",
       "      <td>['Trabajamos con programas de seguimiento para...</td>\n",
       "    </tr>\n",
       "    <tr>\n",
       "      <th>2</th>\n",
       "      <td>2</td>\n",
       "      <td>CAMISETA ALGODON MANGA SISA</td>\n",
       "      <td>8,95 EUR</td>\n",
       "      <td>['Trabajamos con programas de seguimiento para...</td>\n",
       "    </tr>\n",
       "    <tr>\n",
       "      <th>3</th>\n",
       "      <td>3</td>\n",
       "      <td>CAMISETA ALGODON BASICA</td>\n",
       "      <td>6,95 EUR</td>\n",
       "      <td>['Trabajamos con programas de seguimiento para...</td>\n",
       "    </tr>\n",
       "    <tr>\n",
       "      <th>4</th>\n",
       "      <td>4</td>\n",
       "      <td>CAMISETA ALGODON</td>\n",
       "      <td>12,95 EUR</td>\n",
       "      <td>['Trabajamos con programas de seguimiento para...</td>\n",
       "    </tr>\n",
       "  </tbody>\n",
       "</table>\n",
       "</div>"
      ],
      "text/plain": [
       "   index                 product_name      price  \\\n",
       "0      0  CAMISETA ALGODON MANGA SISA   8,95 EUR   \n",
       "1      1  CAMISETA ALGODON MANGA SISA   8,95 EUR   \n",
       "2      2  CAMISETA ALGODON MANGA SISA   8,95 EUR   \n",
       "3      3      CAMISETA ALGODON BASICA   6,95 EUR   \n",
       "4      4             CAMISETA ALGODON  12,95 EUR   \n",
       "\n",
       "                                          desciption  \n",
       "0  ['Trabajamos con programas de seguimiento para...  \n",
       "1  ['Trabajamos con programas de seguimiento para...  \n",
       "2  ['Trabajamos con programas de seguimiento para...  \n",
       "3  ['Trabajamos con programas de seguimiento para...  \n",
       "4  ['Trabajamos con programas de seguimiento para...  "
      ]
     },
     "execution_count": 55,
     "metadata": {},
     "output_type": "execute_result"
    }
   ],
   "source": [
    "tshirt.head()"
   ]
  },
  {
   "cell_type": "code",
   "execution_count": 56,
   "id": "c8f73cc4",
   "metadata": {},
   "outputs": [
    {
     "data": {
      "text/plain": [
       "(729, 4)"
      ]
     },
     "execution_count": 56,
     "metadata": {},
     "output_type": "execute_result"
    }
   ],
   "source": [
    "tshirt.shape"
   ]
  },
  {
   "cell_type": "code",
   "execution_count": 57,
   "id": "ef2f3b35",
   "metadata": {},
   "outputs": [],
   "source": [
    "tshirt.dropna(subset=[\"product_name\"], inplace=True)"
   ]
  },
  {
   "cell_type": "code",
   "execution_count": 58,
   "id": "331bffd0",
   "metadata": {},
   "outputs": [
    {
     "data": {
      "text/plain": [
       "(720, 4)"
      ]
     },
     "execution_count": 58,
     "metadata": {},
     "output_type": "execute_result"
    }
   ],
   "source": [
    "tshirt.shape"
   ]
  },
  {
   "cell_type": "markdown",
   "id": "d5fde8b0",
   "metadata": {},
   "source": [
    "### Clean and create new columns"
   ]
  },
  {
   "cell_type": "markdown",
   "id": "b391a238",
   "metadata": {},
   "source": [
    "- Create column made_in with the origin of the clothes.\n",
    "- Create column composition of clothes.\n",
    "- Create column recycled or not and wich material is recycled. \n",
    "- Create column for OCS & RCS. \n",
    "- Clean price, estandar, product_name & remove spaces, accents, symbols, quotes, etc. "
   ]
  },
  {
   "cell_type": "markdown",
   "id": "9199455b",
   "metadata": {},
   "source": [
    "#### Column Product_name: "
   ]
  },
  {
   "cell_type": "code",
   "execution_count": 59,
   "id": "dbfc2faf",
   "metadata": {},
   "outputs": [],
   "source": [
    "def convertir_formato(texto):\n",
    "    return texto.lower().title()"
   ]
  },
  {
   "cell_type": "code",
   "execution_count": 60,
   "id": "948ae56a",
   "metadata": {},
   "outputs": [],
   "source": [
    "tshirt[\"product_name\"] = tshirt[\"product_name\"].apply(convertir_formato)"
   ]
  },
  {
   "cell_type": "code",
   "execution_count": 61,
   "id": "9c315297",
   "metadata": {
    "scrolled": false
   },
   "outputs": [
    {
     "data": {
      "text/html": [
       "<div>\n",
       "<style scoped>\n",
       "    .dataframe tbody tr th:only-of-type {\n",
       "        vertical-align: middle;\n",
       "    }\n",
       "\n",
       "    .dataframe tbody tr th {\n",
       "        vertical-align: top;\n",
       "    }\n",
       "\n",
       "    .dataframe thead th {\n",
       "        text-align: right;\n",
       "    }\n",
       "</style>\n",
       "<table border=\"1\" class=\"dataframe\">\n",
       "  <thead>\n",
       "    <tr style=\"text-align: right;\">\n",
       "      <th></th>\n",
       "      <th>index</th>\n",
       "      <th>product_name</th>\n",
       "      <th>price</th>\n",
       "      <th>desciption</th>\n",
       "    </tr>\n",
       "  </thead>\n",
       "  <tbody>\n",
       "    <tr>\n",
       "      <th>0</th>\n",
       "      <td>0</td>\n",
       "      <td>Camiseta Algodon Manga Sisa</td>\n",
       "      <td>8,95 EUR</td>\n",
       "      <td>['Trabajamos con programas de seguimiento para...</td>\n",
       "    </tr>\n",
       "    <tr>\n",
       "      <th>1</th>\n",
       "      <td>1</td>\n",
       "      <td>Camiseta Algodon Manga Sisa</td>\n",
       "      <td>8,95 EUR</td>\n",
       "      <td>['Trabajamos con programas de seguimiento para...</td>\n",
       "    </tr>\n",
       "    <tr>\n",
       "      <th>2</th>\n",
       "      <td>2</td>\n",
       "      <td>Camiseta Algodon Manga Sisa</td>\n",
       "      <td>8,95 EUR</td>\n",
       "      <td>['Trabajamos con programas de seguimiento para...</td>\n",
       "    </tr>\n",
       "    <tr>\n",
       "      <th>3</th>\n",
       "      <td>3</td>\n",
       "      <td>Camiseta Algodon Basica</td>\n",
       "      <td>6,95 EUR</td>\n",
       "      <td>['Trabajamos con programas de seguimiento para...</td>\n",
       "    </tr>\n",
       "    <tr>\n",
       "      <th>4</th>\n",
       "      <td>4</td>\n",
       "      <td>Camiseta Algodon</td>\n",
       "      <td>12,95 EUR</td>\n",
       "      <td>['Trabajamos con programas de seguimiento para...</td>\n",
       "    </tr>\n",
       "  </tbody>\n",
       "</table>\n",
       "</div>"
      ],
      "text/plain": [
       "   index                 product_name      price  \\\n",
       "0      0  Camiseta Algodon Manga Sisa   8,95 EUR   \n",
       "1      1  Camiseta Algodon Manga Sisa   8,95 EUR   \n",
       "2      2  Camiseta Algodon Manga Sisa   8,95 EUR   \n",
       "3      3      Camiseta Algodon Basica   6,95 EUR   \n",
       "4      4             Camiseta Algodon  12,95 EUR   \n",
       "\n",
       "                                          desciption  \n",
       "0  ['Trabajamos con programas de seguimiento para...  \n",
       "1  ['Trabajamos con programas de seguimiento para...  \n",
       "2  ['Trabajamos con programas de seguimiento para...  \n",
       "3  ['Trabajamos con programas de seguimiento para...  \n",
       "4  ['Trabajamos con programas de seguimiento para...  "
      ]
     },
     "execution_count": 61,
     "metadata": {},
     "output_type": "execute_result"
    }
   ],
   "source": [
    "tshirt.head()"
   ]
  },
  {
   "cell_type": "code",
   "execution_count": 62,
   "id": "01755c41",
   "metadata": {},
   "outputs": [],
   "source": [
    "tshirt[\"product_name\"] = tshirt[\"product_name\"].str.strip() #delete null space infront of and behind each row\n",
    "tshirt[\"product_name\"] = tshirt[\"product_name\"].str.lstrip() #delete null space left hand\n"
   ]
  },
  {
   "cell_type": "code",
   "execution_count": 63,
   "id": "ef3aa5f7",
   "metadata": {},
   "outputs": [],
   "source": [
    "# Alinea el texto a la izquierda y establece una anchura fija\n",
    "tshirt = tshirt.applymap(lambda x: f'{x:<50}' if isinstance(x, str) else x)"
   ]
  },
  {
   "cell_type": "markdown",
   "id": "9d4df72a",
   "metadata": {},
   "source": [
    "##### Create rgex pattern to simplify the analysis"
   ]
  },
  {
   "cell_type": "code",
   "execution_count": 64,
   "id": "7e961b12",
   "metadata": {},
   "outputs": [],
   "source": [
    "patt_tshirt = { r\"[Ee]nzimatico\" : \"Camiseta Algodon Enzimatico\",\n",
    "                r\"[Cc]amiseta Algodon\": \"Camiseta Algodon Basica\",\n",
    "                r\"[Ss]udadera\" : \"Sudadera\",\n",
    "                r\"[Cc]amiseta [Hh]eavy\" : \"Camiseta Heavy Cotton\",\n",
    "                r\"[Rr]ib\" : \"Camiseta Rib\", \n",
    "                r\"[Oo]versize\" : \"Camiseta Oversize\",\n",
    "                r\"[Pp]oliamida\" : \"Camiseta Poliamida\", \n",
    "                r\"[Tt]op\" : \"Top Crop\"\n",
    "              }"
   ]
  },
  {
   "cell_type": "code",
   "execution_count": 65,
   "id": "65036274",
   "metadata": {},
   "outputs": [],
   "source": [
    "def categorize_activities(text, patt_tshirt):\n",
    "    if isinstance(text, str):  # Check if the value is a text string\n",
    "        for pattern, category in patt_tshirt.items():\n",
    "            if re.search(pattern, text):\n",
    "                return category\n",
    "    return \"Camiseta Temporada\"  # If it does not match any category, \"Other\" is returned."
   ]
  },
  {
   "cell_type": "code",
   "execution_count": 66,
   "id": "38e2e27d",
   "metadata": {},
   "outputs": [
    {
     "data": {
      "text/plain": [
       "array(['Camiseta Algodon Basica', 'Camiseta Temporada',\n",
       "       'Camiseta Poliamida', 'Camiseta Heavy Cotton', 'Camiseta Rib',\n",
       "       'Camiseta Algodon Enzimatico', 'Top Crop', 'Sudadera',\n",
       "       'Camiseta Oversize'], dtype=object)"
      ]
     },
     "execution_count": 66,
     "metadata": {},
     "output_type": "execute_result"
    }
   ],
   "source": [
    "# Clear invalid values in the \"activity\" column\n",
    "tshirt[\"product_name\"] = tshirt[\"product_name\"].fillna(\"empty\")  # Fill NaN values with an empty string\n",
    "tshirt[\"product_name\"] = tshirt[\"product_name\"].astype(str)  # Convert all values to text strings\n",
    "# Apply the function to categorize activities\n",
    "tshirt[\"product_name\"] = tshirt[\"product_name\"].apply(lambda x: categorize_activities(x, patt_tshirt))\n",
    "tshirt[\"product_name\"].unique()"
   ]
  },
  {
   "cell_type": "code",
   "execution_count": 67,
   "id": "ad80106c",
   "metadata": {},
   "outputs": [
    {
     "data": {
      "text/plain": [
       "product_name\n",
       "Camiseta Temporada             338\n",
       "Camiseta Algodon Basica        100\n",
       "Camiseta Rib                    93\n",
       "Sudadera                        67\n",
       "Camiseta Poliamida              44\n",
       "Camiseta Oversize               27\n",
       "Camiseta Heavy Cotton           18\n",
       "Top Crop                        18\n",
       "Camiseta Algodon Enzimatico     15\n",
       "Name: count, dtype: int64"
      ]
     },
     "execution_count": 67,
     "metadata": {},
     "output_type": "execute_result"
    }
   ],
   "source": [
    "# Aplicar la función a la columna 'product_name'\n",
    "tshirt['product_name'].value_counts()"
   ]
  },
  {
   "cell_type": "markdown",
   "id": "ea198885",
   "metadata": {},
   "source": [
    "#### Column made in:"
   ]
  },
  {
   "cell_type": "code",
   "execution_count": 68,
   "id": "660a77dd",
   "metadata": {},
   "outputs": [],
   "source": [
    "#Function for extract made in\n",
    "def extract_origin(desciption):\n",
    "    match = re.search(r'hecho\\s+en\\s+(\\w+)', desciption, re.IGNORECASE)\n",
    "    if match:\n",
    "        return match.group(1)\n",
    "    else:\n",
    "        return None"
   ]
  },
  {
   "cell_type": "code",
   "execution_count": 69,
   "id": "a4eaca0a",
   "metadata": {},
   "outputs": [],
   "source": [
    "# Apply the function to the column description and create a new column called made_in\n",
    "tshirt['made_in'] = tshirt['desciption'].apply(extract_origin)"
   ]
  },
  {
   "cell_type": "code",
   "execution_count": 70,
   "id": "3b0ac946",
   "metadata": {},
   "outputs": [
    {
     "data": {
      "text/plain": [
       "made_in\n",
       "Bangladesh    291\n",
       "Marruecos     192\n",
       "Turquia       123\n",
       "Portugal       68\n",
       "Pakistan       30\n",
       "China          10\n",
       "India           2\n",
       "Camboya         2\n",
       "Egipto          2\n",
       "Name: count, dtype: int64"
      ]
     },
     "execution_count": 70,
     "metadata": {},
     "output_type": "execute_result"
    }
   ],
   "source": [
    "tshirt['made_in'].value_counts()"
   ]
  },
  {
   "cell_type": "markdown",
   "id": "4f8d8141",
   "metadata": {},
   "source": [
    "#### Column estandar:"
   ]
  },
  {
   "cell_type": "code",
   "execution_count": 71,
   "id": "2c8d50a4",
   "metadata": {},
   "outputs": [],
   "source": [
    "# Regex pattern\n",
    "patron_regex = re.compile(r'(?:estandares\\s(.*))', re.IGNORECASE)"
   ]
  },
  {
   "cell_type": "code",
   "execution_count": 72,
   "id": "6cf61931",
   "metadata": {},
   "outputs": [],
   "source": [
    "#Function to extract standar\n",
    "def extract_estandar(desciption):\n",
    "    # Desempaquetar la cadena de texto de la lista\n",
    "    description = ast.literal_eval(desciption) #convertir un string a lista\n",
    "    match = patron_regex.search(\" \".join(description[0:1]))\n",
    "    #print(\" \".join(description[0:1]))\n",
    "    #print(match)\n",
    "    if match:\n",
    "        return match.group(1)\n",
    "    else:\n",
    "        return None"
   ]
  },
  {
   "cell_type": "code",
   "execution_count": 73,
   "id": "454dcc50",
   "metadata": {},
   "outputs": [],
   "source": [
    "# Apply the function to the column description and create a new column called made_in\n",
    "tshirt['estandar'] = tshirt['desciption'].apply(extract_estandar)"
   ]
  },
  {
   "cell_type": "code",
   "execution_count": 74,
   "id": "0bd56c33",
   "metadata": {},
   "outputs": [
    {
     "data": {
      "text/plain": [
       "estandar\n",
       "sociales, medioambientales y de seguridad y salud de nuestros productos. Para evaluar su cumplimiento hemos desarrollado un programa de auditorias y planes de mejora continua.    720\n",
       "Name: count, dtype: int64"
      ]
     },
     "execution_count": 74,
     "metadata": {},
     "output_type": "execute_result"
    }
   ],
   "source": [
    "tshirt['estandar'].value_counts()"
   ]
  },
  {
   "cell_type": "code",
   "execution_count": 75,
   "id": "c3202d36",
   "metadata": {},
   "outputs": [],
   "source": [
    "def check_create(text):\n",
    "    palabras_clave = ['estandar', 'sociales', 'medioambientales', 'seguridad y salud']\n",
    "    for palabra in palabras_clave:\n",
    "        if palabra in text:\n",
    "            return True\n",
    "    return False"
   ]
  },
  {
   "cell_type": "code",
   "execution_count": 76,
   "id": "45fb9ec4",
   "metadata": {},
   "outputs": [],
   "source": [
    "tshirt['standard_soc_ma'] = tshirt['estandar'].apply(check_create)"
   ]
  },
  {
   "cell_type": "code",
   "execution_count": 77,
   "id": "8cca37e2",
   "metadata": {},
   "outputs": [
    {
     "data": {
      "text/plain": [
       "standard_soc_ma\n",
       "True    720\n",
       "Name: count, dtype: int64"
      ]
     },
     "execution_count": 77,
     "metadata": {},
     "output_type": "execute_result"
    }
   ],
   "source": [
    "tshirt['standard_soc_ma'].value_counts()"
   ]
  },
  {
   "cell_type": "code",
   "execution_count": 78,
   "id": "5f6ce1d6",
   "metadata": {},
   "outputs": [],
   "source": [
    "tshirt.drop(columns=['estandar'], inplace=True)"
   ]
  },
  {
   "cell_type": "markdown",
   "id": "cff70e84",
   "metadata": {},
   "source": [
    "#### Column composition:"
   ]
  },
  {
   "cell_type": "code",
   "execution_count": 79,
   "id": "41e3d844",
   "metadata": {},
   "outputs": [],
   "source": [
    "pattern = re.compile(r\"'[%]['']'\")"
   ]
  },
  {
   "cell_type": "code",
   "execution_count": 80,
   "id": "19e74570",
   "metadata": {},
   "outputs": [],
   "source": [
    "def extract_composition_materiales_4(df):\n",
    "    \n",
    "    df[\"comprobacion\"] = np.nan\n",
    "    \n",
    "    for idn in df.index:\n",
    "        \n",
    "        desciption = df.loc[idn, \"desciption\"]\n",
    "    \n",
    "        if desciption != \"[]\":\n",
    "            # Desempaquetar la cadena de texto de la lista\n",
    "            res = desciption.strip('][').split(', ')\n",
    "            s1 = res[2:4][0] #Posicion donde esta ubicado en la lista\n",
    "            #print(s1)\n",
    "            patron = r'(\\d+)%\\s*([a-zA-Z]+)'\n",
    "            # Buscamos todas las coincidencias en la cadena\n",
    "            coincidencias = re.findall(patron, s1)\n",
    "            #print(coincidencias)\n",
    "        \n",
    "            df[\"comprobacion\"][idn] = coincidencias\n",
    "            \n",
    "            for porcentaje, material in coincidencias:\n",
    "                if material in df.columns:\n",
    "                    df[material][idn] = porcentaje\n",
    "                else:\n",
    "                    df[material]= np.nan\n",
    "                    df[material][idn] = porcentaje\n",
    "        else:\n",
    "            continue\n",
    "                \n",
    "    return df"
   ]
  },
  {
   "cell_type": "code",
   "execution_count": 81,
   "id": "df2aa80c",
   "metadata": {},
   "outputs": [],
   "source": [
    "apply_function = extract_composition_materiales_4(tshirt)"
   ]
  },
  {
   "cell_type": "code",
   "execution_count": 82,
   "id": "0adbc1a3",
   "metadata": {
    "scrolled": true
   },
   "outputs": [],
   "source": [
    "#tshirt.info()"
   ]
  },
  {
   "cell_type": "code",
   "execution_count": 83,
   "id": "50a1017c",
   "metadata": {},
   "outputs": [],
   "source": [
    "#tshirt.head()"
   ]
  },
  {
   "cell_type": "code",
   "execution_count": 84,
   "id": "970e92eb",
   "metadata": {},
   "outputs": [],
   "source": [
    "# Crear una nueva columna para contar el número de materiales en cada lista\n",
    "tshirt['num_materials'] = tshirt['comprobacion'].apply(lambda x: len(x) if isinstance(x, list) else 0)"
   ]
  },
  {
   "cell_type": "code",
   "execution_count": 85,
   "id": "eb258b3b",
   "metadata": {},
   "outputs": [],
   "source": [
    "# Crear una nueva columna para asignar el main material de cada producto.\n",
    "\n",
    "tshirt['material'] = tshirt['comprobacion'].apply(\n",
    "    lambda x: x[0][1] if isinstance(x, list) and len(x) > 0 and len(x[0]) > 1 else None\n",
    ")"
   ]
  },
  {
   "cell_type": "code",
   "execution_count": 86,
   "id": "f0961833",
   "metadata": {},
   "outputs": [
    {
     "data": {
      "text/plain": [
       "material\n",
       "algodon      603\n",
       "poliamida     46\n",
       "poliester     32\n",
       "viscosa       25\n",
       "liocel         6\n",
       "modal          4\n",
       "acrilico       2\n",
       "seda           2\n",
       "Name: count, dtype: int64"
      ]
     },
     "execution_count": 86,
     "metadata": {},
     "output_type": "execute_result"
    }
   ],
   "source": [
    "tshirt[\"material\"].value_counts()"
   ]
  },
  {
   "cell_type": "code",
   "execution_count": 87,
   "id": "9ff3f635",
   "metadata": {},
   "outputs": [],
   "source": [
    "# Crear una nueva columna para asignar el material secundario de cada producto.\n",
    "tshirt['num_material'] = tshirt['comprobacion'].apply(lambda x: int(x[0][0]) if len(x) > 0 else None)"
   ]
  },
  {
   "cell_type": "code",
   "execution_count": 88,
   "id": "1364664d",
   "metadata": {},
   "outputs": [],
   "source": [
    "# Crear una nueva columna para contar el % de material para ese producto\n",
    "tshirt['material_secundario'] = tshirt['comprobacion'].apply(lambda x: x[1][1] if len(x) > 1 else None)"
   ]
  },
  {
   "cell_type": "code",
   "execution_count": 89,
   "id": "b9e8efb1",
   "metadata": {},
   "outputs": [],
   "source": [
    "# Crear una nueva columna para contar el % de material para ese producto\n",
    "tshirt['num_material_secundario'] = tshirt['comprobacion'].apply(lambda x: int(x[1][0]) if len(x) > 1 else None)"
   ]
  },
  {
   "cell_type": "code",
   "execution_count": 90,
   "id": "e551e38c",
   "metadata": {},
   "outputs": [],
   "source": [
    "columns_to_keep = [\"comprobacion\", \"material\", \"num_materials\", \"num_material\", \"material_secundario\", \"num_material_secundario\"]\n",
    "\n",
    "filtered_df = tshirt[columns_to_keep]\n",
    "#filtered_df.tail(20)"
   ]
  },
  {
   "cell_type": "code",
   "execution_count": 91,
   "id": "02d1f107",
   "metadata": {},
   "outputs": [
    {
     "data": {
      "text/plain": [
       "num_materials\n",
       "1    392\n",
       "2    293\n",
       "3     30\n",
       "4      5\n",
       "Name: count, dtype: int64"
      ]
     },
     "execution_count": 91,
     "metadata": {},
     "output_type": "execute_result"
    }
   ],
   "source": [
    "tshirt[\"num_materials\"].value_counts()"
   ]
  },
  {
   "cell_type": "markdown",
   "id": "b7a63d93",
   "metadata": {},
   "source": [
    "#### Column recycled:"
   ]
  },
  {
   "cell_type": "code",
   "execution_count": 92,
   "id": "a83af2d8",
   "metadata": {},
   "outputs": [],
   "source": [
    "def recycled_2(df):\n",
    "    \n",
    "    # Inicializar columnas adicionales para cada tipo de material\n",
    "    for material in [\"OCS\", \"RCS\", \"reciclado\"]:\n",
    "        df[material] = np.nan\n",
    "    \n",
    "    # Inicializar columna de comprobación\n",
    "    df[\"comprobacion2\"] = np.nan\n",
    "    \n",
    "    # Iterar sobre cada índice del DataFrame\n",
    "    for idn in df.index:\n",
    "        # Obtener la descripción de la fila actual\n",
    "        desciption = df.loc[idn, \"desciption\"]\n",
    "        \n",
    "        # Lista para almacenar los materiales encontrados\n",
    "        materiales_encontrados = []\n",
    "        \n",
    "        # Verificar si la descripción no está vacía\n",
    "        if desciption != \"[]\":\n",
    "            # Desempaquetar la cadena de texto de la lista\n",
    "            res = desciption.strip('][').split(', ')\n",
    "            \n",
    "            # Recorrer cada elemento de la descripción\n",
    "            for item in res:\n",
    "                # Buscar coincidencias con el patrón en la descripción\n",
    "                matches = re.findall(r\"(\\d+% .*?(?:OCS|RCS|reciclado|cultivo orgánico))\", item)\n",
    "                \n",
    "                # Iterar sobre las coincidencias encontradas\n",
    "                for match in matches:\n",
    "                    # Extraer el porcentaje y el tipo de material\n",
    "                    porcentaje, material = match.split(None, 1)\n",
    "                    \n",
    "                    # Limpiar el tipo de material\n",
    "                    material = material.strip()\n",
    "                    \n",
    "                    # Asignar el porcentaje al tipo de material en la fila actual\n",
    "                    df.at[idn, material] = porcentaje\n",
    "                    \n",
    "                    # Agregar el material a la lista de materiales encontrados\n",
    "                    materiales_encontrados.append(material)\n",
    "                    \n",
    "        # Asignar la lista de materiales encontrados a la columna de comprobación\n",
    "        df.at[idn, \"comprobacion2\"] = materiales_encontrados\n",
    "                \n",
    "    return df"
   ]
  },
  {
   "cell_type": "code",
   "execution_count": 93,
   "id": "96af55c7",
   "metadata": {},
   "outputs": [],
   "source": [
    "aply_recicled = recycled_2(tshirt)"
   ]
  },
  {
   "cell_type": "code",
   "execution_count": 94,
   "id": "913dfce5",
   "metadata": {},
   "outputs": [],
   "source": [
    "#tshirt.info()"
   ]
  },
  {
   "cell_type": "code",
   "execution_count": 95,
   "id": "eb271a32",
   "metadata": {
    "scrolled": true
   },
   "outputs": [],
   "source": [
    "columns_to_keep = [\"comprobacion2\", \"algodon de cultivo organico certificado OCS\",\"poliester reciclado\",\"algodon reciclado\",\"poliamida reciclada certificada RCS\", \"acrilico reciclado\", \"elastano reciclado\"]\n",
    "\n",
    "filtered_df = tshirt[columns_to_keep]\n",
    "#filtered_df.tail(20)"
   ]
  },
  {
   "cell_type": "code",
   "execution_count": 96,
   "id": "7c3b19a9",
   "metadata": {},
   "outputs": [],
   "source": [
    "#funcion para identificar la palabra en el df y asignar la certificacion\n",
    "def obtener_certificacion(lista):\n",
    "    if 'algodon de cultivo organico certificado OCS' in lista \\\n",
    "        or 'algodon de cultivo organico' in lista \\\n",
    "        or 'algodon organico' in lista \\\n",
    "        or 'algodon certificado OCS' in lista \\\n",
    "        or 'algodon OCS' in lista \\\n",
    "        or 'algodon reciclado certificado' in lista \\\n",
    "        or 'algodon reciclado' in lista:\n",
    "        return 'OCS'\n",
    "    elif 'poliamida reciclada certificada RCS' in lista \\\n",
    "        or 'reciclada' in lista:\n",
    "        return 'RCS'\n",
    "    else:\n",
    "        return \"None\""
   ]
  },
  {
   "cell_type": "code",
   "execution_count": 97,
   "id": "f4b715fd",
   "metadata": {},
   "outputs": [],
   "source": [
    "tshirt['certificacion'] = tshirt['comprobacion2'].apply(obtener_certificacion)"
   ]
  },
  {
   "cell_type": "code",
   "execution_count": 98,
   "id": "8049cdd4",
   "metadata": {},
   "outputs": [],
   "source": [
    "#tshirt.info()"
   ]
  },
  {
   "cell_type": "code",
   "execution_count": 99,
   "id": "f8dfb85c",
   "metadata": {},
   "outputs": [],
   "source": [
    "columns_to_keep = [\"comprobacion2\", \"algodon de cultivo organico certificado OCS\",\"poliester reciclado\",\"algodon reciclado\",\"poliamida reciclada certificada RCS\", \"acrilico reciclado\", \"elastano reciclado\", \"certificacion\"]\n",
    "\n",
    "filtered_df = tshirt[columns_to_keep]\n",
    "#filtered_df.tail(20)"
   ]
  },
  {
   "cell_type": "code",
   "execution_count": 100,
   "id": "7567687e",
   "metadata": {},
   "outputs": [
    {
     "data": {
      "text/plain": [
       "certificacion\n",
       "None    526\n",
       "OCS     159\n",
       "RCS      35\n",
       "Name: count, dtype: int64"
      ]
     },
     "execution_count": 100,
     "metadata": {},
     "output_type": "execute_result"
    }
   ],
   "source": [
    "tshirt[\"certificacion\"].value_counts()"
   ]
  },
  {
   "cell_type": "markdown",
   "id": "e090d0f0",
   "metadata": {},
   "source": [
    "#### Column Price: "
   ]
  },
  {
   "cell_type": "code",
   "execution_count": 101,
   "id": "72a280e4",
   "metadata": {},
   "outputs": [],
   "source": [
    "def remove_currency(df):\n",
    "    df[\"price\"] = df[\"price\"].replace(\"EUR\", \"\", regex=True)\n",
    "    return df"
   ]
  },
  {
   "cell_type": "code",
   "execution_count": 102,
   "id": "f2110d63",
   "metadata": {},
   "outputs": [],
   "source": [
    "remove = remove_currency(tshirt)"
   ]
  },
  {
   "cell_type": "markdown",
   "id": "99843291",
   "metadata": {},
   "source": [
    "#### Column certificate por Intertek 193341:"
   ]
  },
  {
   "cell_type": "code",
   "execution_count": 103,
   "id": "df51b8df",
   "metadata": {},
   "outputs": [],
   "source": [
    "def add_intertek_column(df):\n",
    "    pattern = re.compile(r'Certificado\\s+por\\s+Intertek\\s+193341', re.IGNORECASE)\n",
    "    df['intertek'] = df['desciption'].apply(lambda x: bool(pattern.search(x)))\n",
    "    \n",
    "    return df"
   ]
  },
  {
   "cell_type": "code",
   "execution_count": 104,
   "id": "24148a10",
   "metadata": {},
   "outputs": [],
   "source": [
    "apply3 = add_intertek_column(tshirt)"
   ]
  },
  {
   "cell_type": "code",
   "execution_count": 105,
   "id": "51ed98c3",
   "metadata": {},
   "outputs": [
    {
     "data": {
      "text/plain": [
       "intertek\n",
       "False    494\n",
       "True     226\n",
       "Name: count, dtype: int64"
      ]
     },
     "execution_count": 105,
     "metadata": {},
     "output_type": "execute_result"
    }
   ],
   "source": [
    "tshirt[\"intertek\"].value_counts()"
   ]
  },
  {
   "cell_type": "markdown",
   "id": "4b7389b1",
   "metadata": {},
   "source": [
    "#### Etiquetar OCS & RCS"
   ]
  },
  {
   "cell_type": "code",
   "execution_count": 106,
   "id": "b2562d23",
   "metadata": {},
   "outputs": [],
   "source": [
    "def etiquetar(df):\n",
    "    df['OCS'] = ''  # Inicializar la columna OCS\n",
    "    df['RCS'] = ''  # Inicializar la columna RCS\n",
    "\n",
    "    for index, row in df.iterrows():\n",
    "        comprobacion = row['comprobacion2']\n",
    "        if isinstance(comprobacion, str):\n",
    "            if 'organico' in comprobacion:\n",
    "                df.at[index, 'OCS'] = 'OCS'\n",
    "            if 'reciclado' in comprobacion:\n",
    "                df.at[index, 'RCS'] = 'RCS'\n",
    "        elif isinstance(comprobacion, list):\n",
    "            for item in comprobacion:\n",
    "                if 'organico' in item:\n",
    "                    df.at[index, 'OCS'] = 'OCS'\n",
    "                if 'reciclado' in item:\n",
    "                    df.at[index, 'RCS'] = 'RCS'\n",
    "\n",
    "    return df\n"
   ]
  },
  {
   "cell_type": "code",
   "execution_count": 107,
   "id": "d9a8a3a4",
   "metadata": {},
   "outputs": [],
   "source": [
    "tshirt = etiquetar(tshirt)"
   ]
  },
  {
   "cell_type": "code",
   "execution_count": 108,
   "id": "bd03a31d",
   "metadata": {},
   "outputs": [],
   "source": [
    "tshirt = etiquetar(tshirt)"
   ]
  },
  {
   "cell_type": "code",
   "execution_count": 109,
   "id": "048e7b6d",
   "metadata": {},
   "outputs": [],
   "source": [
    "# Crear una función para obtener el porcentaje correspondiente\n",
    "def obtener_porcentaje(row):\n",
    "    if row['certificacion'] == 'OCS':\n",
    "        return row['algodon de cultivo organico certificado OCS']\n",
    "    elif row['certificacion'] == 'RCS':\n",
    "        return row['poliamida reciclada certificada RCS']\n",
    "    else:\n",
    "        return None"
   ]
  },
  {
   "cell_type": "code",
   "execution_count": 110,
   "id": "47decc53",
   "metadata": {},
   "outputs": [],
   "source": [
    "tshirt['porcentaje'] = tshirt.apply(obtener_porcentaje, axis=1)"
   ]
  },
  {
   "cell_type": "code",
   "execution_count": 111,
   "id": "f72b467e",
   "metadata": {},
   "outputs": [],
   "source": [
    "# Crear una función para buscar materiales reciclados en la lista\n",
    "def encontrar_material_reciclado(lista):\n",
    "    for material in lista:\n",
    "        if 'algodon reciclado' in material:\n",
    "            return 'algodon reciclado'\n",
    "        elif 'poliester reciclado' in material:\n",
    "            return 'poliester reciclado'\n",
    "        elif 'poliamida reciclada' in material:\n",
    "            return 'poliamida reciclada'\n",
    "    return None"
   ]
  },
  {
   "cell_type": "code",
   "execution_count": 112,
   "id": "7942e866",
   "metadata": {},
   "outputs": [],
   "source": [
    "tshirt['reciclado'] = tshirt['comprobacion2'].apply(encontrar_material_reciclado)"
   ]
  },
  {
   "cell_type": "code",
   "execution_count": 113,
   "id": "6007d00e",
   "metadata": {},
   "outputs": [
    {
     "data": {
      "text/plain": [
       "reciclado\n",
       "algodon reciclado      50\n",
       "poliester reciclado    40\n",
       "poliamida reciclada    35\n",
       "Name: count, dtype: int64"
      ]
     },
     "execution_count": 113,
     "metadata": {},
     "output_type": "execute_result"
    }
   ],
   "source": [
    "tshirt['reciclado'].value_counts()"
   ]
  },
  {
   "cell_type": "code",
   "execution_count": null,
   "id": "6612185d",
   "metadata": {},
   "outputs": [],
   "source": []
  },
  {
   "cell_type": "markdown",
   "id": "5bf6787f",
   "metadata": {},
   "source": [
    "### EDA"
   ]
  },
  {
   "cell_type": "code",
   "execution_count": 114,
   "id": "8d7754c0",
   "metadata": {},
   "outputs": [
    {
     "data": {
      "text/html": [
       "<div>\n",
       "<style scoped>\n",
       "    .dataframe tbody tr th:only-of-type {\n",
       "        vertical-align: middle;\n",
       "    }\n",
       "\n",
       "    .dataframe tbody tr th {\n",
       "        vertical-align: top;\n",
       "    }\n",
       "\n",
       "    .dataframe thead th {\n",
       "        text-align: right;\n",
       "    }\n",
       "</style>\n",
       "<table border=\"1\" class=\"dataframe\">\n",
       "  <thead>\n",
       "    <tr style=\"text-align: right;\">\n",
       "      <th></th>\n",
       "      <th>Recuento</th>\n",
       "    </tr>\n",
       "  </thead>\n",
       "  <tbody>\n",
       "    <tr>\n",
       "      <th>Cert_T-shirt</th>\n",
       "      <td>100.00%</td>\n",
       "    </tr>\n",
       "  </tbody>\n",
       "</table>\n",
       "</div>"
      ],
      "text/plain": [
       "             Recuento\n",
       "Cert_T-shirt  100.00%"
      ]
     },
     "execution_count": 114,
     "metadata": {},
     "output_type": "execute_result"
    }
   ],
   "source": [
    "# Obtener el recuento de los diferentes tipos de materiales reciclados\n",
    "certificacion_counts = tshirt['certificacion'].value_counts(dropna=True)\n",
    "\n",
    "# Crear la tabla dinámica\n",
    "pivot_table23 = pd.DataFrame(certificacion_counts, columns=['Recuento'])\n",
    "\n",
    "# Calcular el número total de productos\n",
    "total_products = len(tshirt)\n",
    "\n",
    "# Calcular el número total de productos con certificaciones (excluyendo NaN)\n",
    "total_certified_products = tshirt['certificacion'].notna().sum()\n",
    "\n",
    "# Calcular el porcentaje de productos con certificaciones\n",
    "percentage_certified = (total_certified_products / total_products) * 100\n",
    "\n",
    "# Agregar el porcentaje a la tabla dinámica\n",
    "pivot_table23.loc['Cert_T-shirt'] = [f\"{percentage_certified:.2f}%\"]\n",
    "\n",
    "# Mostrar la tabla\n",
    "pivot_table23"
   ]
  },
  {
   "cell_type": "code",
   "execution_count": 115,
   "id": "52cdc5bd",
   "metadata": {},
   "outputs": [],
   "source": [
    "#pivot_table23.to_csv('certif_tshirt.csv')"
   ]
  },
  {
   "cell_type": "code",
   "execution_count": 116,
   "id": "d3cc88de",
   "metadata": {},
   "outputs": [
    {
     "data": {
      "text/html": [
       "<div>\n",
       "<style scoped>\n",
       "    .dataframe tbody tr th:only-of-type {\n",
       "        vertical-align: middle;\n",
       "    }\n",
       "\n",
       "    .dataframe tbody tr th {\n",
       "        vertical-align: top;\n",
       "    }\n",
       "\n",
       "    .dataframe thead th {\n",
       "        text-align: right;\n",
       "    }\n",
       "</style>\n",
       "<table border=\"1\" class=\"dataframe\">\n",
       "  <thead>\n",
       "    <tr style=\"text-align: right;\">\n",
       "      <th></th>\n",
       "      <th>count</th>\n",
       "    </tr>\n",
       "    <tr>\n",
       "      <th>certificacion</th>\n",
       "      <th></th>\n",
       "    </tr>\n",
       "  </thead>\n",
       "  <tbody>\n",
       "    <tr>\n",
       "      <th>None</th>\n",
       "      <td>526</td>\n",
       "    </tr>\n",
       "    <tr>\n",
       "      <th>OCS</th>\n",
       "      <td>159</td>\n",
       "    </tr>\n",
       "    <tr>\n",
       "      <th>RCS</th>\n",
       "      <td>35</td>\n",
       "    </tr>\n",
       "  </tbody>\n",
       "</table>\n",
       "</div>"
      ],
      "text/plain": [
       "               count\n",
       "certificacion       \n",
       "None             526\n",
       "OCS              159\n",
       "RCS               35"
      ]
     },
     "execution_count": 116,
     "metadata": {},
     "output_type": "execute_result"
    }
   ],
   "source": [
    "# Obtener el recuento de los diferentes tipos de materiales reciclados\n",
    "certification = tshirt['certificacion'].value_counts()\n",
    "\n",
    "# Crear la tabla dinámica\n",
    "pivot_table2 = pd.DataFrame(certification)\n",
    "pivot_table2"
   ]
  },
  {
   "cell_type": "code",
   "execution_count": 117,
   "id": "6e1fe2e1",
   "metadata": {},
   "outputs": [],
   "source": [
    "pivot_table2.to_csv('total_cert.csv')"
   ]
  },
  {
   "cell_type": "code",
   "execution_count": 118,
   "id": "fabf61ba",
   "metadata": {},
   "outputs": [
    {
     "data": {
      "text/html": [
       "<div>\n",
       "<style scoped>\n",
       "    .dataframe tbody tr th:only-of-type {\n",
       "        vertical-align: middle;\n",
       "    }\n",
       "\n",
       "    .dataframe tbody tr th {\n",
       "        vertical-align: top;\n",
       "    }\n",
       "\n",
       "    .dataframe thead th {\n",
       "        text-align: right;\n",
       "    }\n",
       "</style>\n",
       "<table border=\"1\" class=\"dataframe\">\n",
       "  <thead>\n",
       "    <tr style=\"text-align: right;\">\n",
       "      <th>certificacion</th>\n",
       "      <th>None</th>\n",
       "      <th>OCS</th>\n",
       "      <th>RCS</th>\n",
       "      <th>Total</th>\n",
       "    </tr>\n",
       "    <tr>\n",
       "      <th>product_name</th>\n",
       "      <th></th>\n",
       "      <th></th>\n",
       "      <th></th>\n",
       "      <th></th>\n",
       "    </tr>\n",
       "  </thead>\n",
       "  <tbody>\n",
       "    <tr>\n",
       "      <th>Camiseta Algodon Basica</th>\n",
       "      <td>79</td>\n",
       "      <td>21</td>\n",
       "      <td>0</td>\n",
       "      <td>100</td>\n",
       "    </tr>\n",
       "    <tr>\n",
       "      <th>Camiseta Algodon Enzimatico</th>\n",
       "      <td>15</td>\n",
       "      <td>0</td>\n",
       "      <td>0</td>\n",
       "      <td>15</td>\n",
       "    </tr>\n",
       "    <tr>\n",
       "      <th>Camiseta Heavy Cotton</th>\n",
       "      <td>10</td>\n",
       "      <td>8</td>\n",
       "      <td>0</td>\n",
       "      <td>18</td>\n",
       "    </tr>\n",
       "    <tr>\n",
       "      <th>Camiseta Oversize</th>\n",
       "      <td>18</td>\n",
       "      <td>8</td>\n",
       "      <td>1</td>\n",
       "      <td>27</td>\n",
       "    </tr>\n",
       "    <tr>\n",
       "      <th>Camiseta Poliamida</th>\n",
       "      <td>11</td>\n",
       "      <td>0</td>\n",
       "      <td>33</td>\n",
       "      <td>44</td>\n",
       "    </tr>\n",
       "    <tr>\n",
       "      <th>Camiseta Rib</th>\n",
       "      <td>78</td>\n",
       "      <td>15</td>\n",
       "      <td>0</td>\n",
       "      <td>93</td>\n",
       "    </tr>\n",
       "    <tr>\n",
       "      <th>Camiseta Temporada</th>\n",
       "      <td>263</td>\n",
       "      <td>74</td>\n",
       "      <td>1</td>\n",
       "      <td>338</td>\n",
       "    </tr>\n",
       "    <tr>\n",
       "      <th>Sudadera</th>\n",
       "      <td>40</td>\n",
       "      <td>27</td>\n",
       "      <td>0</td>\n",
       "      <td>67</td>\n",
       "    </tr>\n",
       "    <tr>\n",
       "      <th>Top Crop</th>\n",
       "      <td>12</td>\n",
       "      <td>6</td>\n",
       "      <td>0</td>\n",
       "      <td>18</td>\n",
       "    </tr>\n",
       "  </tbody>\n",
       "</table>\n",
       "</div>"
      ],
      "text/plain": [
       "certificacion                None  OCS  RCS  Total\n",
       "product_name                                      \n",
       "Camiseta Algodon Basica        79   21    0    100\n",
       "Camiseta Algodon Enzimatico    15    0    0     15\n",
       "Camiseta Heavy Cotton          10    8    0     18\n",
       "Camiseta Oversize              18    8    1     27\n",
       "Camiseta Poliamida             11    0   33     44\n",
       "Camiseta Rib                   78   15    0     93\n",
       "Camiseta Temporada            263   74    1    338\n",
       "Sudadera                       40   27    0     67\n",
       "Top Crop                       12    6    0     18"
      ]
     },
     "execution_count": 118,
     "metadata": {},
     "output_type": "execute_result"
    }
   ],
   "source": [
    "# Obtener el recuento de los diferentes tipos de certificaciones por producto\n",
    "pivot_table_por_producto = tshirt.groupby('product_name')['certificacion'].value_counts().unstack(fill_value=0)\n",
    "\n",
    "# Esta línea agrega un total por producto, si no deseas este total puedes omitir la línea\n",
    "pivot_table_por_producto['Total'] = pivot_table_por_producto.sum(axis=1)\n",
    "\n",
    "# Mostrar la tabla dinámica por producto\n",
    "pivot_table_por_producto"
   ]
  },
  {
   "cell_type": "code",
   "execution_count": 119,
   "id": "535e3b8a",
   "metadata": {},
   "outputs": [
    {
     "data": {
      "text/html": [
       "<div>\n",
       "<style scoped>\n",
       "    .dataframe tbody tr th:only-of-type {\n",
       "        vertical-align: middle;\n",
       "    }\n",
       "\n",
       "    .dataframe tbody tr th {\n",
       "        vertical-align: top;\n",
       "    }\n",
       "\n",
       "    .dataframe thead th {\n",
       "        text-align: right;\n",
       "    }\n",
       "</style>\n",
       "<table border=\"1\" class=\"dataframe\">\n",
       "  <thead>\n",
       "    <tr style=\"text-align: right;\">\n",
       "      <th>certificacion</th>\n",
       "      <th>None</th>\n",
       "      <th>OCS</th>\n",
       "      <th>RCS</th>\n",
       "      <th>Total</th>\n",
       "    </tr>\n",
       "    <tr>\n",
       "      <th>product_name</th>\n",
       "      <th></th>\n",
       "      <th></th>\n",
       "      <th></th>\n",
       "      <th></th>\n",
       "    </tr>\n",
       "  </thead>\n",
       "  <tbody>\n",
       "    <tr>\n",
       "      <th>Camiseta Algodon Basica</th>\n",
       "      <td>79.0</td>\n",
       "      <td>21.0</td>\n",
       "      <td>0.0</td>\n",
       "      <td>100.0</td>\n",
       "    </tr>\n",
       "    <tr>\n",
       "      <th>Camiseta Algodon Enzimatico</th>\n",
       "      <td>15.0</td>\n",
       "      <td>0.0</td>\n",
       "      <td>0.0</td>\n",
       "      <td>15.0</td>\n",
       "    </tr>\n",
       "    <tr>\n",
       "      <th>Camiseta Heavy Cotton</th>\n",
       "      <td>10.0</td>\n",
       "      <td>8.0</td>\n",
       "      <td>0.0</td>\n",
       "      <td>18.0</td>\n",
       "    </tr>\n",
       "    <tr>\n",
       "      <th>Camiseta Oversize</th>\n",
       "      <td>18.0</td>\n",
       "      <td>8.0</td>\n",
       "      <td>1.0</td>\n",
       "      <td>27.0</td>\n",
       "    </tr>\n",
       "    <tr>\n",
       "      <th>Camiseta Poliamida</th>\n",
       "      <td>11.0</td>\n",
       "      <td>0.0</td>\n",
       "      <td>33.0</td>\n",
       "      <td>44.0</td>\n",
       "    </tr>\n",
       "    <tr>\n",
       "      <th>Camiseta Rib</th>\n",
       "      <td>78.0</td>\n",
       "      <td>15.0</td>\n",
       "      <td>0.0</td>\n",
       "      <td>93.0</td>\n",
       "    </tr>\n",
       "    <tr>\n",
       "      <th>Camiseta Temporada</th>\n",
       "      <td>263.0</td>\n",
       "      <td>74.0</td>\n",
       "      <td>1.0</td>\n",
       "      <td>338.0</td>\n",
       "    </tr>\n",
       "    <tr>\n",
       "      <th>Sudadera</th>\n",
       "      <td>40.0</td>\n",
       "      <td>27.0</td>\n",
       "      <td>0.0</td>\n",
       "      <td>67.0</td>\n",
       "    </tr>\n",
       "    <tr>\n",
       "      <th>Top Crop</th>\n",
       "      <td>12.0</td>\n",
       "      <td>6.0</td>\n",
       "      <td>0.0</td>\n",
       "      <td>18.0</td>\n",
       "    </tr>\n",
       "    <tr>\n",
       "      <th>Total</th>\n",
       "      <td>NaN</td>\n",
       "      <td>NaN</td>\n",
       "      <td>NaN</td>\n",
       "      <td>NaN</td>\n",
       "    </tr>\n",
       "  </tbody>\n",
       "</table>\n",
       "</div>"
      ],
      "text/plain": [
       "certificacion                 None   OCS   RCS  Total\n",
       "product_name                                         \n",
       "Camiseta Algodon Basica       79.0  21.0   0.0  100.0\n",
       "Camiseta Algodon Enzimatico   15.0   0.0   0.0   15.0\n",
       "Camiseta Heavy Cotton         10.0   8.0   0.0   18.0\n",
       "Camiseta Oversize             18.0   8.0   1.0   27.0\n",
       "Camiseta Poliamida            11.0   0.0  33.0   44.0\n",
       "Camiseta Rib                  78.0  15.0   0.0   93.0\n",
       "Camiseta Temporada           263.0  74.0   1.0  338.0\n",
       "Sudadera                      40.0  27.0   0.0   67.0\n",
       "Top Crop                      12.0   6.0   0.0   18.0\n",
       "Total                          NaN   NaN   NaN    NaN"
      ]
     },
     "execution_count": 119,
     "metadata": {},
     "output_type": "execute_result"
    }
   ],
   "source": [
    "# Calcular el total de certificaciones para todos los productos\n",
    "total_certificaciones = pivot_table_por_producto.sum()\n",
    "\n",
    "# Agregar el total al final de la tabla dinámica\n",
    "pivot_table_por_producto.loc['Total'] = tshirt['product_name'].value_counts()\n",
    "pivot_table_por_producto"
   ]
  },
  {
   "cell_type": "code",
   "execution_count": 120,
   "id": "e084c68d",
   "metadata": {},
   "outputs": [
    {
     "data": {
      "text/html": [
       "<div>\n",
       "<style scoped>\n",
       "    .dataframe tbody tr th:only-of-type {\n",
       "        vertical-align: middle;\n",
       "    }\n",
       "\n",
       "    .dataframe tbody tr th {\n",
       "        vertical-align: top;\n",
       "    }\n",
       "\n",
       "    .dataframe thead th {\n",
       "        text-align: right;\n",
       "    }\n",
       "</style>\n",
       "<table border=\"1\" class=\"dataframe\">\n",
       "  <thead>\n",
       "    <tr style=\"text-align: right;\">\n",
       "      <th>certificacion</th>\n",
       "      <th>None</th>\n",
       "      <th>OCS</th>\n",
       "      <th>RCS</th>\n",
       "      <th>Total</th>\n",
       "    </tr>\n",
       "    <tr>\n",
       "      <th>product_name</th>\n",
       "      <th></th>\n",
       "      <th></th>\n",
       "      <th></th>\n",
       "      <th></th>\n",
       "    </tr>\n",
       "  </thead>\n",
       "  <tbody>\n",
       "    <tr>\n",
       "      <th>Camiseta Algodon Basica</th>\n",
       "      <td>5.49</td>\n",
       "      <td>1.46</td>\n",
       "      <td>0.00</td>\n",
       "      <td>6.94</td>\n",
       "    </tr>\n",
       "    <tr>\n",
       "      <th>Camiseta Algodon Enzimatico</th>\n",
       "      <td>1.04</td>\n",
       "      <td>0.00</td>\n",
       "      <td>0.00</td>\n",
       "      <td>1.04</td>\n",
       "    </tr>\n",
       "    <tr>\n",
       "      <th>Camiseta Heavy Cotton</th>\n",
       "      <td>0.69</td>\n",
       "      <td>0.56</td>\n",
       "      <td>0.00</td>\n",
       "      <td>1.25</td>\n",
       "    </tr>\n",
       "    <tr>\n",
       "      <th>Camiseta Oversize</th>\n",
       "      <td>1.25</td>\n",
       "      <td>0.56</td>\n",
       "      <td>0.07</td>\n",
       "      <td>1.88</td>\n",
       "    </tr>\n",
       "    <tr>\n",
       "      <th>Camiseta Poliamida</th>\n",
       "      <td>0.76</td>\n",
       "      <td>0.00</td>\n",
       "      <td>2.29</td>\n",
       "      <td>3.06</td>\n",
       "    </tr>\n",
       "    <tr>\n",
       "      <th>Camiseta Rib</th>\n",
       "      <td>5.42</td>\n",
       "      <td>1.04</td>\n",
       "      <td>0.00</td>\n",
       "      <td>6.46</td>\n",
       "    </tr>\n",
       "    <tr>\n",
       "      <th>Camiseta Temporada</th>\n",
       "      <td>18.26</td>\n",
       "      <td>5.14</td>\n",
       "      <td>0.07</td>\n",
       "      <td>23.47</td>\n",
       "    </tr>\n",
       "    <tr>\n",
       "      <th>Sudadera</th>\n",
       "      <td>2.78</td>\n",
       "      <td>1.88</td>\n",
       "      <td>0.00</td>\n",
       "      <td>4.65</td>\n",
       "    </tr>\n",
       "    <tr>\n",
       "      <th>Top Crop</th>\n",
       "      <td>0.83</td>\n",
       "      <td>0.42</td>\n",
       "      <td>0.00</td>\n",
       "      <td>1.25</td>\n",
       "    </tr>\n",
       "    <tr>\n",
       "      <th>Total</th>\n",
       "      <td>NaN</td>\n",
       "      <td>NaN</td>\n",
       "      <td>NaN</td>\n",
       "      <td>NaN</td>\n",
       "    </tr>\n",
       "  </tbody>\n",
       "</table>\n",
       "</div>"
      ],
      "text/plain": [
       "certificacion                 None   OCS   RCS  Total\n",
       "product_name                                         \n",
       "Camiseta Algodon Basica       5.49  1.46  0.00   6.94\n",
       "Camiseta Algodon Enzimatico   1.04  0.00  0.00   1.04\n",
       "Camiseta Heavy Cotton         0.69  0.56  0.00   1.25\n",
       "Camiseta Oversize             1.25  0.56  0.07   1.88\n",
       "Camiseta Poliamida            0.76  0.00  2.29   3.06\n",
       "Camiseta Rib                  5.42  1.04  0.00   6.46\n",
       "Camiseta Temporada           18.26  5.14  0.07  23.47\n",
       "Sudadera                      2.78  1.88  0.00   4.65\n",
       "Top Crop                      0.83  0.42  0.00   1.25\n",
       "Total                          NaN   NaN   NaN    NaN"
      ]
     },
     "execution_count": 120,
     "metadata": {},
     "output_type": "execute_result"
    }
   ],
   "source": [
    "# Calcular el porcentaje de certificaciones en relación al total de todas las filas\n",
    "total_filas = pivot_table_por_producto.iloc[:-1, :].sum().sum()\n",
    "porcentaje_total = pivot_table_por_producto.div(total_filas) * 100\n",
    "\n",
    "# Calcular el total de todas las certificaciones\n",
    "total_certificaciones = pivot_table_por_producto.sum().sum()\n",
    "\n",
    "# Calcular el porcentaje total de cada tipo de certificación en relación al total de todas las certificaciones\n",
    "porcentaje_total = pivot_table_por_producto / total_certificaciones * 100\n",
    "\n",
    "porcentaje_total = porcentaje_total.round(2)\n",
    "\n",
    "# Mostrar la tabla de porcentajes formateada\n",
    "porcentaje_total\n",
    "porcentaje_total"
   ]
  },
  {
   "cell_type": "code",
   "execution_count": 121,
   "id": "e23b7647",
   "metadata": {},
   "outputs": [],
   "source": [
    "porcentaje_total.to_csv('porcentaje_total_camiseta.csv')"
   ]
  },
  {
   "cell_type": "code",
   "execution_count": 122,
   "id": "9293627b",
   "metadata": {},
   "outputs": [
    {
     "data": {
      "text/html": [
       "<div>\n",
       "<style scoped>\n",
       "    .dataframe tbody tr th:only-of-type {\n",
       "        vertical-align: middle;\n",
       "    }\n",
       "\n",
       "    .dataframe tbody tr th {\n",
       "        vertical-align: top;\n",
       "    }\n",
       "\n",
       "    .dataframe thead th {\n",
       "        text-align: right;\n",
       "    }\n",
       "</style>\n",
       "<table border=\"1\" class=\"dataframe\">\n",
       "  <thead>\n",
       "    <tr style=\"text-align: right;\">\n",
       "      <th></th>\n",
       "      <th>count</th>\n",
       "    </tr>\n",
       "    <tr>\n",
       "      <th>reciclado</th>\n",
       "      <th></th>\n",
       "    </tr>\n",
       "  </thead>\n",
       "  <tbody>\n",
       "    <tr>\n",
       "      <th>algodon reciclado</th>\n",
       "      <td>50</td>\n",
       "    </tr>\n",
       "    <tr>\n",
       "      <th>poliester reciclado</th>\n",
       "      <td>40</td>\n",
       "    </tr>\n",
       "    <tr>\n",
       "      <th>poliamida reciclada</th>\n",
       "      <td>35</td>\n",
       "    </tr>\n",
       "  </tbody>\n",
       "</table>\n",
       "</div>"
      ],
      "text/plain": [
       "                     count\n",
       "reciclado                 \n",
       "algodon reciclado       50\n",
       "poliester reciclado     40\n",
       "poliamida reciclada     35"
      ]
     },
     "execution_count": 122,
     "metadata": {},
     "output_type": "execute_result"
    }
   ],
   "source": [
    "# Obtener el recuento de los diferentes tipos de materiales reciclados\n",
    "reciclado_counts = tshirt['reciclado'].value_counts()\n",
    "\n",
    "# Crear la tabla dinámica\n",
    "pivot_table = pd.DataFrame(reciclado_counts)\n",
    "pivot_table"
   ]
  },
  {
   "cell_type": "code",
   "execution_count": 123,
   "id": "199ff4b3",
   "metadata": {},
   "outputs": [],
   "source": [
    "#pivot_table.to_csv('pivot_table_reciclado_camisetas')"
   ]
  },
  {
   "cell_type": "code",
   "execution_count": 124,
   "id": "b543112e",
   "metadata": {},
   "outputs": [
    {
     "data": {
      "text/html": [
       "<div>\n",
       "<style scoped>\n",
       "    .dataframe tbody tr th:only-of-type {\n",
       "        vertical-align: middle;\n",
       "    }\n",
       "\n",
       "    .dataframe tbody tr th {\n",
       "        vertical-align: top;\n",
       "    }\n",
       "\n",
       "    .dataframe thead th {\n",
       "        text-align: right;\n",
       "    }\n",
       "</style>\n",
       "<table border=\"1\" class=\"dataframe\">\n",
       "  <thead>\n",
       "    <tr style=\"text-align: right;\">\n",
       "      <th></th>\n",
       "      <th>reciclado</th>\n",
       "      <th>count</th>\n",
       "      <th>% del total</th>\n",
       "    </tr>\n",
       "  </thead>\n",
       "  <tbody>\n",
       "    <tr>\n",
       "      <th>0</th>\n",
       "      <td>algodon reciclado</td>\n",
       "      <td>50</td>\n",
       "      <td>6.944444</td>\n",
       "    </tr>\n",
       "    <tr>\n",
       "      <th>1</th>\n",
       "      <td>poliester reciclado</td>\n",
       "      <td>40</td>\n",
       "      <td>5.555556</td>\n",
       "    </tr>\n",
       "    <tr>\n",
       "      <th>2</th>\n",
       "      <td>poliamida reciclada</td>\n",
       "      <td>35</td>\n",
       "      <td>4.861111</td>\n",
       "    </tr>\n",
       "    <tr>\n",
       "      <th>3</th>\n",
       "      <td>Total productos reciclados</td>\n",
       "      <td>125</td>\n",
       "      <td>17.361111</td>\n",
       "    </tr>\n",
       "  </tbody>\n",
       "</table>\n",
       "</div>"
      ],
      "text/plain": [
       "                    reciclado  count  % del total\n",
       "0           algodon reciclado     50     6.944444\n",
       "1         poliester reciclado     40     5.555556\n",
       "2         poliamida reciclada     35     4.861111\n",
       "3  Total productos reciclados    125    17.361111"
      ]
     },
     "execution_count": 124,
     "metadata": {},
     "output_type": "execute_result"
    }
   ],
   "source": [
    "# Obtener el recuento de los diferentes tipos de materiales reciclados\n",
    "reciclado_counts = tshirt['reciclado'].value_counts()\n",
    "\n",
    "# Crear la tabla dinámica a partir de reciclado_counts\n",
    "pivot_table = pd.DataFrame(reciclado_counts).reset_index()\n",
    "pivot_table.columns = ['reciclado', 'count']\n",
    "\n",
    "# Calcular el recuento total de productos\n",
    "total_productos = tshirt.shape[0]\n",
    "\n",
    "# Agregar una columna para el porcentaje respecto al total de productos\n",
    "pivot_table['% del total'] = (pivot_table['count'] / total_productos) * 100\n",
    "\n",
    "# Agregar una fila para el total de productos reciclados\n",
    "total_reciclado = pivot_table['count'].sum()\n",
    "total_row = pd.DataFrame({'reciclado': ['Total productos reciclados'], 'count': [total_reciclado], '% del total': [total_reciclado / total_productos * 100]})\n",
    "\n",
    "# Concatenar la fila total al DataFrame pivot_table\n",
    "pivot_table = pd.concat([pivot_table, total_row], ignore_index=True)\n",
    "\n",
    "pivot_table"
   ]
  },
  {
   "cell_type": "code",
   "execution_count": 125,
   "id": "c8275370",
   "metadata": {},
   "outputs": [],
   "source": [
    "#pivot_table.to_csv('reciclado_camisetas2.csv')"
   ]
  },
  {
   "cell_type": "code",
   "execution_count": 126,
   "id": "732881a8",
   "metadata": {},
   "outputs": [],
   "source": [
    "tshirt['reciclado'] = tshirt['reciclado'].str.replace('reciclado', '').str.replace('reciclada', '')"
   ]
  },
  {
   "cell_type": "code",
   "execution_count": 127,
   "id": "a08deee4",
   "metadata": {},
   "outputs": [],
   "source": [
    "columns_to_keep = [\"comprobacion2\", \"algodon de cultivo organico certificado OCS\",\"poliester reciclado\",\"algodon reciclado\",\"poliamida reciclada certificada RCS\", \"acrilico reciclado\", \"elastano reciclado\", \"certificacion\", \"porcentaje\", \"reciclado\"]\n",
    "\n",
    "filtered_df = tshirt[columns_to_keep]\n",
    "#filtered_df.head(20)"
   ]
  },
  {
   "cell_type": "code",
   "execution_count": 128,
   "id": "3da54ce7",
   "metadata": {},
   "outputs": [],
   "source": [
    "columns_to_keep = [\"index\",\"product_name\", \"price\", \"made_in\", \"standard_soc_ma\", \"material\",\"num_materials\",\"num_material\",\"material_secundario\",\"num_material_secundario\",\"comprobacion2\",\"certificacion\",\"porcentaje\", \"porcentaje\"]\n",
    "\n",
    "final_df = tshirt[columns_to_keep]\n",
    "#final_df.tail(20)"
   ]
  },
  {
   "cell_type": "code",
   "execution_count": 129,
   "id": "206516bd",
   "metadata": {},
   "outputs": [],
   "source": [
    "#tshirt['certificacion'] = tshirt.apply(asignar_certificacion, axis=1)\n"
   ]
  },
  {
   "cell_type": "code",
   "execution_count": 130,
   "id": "c57d8b7b",
   "metadata": {},
   "outputs": [],
   "source": [
    "#tshirt[\"certificacion\"].value_counts()"
   ]
  },
  {
   "cell_type": "code",
   "execution_count": 131,
   "id": "5a15443a",
   "metadata": {},
   "outputs": [],
   "source": [
    "#tshirt.info()"
   ]
  },
  {
   "cell_type": "code",
   "execution_count": 132,
   "id": "92a6dce7",
   "metadata": {},
   "outputs": [
    {
     "data": {
      "text/plain": [
       "certificacion\n",
       "None    526\n",
       "OCS     159\n",
       "RCS      35\n",
       "Name: count, dtype: int64"
      ]
     },
     "execution_count": 132,
     "metadata": {},
     "output_type": "execute_result"
    }
   ],
   "source": [
    "tshirt[\"certificacion\"].value_counts()"
   ]
  },
  {
   "cell_type": "markdown",
   "id": "a98cd431",
   "metadata": {},
   "source": [
    "## FINAL TSHIRT DF: "
   ]
  },
  {
   "cell_type": "code",
   "execution_count": 133,
   "id": "c6949844",
   "metadata": {},
   "outputs": [
    {
     "name": "stdout",
     "output_type": "stream",
     "text": [
      "<class 'pandas.core.frame.DataFrame'>\n",
      "Index: 720 entries, 0 to 728\n",
      "Data columns (total 38 columns):\n",
      " #   Column                                       Non-Null Count  Dtype  \n",
      "---  ------                                       --------------  -----  \n",
      " 0   index                                        720 non-null    int64  \n",
      " 1   product_name                                 720 non-null    object \n",
      " 2   price                                        720 non-null    object \n",
      " 3   desciption                                   720 non-null    object \n",
      " 4   made_in                                      720 non-null    object \n",
      " 5   standard_soc_ma                              720 non-null    bool   \n",
      " 6   comprobacion                                 720 non-null    object \n",
      " 7   algodon                                      622 non-null    object \n",
      " 8   poliamida                                    48 non-null     object \n",
      " 9   elastano                                     218 non-null    object \n",
      " 10  lino                                         17 non-null     object \n",
      " 11  viscosa                                      34 non-null     object \n",
      " 12  poliester                                    112 non-null    object \n",
      " 13  modal                                        14 non-null     object \n",
      " 14  otras                                        4 non-null      object \n",
      " 15  liocel                                       9 non-null      object \n",
      " 16  fibra                                        3 non-null      object \n",
      " 17  acrilico                                     2 non-null      object \n",
      " 18  lana                                         3 non-null      object \n",
      " 19  seda                                         2 non-null      object \n",
      " 20  num_materials                                720 non-null    int64  \n",
      " 21  material                                     720 non-null    object \n",
      " 22  num_material                                 720 non-null    int64  \n",
      " 23  material_secundario                          328 non-null    object \n",
      " 24  num_material_secundario                      328 non-null    float64\n",
      " 25  OCS                                          720 non-null    object \n",
      " 26  RCS                                          720 non-null    object \n",
      " 27  reciclado                                    125 non-null    object \n",
      " 28  comprobacion2                                720 non-null    object \n",
      " 29  algodon de cultivo organico certificado OCS  720 non-null    object \n",
      " 30  poliester reciclado                          720 non-null    object \n",
      " 31  algodon reciclado                            720 non-null    object \n",
      " 32  poliamida reciclada certificada RCS          720 non-null    object \n",
      " 33  acrilico reciclado                           720 non-null    object \n",
      " 34  elastano reciclado                           720 non-null    object \n",
      " 35  certificacion                                720 non-null    object \n",
      " 36  intertek                                     720 non-null    bool   \n",
      " 37  porcentaje                                   194 non-null    object \n",
      "dtypes: bool(2), float64(1), int64(3), object(32)\n",
      "memory usage: 225.7+ KB\n"
     ]
    }
   ],
   "source": [
    "tshirt.info()"
   ]
  },
  {
   "cell_type": "code",
   "execution_count": 134,
   "id": "4e20fad6",
   "metadata": {},
   "outputs": [],
   "source": [
    "tshirt = tshirt.drop(columns=['desciption', \"comprobacion\", \"comprobacion2\"])"
   ]
  },
  {
   "cell_type": "code",
   "execution_count": 135,
   "id": "0651f959",
   "metadata": {},
   "outputs": [],
   "source": [
    "tshirt.rename(columns={\n",
    "    \"material\": \"main_txt\",\n",
    "    \"num_materials\": \"total_composition\",\n",
    "    \"num_material\": \"1_composition\",\n",
    "    \"material_secundario\": \"second_txt\",\n",
    "    \"num_material_secundario\": \"2_composition\",\n",
    "    \"reciclado\": \"txt_recycled\",\n",
    "    \"algodon de cultivo organico certificado OCS\": \"cotton_OCS\",\n",
    "    \"poliester reciclado\": \"rec_poliester\",\n",
    "    \"algodon reciclado\": \"rec_cotton\",\n",
    "    \"poliamida reciclada certificada RCS\": \"rec_poliamida\",\n",
    "    \"acrilico reciclado\": \"rec_acrilico\",\n",
    "    \"elastano reciclado\" : \"rec_elastano\"\n",
    "}, inplace=True)"
   ]
  },
  {
   "cell_type": "code",
   "execution_count": 136,
   "id": "405bf37c",
   "metadata": {},
   "outputs": [],
   "source": [
    "#tshirt.info()"
   ]
  },
  {
   "cell_type": "code",
   "execution_count": 137,
   "id": "a153b832",
   "metadata": {},
   "outputs": [],
   "source": [
    "# Función para quitar el símbolo '%'\n",
    "def remove_percent(x):\n",
    "    if isinstance(x, str):\n",
    "        return x.replace('%', '')\n",
    "    return x"
   ]
  },
  {
   "cell_type": "code",
   "execution_count": 138,
   "id": "82c76ecb",
   "metadata": {},
   "outputs": [],
   "source": [
    "tshirt = tshirt.applymap(remove_percent)"
   ]
  },
  {
   "cell_type": "code",
   "execution_count": 139,
   "id": "17f41967",
   "metadata": {},
   "outputs": [],
   "source": [
    "#tshirt.info()"
   ]
  },
  {
   "cell_type": "code",
   "execution_count": 140,
   "id": "a53320ca",
   "metadata": {},
   "outputs": [],
   "source": [
    "columns_to_convert = [\n",
    "    'algodon', 'poliamida', 'elastano', 'lino', 'viscosa', \n",
    "    'poliester', 'modal', 'otras', 'liocel', 'fibra', \n",
    "    'acrilico', 'lana', 'seda', \n",
    "    'cotton_OCS', 'rec_poliester', 'rec_cotton', 'rec_poliamida', \n",
    "    'rec_acrilico', 'rec_elastano', 'porcentaje'\n",
    "]\n",
    "\n",
    "# Convertir las columnas especificadas a numérico\n",
    "for column in columns_to_convert:\n",
    "    tshirt[column] = pd.to_numeric(tshirt[column], errors='coerce')"
   ]
  },
  {
   "cell_type": "code",
   "execution_count": 141,
   "id": "b1d8b7bd",
   "metadata": {},
   "outputs": [],
   "source": [
    "tshirt['price'] = pd.to_numeric(tshirt['price'].str.replace(',', '.'), errors='coerce')"
   ]
  },
  {
   "cell_type": "code",
   "execution_count": 142,
   "id": "55b44660",
   "metadata": {},
   "outputs": [],
   "source": [
    "#tshirt.info()"
   ]
  },
  {
   "cell_type": "code",
   "execution_count": 143,
   "id": "d339c342",
   "metadata": {},
   "outputs": [],
   "source": [
    "columns1 = ['algodon', 'poliamida', 'elastano', 'lino', 'viscosa', 'poliester', 'modal', 'otras', 'liocel',\n",
    "                     'fibra', 'acrilico', 'lana', 'seda', '1_composition', '2_composition', 'cotton_OCS', 'rec_poliester',\n",
    "                     'rec_cotton', 'rec_poliamida', 'rec_acrilico','rec_elastano', 'porcentaje']\n",
    "\n",
    "tshirt[columns1] = tshirt[columns1].apply(lambda x: x / 100)"
   ]
  },
  {
   "cell_type": "code",
   "execution_count": 144,
   "id": "53131bf0",
   "metadata": {},
   "outputs": [],
   "source": [
    "#pd.set_option('display.max_columns', None)\n",
    "#tshirt.head()"
   ]
  },
  {
   "cell_type": "code",
   "execution_count": 145,
   "id": "8a1d9347",
   "metadata": {},
   "outputs": [
    {
     "data": {
      "text/plain": [
       "17.563995548135782"
      ]
     },
     "execution_count": 145,
     "metadata": {},
     "output_type": "execute_result"
    }
   ],
   "source": [
    "# Calcular el total de certificaciones OCS y el total de algodón en todas las prendas\n",
    "total_OCS = tshirt['OCS'].eq('OCS').sum()\n",
    "total_algodon = tshirt['algodon'].sum()\n",
    "\n",
    "# Calcular el porcentaje de OCS en función del total de algodón\n",
    "porcentaje_OCS_total = (total_OCS / total_algodon) * 100\n",
    "porcentaje_OCS_total"
   ]
  },
  {
   "cell_type": "code",
   "execution_count": 146,
   "id": "c5f9a2ff",
   "metadata": {},
   "outputs": [
    {
     "name": "stdout",
     "output_type": "stream",
     "text": [
      "<class 'pandas.core.frame.DataFrame'>\n",
      "Index: 720 entries, 0 to 728\n",
      "Data columns (total 35 columns):\n",
      " #   Column             Non-Null Count  Dtype  \n",
      "---  ------             --------------  -----  \n",
      " 0   index              720 non-null    int64  \n",
      " 1   product_name       720 non-null    object \n",
      " 2   price              720 non-null    float64\n",
      " 3   made_in            720 non-null    object \n",
      " 4   standard_soc_ma    720 non-null    bool   \n",
      " 5   algodon            622 non-null    float64\n",
      " 6   poliamida          48 non-null     float64\n",
      " 7   elastano           218 non-null    float64\n",
      " 8   lino               17 non-null     float64\n",
      " 9   viscosa            34 non-null     float64\n",
      " 10  poliester          112 non-null    float64\n",
      " 11  modal              14 non-null     float64\n",
      " 12  otras              4 non-null      float64\n",
      " 13  liocel             9 non-null      float64\n",
      " 14  fibra              3 non-null      float64\n",
      " 15  acrilico           2 non-null      float64\n",
      " 16  lana               3 non-null      float64\n",
      " 17  seda               2 non-null      float64\n",
      " 18  total_composition  720 non-null    int64  \n",
      " 19  main_txt           720 non-null    object \n",
      " 20  1_composition      720 non-null    float64\n",
      " 21  second_txt         328 non-null    object \n",
      " 22  2_composition      328 non-null    float64\n",
      " 23  OCS                720 non-null    object \n",
      " 24  RCS                720 non-null    object \n",
      " 25  txt_recycled       125 non-null    object \n",
      " 26  cotton_OCS         101 non-null    float64\n",
      " 27  rec_poliester      62 non-null     float64\n",
      " 28  rec_cotton         59 non-null     float64\n",
      " 29  rec_poliamida      36 non-null     float64\n",
      " 30  rec_acrilico       2 non-null      float64\n",
      " 31  rec_elastano       1 non-null      float64\n",
      " 32  certificacion      720 non-null    object \n",
      " 33  intertek           720 non-null    bool   \n",
      " 34  porcentaje         136 non-null    float64\n",
      "dtypes: bool(2), float64(23), int64(2), object(8)\n",
      "memory usage: 208.8+ KB\n"
     ]
    }
   ],
   "source": [
    "tshirt.info()"
   ]
  },
  {
   "cell_type": "code",
   "execution_count": 147,
   "id": "d899ce1e",
   "metadata": {},
   "outputs": [],
   "source": [
    "#tshirt.to_csv(\"tshirt_final.csv\", index=True)"
   ]
  },
  {
   "cell_type": "markdown",
   "id": "e4c0c9d8",
   "metadata": {},
   "source": [
    "### EDA"
   ]
  },
  {
   "cell_type": "code",
   "execution_count": 148,
   "id": "db910483",
   "metadata": {},
   "outputs": [
    {
     "name": "stdout",
     "output_type": "stream",
     "text": [
      " el % de OCS es: OCS\n",
      "       85.972222\n",
      "OCS    14.027778\n",
      "Name: count, dtype: float64 y el de RCS es RCS\n",
      "       87.083333\n",
      "RCS    12.916667\n",
      "Name: count, dtype: float64\n"
     ]
    }
   ],
   "source": [
    "total_rows = len(tshirt)\n",
    "ocs_percentage = (tshirt['OCS'].value_counts() / total_rows) * 100\n",
    "rcs_percentage = (tshirt['RCS'].value_counts() / total_rows) * 100\n",
    "\n",
    "print(f\" el % de OCS es: {ocs_percentage} y el de RCS es {rcs_percentage}\")"
   ]
  },
  {
   "cell_type": "code",
   "execution_count": null,
   "id": "a3c51c9c",
   "metadata": {},
   "outputs": [],
   "source": []
  }
 ],
 "metadata": {
  "kernelspec": {
   "display_name": "Python 3 (ipykernel)",
   "language": "python",
   "name": "python3"
  },
  "language_info": {
   "codemirror_mode": {
    "name": "ipython",
    "version": 3
   },
   "file_extension": ".py",
   "mimetype": "text/x-python",
   "name": "python",
   "nbconvert_exporter": "python",
   "pygments_lexer": "ipython3",
   "version": "3.11.7"
  }
 },
 "nbformat": 4,
 "nbformat_minor": 5
}
