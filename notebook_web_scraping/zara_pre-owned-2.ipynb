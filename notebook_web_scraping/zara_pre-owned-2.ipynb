{
 "cells": [
  {
   "cell_type": "code",
   "execution_count": 177,
   "id": "35ad996b",
   "metadata": {},
   "outputs": [],
   "source": [
    "import os\n",
    "import time\n",
    "import pandas as pd\n",
    "import requests\n",
    "\n",
    "# pip install selenium\n",
    "from selenium import webdriver\n",
    "from selenium.webdriver.common.keys import Keys\n",
    "from selenium.webdriver.common.by import By\n",
    "from selenium.webdriver.support.ui import WebDriverWait\n",
    "from selenium.webdriver.support import expected_conditions as EC\n",
    "from selenium import webdriver\n",
    "from selenium.webdriver.support.ui import Select\n",
    "from selenium import webdriver\n",
    "from selenium.webdriver.common.action_chains import ActionChains\n",
    "\n",
    "from bs4 import BeautifulSoup # pip install beautifulsoup4\n",
    "\n",
    "from datetime import datetime\n",
    "\n",
    "import numpy as np"
   ]
  },
  {
   "cell_type": "code",
   "execution_count": 24,
   "id": "6dd1b557",
   "metadata": {},
   "outputs": [],
   "source": [
    "def open_url(url):\n",
    "    \n",
    "    \"Starst the webdriver with a given url\"\n",
    "    \n",
    "    driver = webdriver.Chrome()  \n",
    "    actions = ActionChains(driver)\n",
    "    #wait = WebDriverWait(driver, 20)\n",
    "    #driver.maximize_window()\n",
    "    driver.get(url)\n",
    "    return driver"
   ]
  },
  {
   "cell_type": "code",
   "execution_count": 226,
   "id": "8db5a227",
   "metadata": {},
   "outputs": [],
   "source": [
    "url = \"https://www.zara.com/ek/es/preowned-resell/products/mujer-l700/new-in--l2250\"\n",
    "driver = open_url(url)"
   ]
  },
  {
   "cell_type": "code",
   "execution_count": 227,
   "id": "dfc54561",
   "metadata": {},
   "outputs": [],
   "source": [
    "# Primero entramos a la pagina web y sacamos tos los productos\n",
    "products = driver.find_elements(By.CLASS_NAME, \"generic-product-card\")\n",
    "rango = len(products)\n",
    "i = 0\n",
    "productos_list = []"
   ]
  },
  {
   "cell_type": "code",
   "execution_count": 1,
   "id": "63a26a7a",
   "metadata": {},
   "outputs": [
    {
     "ename": "IndentationError",
     "evalue": "expected an indented block after 'except' statement on line 10 (3991964861.py, line 13)",
     "output_type": "error",
     "traceback": [
      "\u001b[0;36m  Cell \u001b[0;32mIn[1], line 13\u001b[0;36m\u001b[0m\n\u001b[0;31m    driver.back()\u001b[0m\n\u001b[0m    ^\u001b[0m\n\u001b[0;31mIndentationError\u001b[0m\u001b[0;31m:\u001b[0m expected an indented block after 'except' statement on line 10\n"
     ]
    }
   ],
   "source": [
    "while i < rango:\n",
    "    products[i].click()\n",
    "    time.sleep(3)\n",
    "    \n",
    "    try:\n",
    "        fila = extraer_info(driver)\n",
    "        #print(f\" Info extraida de posicion{i}.\")\n",
    "        productos_list.append(fila)\n",
    "        \n",
    "    except: \n",
    "        #print(f\"doble element in position {i}\")\n",
    "    \n",
    "    driver.back()\n",
    "    time.sleep(1)\n",
    "    products = driver.find_elements(By.CLASS_NAME, \"generic-product-card\")\n",
    "    i += 1\n",
    "    #si llega al ultimo elemento de los que detecta desde la ultima posicion, \n",
    "    #se mueve al ultimo elemento y vuelve a buscar todos los productos\n",
    "    if i == rango-1:\n",
    "        ActionChains(driver).scroll_to_element(products[-1]).perform()\n",
    "        time.sleep(2)\n",
    "        products = driver.find_elements(By.CLASS_NAME, \"generic-product-card\")\n",
    "        rango = len(products)\n",
    "\n",
    "df = pd.DataFrame(productos_list)"
   ]
  },
  {
   "cell_type": "code",
   "execution_count": 229,
   "id": "95238f9f",
   "metadata": {},
   "outputs": [
    {
     "data": {
      "text/html": [
       "<div>\n",
       "<style scoped>\n",
       "    .dataframe tbody tr th:only-of-type {\n",
       "        vertical-align: middle;\n",
       "    }\n",
       "\n",
       "    .dataframe tbody tr th {\n",
       "        vertical-align: top;\n",
       "    }\n",
       "\n",
       "    .dataframe thead th {\n",
       "        text-align: right;\n",
       "    }\n",
       "</style>\n",
       "<table border=\"1\" class=\"dataframe\">\n",
       "  <thead>\n",
       "    <tr style=\"text-align: right;\">\n",
       "      <th></th>\n",
       "      <th>product_name</th>\n",
       "      <th>price</th>\n",
       "      <th>detail</th>\n",
       "      <th>year_purchase</th>\n",
       "    </tr>\n",
       "  </thead>\n",
       "  <tbody>\n",
       "    <tr>\n",
       "      <th>0</th>\n",
       "      <td>VESTIDO CUADRO VICHY</td>\n",
       "      <td>14,00 EUR</td>\n",
       "      <td>[Como nuevo]</td>\n",
       "      <td>2022</td>\n",
       "    </tr>\n",
       "    <tr>\n",
       "      <th>1</th>\n",
       "      <td>ZAPATO DESTALONADO ACHAROLADO PULSERAS</td>\n",
       "      <td>29,95 EUR</td>\n",
       "      <td>[Nuevo con etiquetas]</td>\n",
       "      <td>2023</td>\n",
       "    </tr>\n",
       "    <tr>\n",
       "      <th>2</th>\n",
       "      <td>CAMISETA RIB TIRANTES</td>\n",
       "      <td>9,00 EUR</td>\n",
       "      <td>[Como nuevo]</td>\n",
       "      <td>2023</td>\n",
       "    </tr>\n",
       "    <tr>\n",
       "      <th>3</th>\n",
       "      <td>PANTALÓN FALDA PLISADA</td>\n",
       "      <td>10,00 EUR</td>\n",
       "      <td>[Como nuevo]</td>\n",
       "      <td>2020</td>\n",
       "    </tr>\n",
       "    <tr>\n",
       "      <th>4</th>\n",
       "      <td>PAÑUELO ESTAMPADO FLORAL</td>\n",
       "      <td>9,9 EUR</td>\n",
       "      <td>[Como nuevo]</td>\n",
       "      <td></td>\n",
       "    </tr>\n",
       "    <tr>\n",
       "      <th>...</th>\n",
       "      <td>...</td>\n",
       "      <td>...</td>\n",
       "      <td>...</td>\n",
       "      <td>...</td>\n",
       "    </tr>\n",
       "    <tr>\n",
       "      <th>262</th>\n",
       "      <td>SHORTS BARBIE™ MATTEL</td>\n",
       "      <td>12,95 EUR</td>\n",
       "      <td>[Nuevo con etiquetas]</td>\n",
       "      <td>2023</td>\n",
       "    </tr>\n",
       "    <tr>\n",
       "      <th>263</th>\n",
       "      <td>JEANS TRF WIDE LEG TIRO MEDIO FULL LENGTH</td>\n",
       "      <td>8,00 EUR</td>\n",
       "      <td>[Como nuevo]</td>\n",
       "      <td>2023</td>\n",
       "    </tr>\n",
       "    <tr>\n",
       "      <th>264</th>\n",
       "      <td>PENDIENTES CASCADA BRILLOS</td>\n",
       "      <td>12,00 EUR</td>\n",
       "      <td>[Nuevo con etiquetas]</td>\n",
       "      <td>2022</td>\n",
       "    </tr>\n",
       "    <tr>\n",
       "      <th>265</th>\n",
       "      <td>TOP BUSTIER LIMITED EDITION</td>\n",
       "      <td>15,00 EUR</td>\n",
       "      <td>[Como nuevo]</td>\n",
       "      <td></td>\n",
       "    </tr>\n",
       "    <tr>\n",
       "      <th>266</th>\n",
       "      <td>FALDA CUADROS NUDO</td>\n",
       "      <td>15,00 EUR</td>\n",
       "      <td>[Como nuevo]</td>\n",
       "      <td></td>\n",
       "    </tr>\n",
       "  </tbody>\n",
       "</table>\n",
       "<p>267 rows × 4 columns</p>\n",
       "</div>"
      ],
      "text/plain": [
       "                                  product_name      price  \\\n",
       "0                         VESTIDO CUADRO VICHY  14,00 EUR   \n",
       "1       ZAPATO DESTALONADO ACHAROLADO PULSERAS  29,95 EUR   \n",
       "2                        CAMISETA RIB TIRANTES   9,00 EUR   \n",
       "3                       PANTALÓN FALDA PLISADA  10,00 EUR   \n",
       "4                     PAÑUELO ESTAMPADO FLORAL    9,9 EUR   \n",
       "..                                         ...        ...   \n",
       "262                      SHORTS BARBIE™ MATTEL  12,95 EUR   \n",
       "263  JEANS TRF WIDE LEG TIRO MEDIO FULL LENGTH   8,00 EUR   \n",
       "264                 PENDIENTES CASCADA BRILLOS  12,00 EUR   \n",
       "265                TOP BUSTIER LIMITED EDITION  15,00 EUR   \n",
       "266                         FALDA CUADROS NUDO  15,00 EUR   \n",
       "\n",
       "                    detail year_purchase  \n",
       "0             [Como nuevo]          2022  \n",
       "1    [Nuevo con etiquetas]          2023  \n",
       "2             [Como nuevo]          2023  \n",
       "3             [Como nuevo]          2020  \n",
       "4             [Como nuevo]                \n",
       "..                     ...           ...  \n",
       "262  [Nuevo con etiquetas]          2023  \n",
       "263           [Como nuevo]          2023  \n",
       "264  [Nuevo con etiquetas]          2022  \n",
       "265           [Como nuevo]                \n",
       "266           [Como nuevo]                \n",
       "\n",
       "[267 rows x 4 columns]"
      ]
     },
     "execution_count": 229,
     "metadata": {},
     "output_type": "execute_result"
    }
   ],
   "source": [
    "df = pd.DataFrame(productos_list)\n",
    "df"
   ]
  },
  {
   "cell_type": "code",
   "execution_count": 209,
   "id": "79cc478a",
   "metadata": {},
   "outputs": [],
   "source": [
    "def extraer_info(driver):\n",
    "    \n",
    "    page = driver.page_source\n",
    "\n",
    "    info = BeautifulSoup(page, \"html.parser\")\n",
    "    \n",
    "    product_name = info.find(\"div\", class_=\"product-detail-ws__details__product__name zds-heading-s\").text\n",
    "    price = info.find(\"div\", class_=\"product-detail-ws__details__product__price zds-heading-s\").text\n",
    "    detail = [item.get_text(strip=True) for item in info.find_all(\"div\", class_=\"product-detail-ws__details__product__condition zds-heading-s\")]\n",
    "    year_purchase = info.find(\"div\", class_=\"product-detail-ws__details__product__year-purchase zds-paragraph-m\").text.split(\":\")[-1]\n",
    "    info_vendedor = [item.get_text(strip=True) for item in source1.find_all(\"div\", class_=\"product-detail-ws__details__seller-comment zds-paragraph-m\")]\n",
    "    \n",
    "    return {\"product_name\": product_name, \n",
    "            \"price\" : price, \n",
    "            \"detail\" : detail, \n",
    "            \"year_purchase\" : year_purchase,\n",
    "            \"detail\" : info_vendedor}\n"
   ]
  },
  {
   "cell_type": "code",
   "execution_count": 104,
   "id": "653039df",
   "metadata": {},
   "outputs": [],
   "source": [
    "products = driver.find_elements(By.CLASS_NAME, \"generic-product-card\")"
   ]
  },
  {
   "cell_type": "code",
   "execution_count": 102,
   "id": "b72a5aae",
   "metadata": {},
   "outputs": [],
   "source": [
    "lista = [p.text for p in products]\n",
    "todos.append(lista)"
   ]
  },
  {
   "cell_type": "code",
   "execution_count": null,
   "id": "1951e550",
   "metadata": {},
   "outputs": [],
   "source": [
    "\n",
    "while True:\n",
    "    products = driver.find_elements(By.CLASS_NAME, \"generic-product-card\")\n",
    "    ActionChains(driver).scroll_to_element(products[-1]).perform()\n",
    "    time.sleep(2)\n",
    "    print(len(products))"
   ]
  },
  {
   "cell_type": "code",
   "execution_count": 113,
   "id": "e1f7351c",
   "metadata": {},
   "outputs": [],
   "source": [
    "ActionChains(driver).scroll_to_element(products[-1]).perform()"
   ]
  },
  {
   "cell_type": "code",
   "execution_count": 112,
   "id": "b3dec51e",
   "metadata": {},
   "outputs": [],
   "source": [
    "products = driver.find_elements(By.CLASS_NAME, \"generic-product-card\")"
   ]
  }
 ],
 "metadata": {
  "kernelspec": {
   "display_name": "Python 3 (ipykernel)",
   "language": "python",
   "name": "python3"
  },
  "language_info": {
   "codemirror_mode": {
    "name": "ipython",
    "version": 3
   },
   "file_extension": ".py",
   "mimetype": "text/x-python",
   "name": "python",
   "nbconvert_exporter": "python",
   "pygments_lexer": "ipython3",
   "version": "3.11.7"
  }
 },
 "nbformat": 4,
 "nbformat_minor": 5
}
